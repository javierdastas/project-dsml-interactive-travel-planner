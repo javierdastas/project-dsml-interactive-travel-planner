{
 "cells": [
  {
   "cell_type": "code",
   "execution_count": null,
   "id": "7a69b6d9-2660-44b8-a4ee-c835a66125a0",
   "metadata": {},
   "outputs": [],
   "source": []
  },
  {
   "cell_type": "code",
   "execution_count": 10,
   "id": "da10c04f-88bb-4b90-9d79-03b60ba856e7",
   "metadata": {},
   "outputs": [
    {
     "name": "stdout",
     "output_type": "stream",
     "text": [
      "Web Wranggling from Wikipedia ...\n",
      "Processing..............................................................................\n",
      "Data processing for munipalities end.\n"
     ]
    }
   ],
   "source": [
    "import pandas as pd\n",
    "\n",
    "from python_code import extract_wikipedia_data\n",
    "\n",
    "# Example usage\n",
    "municipalities_df = pd.read_csv('./datasets/municipalities_of_puerto_rico.csv')\n",
    "\n",
    "# print(municipalities_df.head(3).Name)\n",
    "# print()\n",
    "\n",
    "municipalities = municipalities_df.Name\n",
    "\n",
    "print('Web Wranggling from Wikipedia ...')\n",
    "\n",
    "print('Processing',end='')\n",
    "\n",
    "data = []\n",
    "\n",
    "# print(len(municipalities))\n",
    "\n",
    "for municipality in municipalities:\n",
    "    # print(municipality)\n",
    "    print('.', end='')\n",
    "    data.append(extract_wikipedia_data(municipality))\n",
    "    \n",
    "print('\\nData processing for munipalities end.')\n",
    "\n",
    "# print('\\n\\nData Example:')\n",
    "# Test with municipality (0-77)\n",
    "# result = extract_wikipedia_data(municipalities[1])\n",
    "# print(result)"
   ]
  },
  {
   "cell_type": "code",
   "execution_count": null,
   "id": "ea4eb406-af94-46b1-ab05-b89ed260a66b",
   "metadata": {},
   "outputs": [],
   "source": []
  },
  {
   "cell_type": "code",
   "execution_count": 12,
   "id": "3229f3d7-b3ca-4e36-86ee-079d6316ad14",
   "metadata": {},
   "outputs": [
    {
     "name": "stdout",
     "output_type": "stream",
     "text": [
      "Data saved to puerto_rico_municipalities.json\n"
     ]
    }
   ],
   "source": [
    "# Save the data into a JSON File\n",
    "with open('./datasets/puerto_rico_municipalities.json', 'w') as file:\n",
    "    json.dump(data, file, indent=4)\n",
    "\n",
    "print('Data saved to puerto_rico_municipalities.json')"
   ]
  },
  {
   "cell_type": "code",
   "execution_count": null,
   "id": "9d2ad8f4-23de-4ba6-81c3-b4df72d26b4b",
   "metadata": {},
   "outputs": [],
   "source": []
  }
 ],
 "metadata": {
  "kernelspec": {
   "display_name": "Python (base)",
   "language": "python",
   "name": "base"
  },
  "language_info": {
   "codemirror_mode": {
    "name": "ipython",
    "version": 3
   },
   "file_extension": ".py",
   "mimetype": "text/x-python",
   "name": "python",
   "nbconvert_exporter": "python",
   "pygments_lexer": "ipython3",
   "version": "3.12.2"
  }
 },
 "nbformat": 4,
 "nbformat_minor": 5
}
