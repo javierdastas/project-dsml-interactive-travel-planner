{
 "cells": [
  {
   "cell_type": "code",
   "execution_count": null,
   "id": "8f84ebe9-00fe-480b-b836-398cce7648f0",
   "metadata": {},
   "outputs": [],
   "source": []
  },
  {
   "cell_type": "code",
   "execution_count": 217,
   "id": "27d778df-0fb8-4cc4-ba87-ecbc1040fd51",
   "metadata": {},
   "outputs": [
    {
     "name": "stdout",
     "output_type": "stream",
     "text": [
      "Processing landmarks .....................................................................................................................................................................................................\n",
      "Data successfully created.\n"
     ]
    }
   ],
   "source": [
    "import requests\n",
    "from bs4 import BeautifulSoup\n",
    "import json\n",
    "\n",
    "# URL de la página\n",
    "url = \"https://en.wikipedia.org/wiki/List_of_Puerto_Rico_landmarks\"\n",
    "\n",
    "# Realizar la solicitud\n",
    "response = requests.get(url)\n",
    "soup = BeautifulSoup(response.content, 'html.parser')\n",
    "\n",
    "# Inicializar las estructuras de datos\n",
    "data = {\"sections\": []}\n",
    "\n",
    "h2_and_lists = []\n",
    "capture = False\n",
    "\n",
    "content_div = soup.select_one(\"#mw-content-text > div.mw-content-ltr.mw-parser-output\")\n",
    "start_id = \"Adjuntas\"\n",
    "\n",
    "print('Processing landmarks',end=' ')\n",
    "for element in content_div.find_all(['h2', 'ul']):\n",
    "    # print(element)\n",
    "    print('.', end='')\n",
    "\n",
    "    if element == 'See_also' and capture:\n",
    "        break\n",
    "    \n",
    "\n",
    "    if element.name in ['h2']:\n",
    "        text = element.get_text(separator=' ', strip=True)\n",
    "\n",
    "    # if capture and element.name in ['ul']:\n",
    "    if element.name in ['ul']:\n",
    "        list_items = [li.get_text(separator=' ', strip=True) for li in element.find_all('li')]\n",
    "        list_items = list(filter(bool, list_items))\n",
    "        if list_items:\n",
    "            # formatted_list = \"\\n  - \" + \"\\n  - \".join(list_items)\n",
    "            for item in list_items:\n",
    "                data[\"sections\"].append({\n",
    "                    \"place\": item,\n",
    "                    \"city\": text\n",
    "                })\n",
    "\n",
    "print(\"\\nData transformation successfully.\")"
   ]
  },
  {
   "cell_type": "code",
   "execution_count": 221,
   "id": "81f0ba47-7115-4642-acc9-7b784e038ff4",
   "metadata": {},
   "outputs": [
    {
     "name": "stdout",
     "output_type": "stream",
     "text": [
      "{'place': 'Casa Pueblo', 'city': 'Adjuntas'}\n",
      "945\n"
     ]
    }
   ],
   "source": [
    "# Test to find Landmark City\n",
    "\n",
    "place_name = 'Casa Pueblo'\n",
    "\n",
    "city_object = next((section for section in data[\"sections\"] if section[\"place\"] == place_name), None)\n",
    "\n",
    "print(city_object)\n",
    "print(len(data['sections']))    "
   ]
  },
  {
   "cell_type": "code",
   "execution_count": null,
   "id": "43f1f275-5a41-43d8-bbec-0d27659af3b9",
   "metadata": {},
   "outputs": [],
   "source": []
  },
  {
   "cell_type": "code",
   "execution_count": 331,
   "id": "ff20f7de-b6c2-47b4-9289-db4ff91dbcae",
   "metadata": {},
   "outputs": [
    {
     "name": "stdout",
     "output_type": "stream",
     "text": [
      "Processing .......................................................................................................................................................................................................................................................................................................................................................................................................................................................................................................................................................................................................................................................................................................................\n",
      "Data successfully created.\n"
     ]
    }
   ],
   "source": [
    "import requests\n",
    "from bs4 import BeautifulSoup\n",
    "import json\n",
    "import re\n",
    "\n",
    "# URL base y página inicial\n",
    "base_url = \"https://en.wikipedia.org\"\n",
    "start_url = \"https://en.wikipedia.org/wiki/List_of_Puerto_Rico_landmarks\"\n",
    "\n",
    "# Realizar la solicitud a la página principal\n",
    "response = requests.get(start_url)\n",
    "soup = BeautifulSoup(response.content, 'html.parser')\n",
    "\n",
    "def clean_content(text):\n",
    "    # Replace accented characters and special cases\n",
    "    replacements = {\n",
    "        'á': 'a', 'é': 'e', 'í': 'i', 'ó': 'o', 'ú': 'u',\n",
    "        'Á': 'A', 'É': 'E', 'Í': 'I', 'Ó': 'O', 'Ú': 'U',\n",
    "        'ñ': 'n', 'Ñ': 'N', 'ü': 'u', 'Ü': 'U'\n",
    "    }\n",
    "    \n",
    "    # Replace each character in the dictionary\n",
    "    for accented_char, replacement_char in replacements.items():\n",
    "        text = text.replace(accented_char, replacement_char)\n",
    "\n",
    "    # Remove references like [1], [ 99 ], etc.\n",
    "    text = re.sub(r'\\[\\s*[a-z0-9]*\\s*\\]', '', text)\n",
    "\n",
    "    # Remove extra spaces\n",
    "    text = re.sub(r'\\s+', ' ', text)\n",
    "\n",
    "    # Return cleaned text\n",
    "    return text.strip()\n",
    "\n",
    "def get_general_paragraphs(soup):\n",
    "    content_div = soup.select_one(\"#mw-content-text > div.mw-parser-output\")\n",
    "    if content_div:\n",
    "        paragraphs = content_div.find_all(\"p\")\n",
    "        return [clean_content(p.get_text(separator=' ', strip=True)) for p in paragraphs if p.get_text(strip=True)]\n",
    "    return []\n",
    "\n",
    "# Inicializar estructura para almacenar los datos\n",
    "landmarks = []\n",
    "\n",
    "print('Processing ', end='')\n",
    "# Buscar todos los enlaces de los lugares destacados\n",
    "for link in soup.select(\".mw-parser-output ul li a\"):    \n",
    "    place_name = link.get_text(separator=' ', strip=True)\n",
    "    # print(f\"{place_name}\", end=', ')\n",
    "    print(f\".\", end='')\n",
    "    \n",
    "    relative_url = link['href']\n",
    "    full_url = base_url + relative_url\n",
    "\n",
    "    # Realizar la solicitud a cada página de lugar\n",
    "    place_response = requests.get(full_url)\n",
    "    place_soup = BeautifulSoup(place_response.content, 'html.parser')\n",
    "\n",
    "    # Extraer descripción breve del primer párrafo\n",
    "    # description_tag = place_soup.find_all('p')\n",
    "    general_info = get_general_paragraphs(place_soup)\n",
    "\n",
    "    if len(general_info) > 0:\n",
    "        description = '  '.join(general_info[:2])\n",
    "    \n",
    "    # Extraer imagen preview (si existe)\n",
    "    image_tag = place_soup.find('img')\n",
    "    image_url = \"https:\" + image_tag['src'] if image_tag else \"No image available\"\n",
    "\n",
    "    # print(place_name, end='  ')\n",
    "    city_object = next((section for section in data[\"sections\"] if place_name in section[\"place\"]), None)\n",
    "\n",
    "    # print(city_object)\n",
    "    # Guardar en la estructura de datos\n",
    "    landmarks.append({\n",
    "        \"content\": description,        \n",
    "        \"metadata\": {\n",
    "            \"type\": \"landmark\",\n",
    "            \"city\": city_object[\"city\"],\n",
    "            \"name\": city_object[\"place\"],\n",
    "            \"categories\" : [],\n",
    "            \"url\": full_url,            \n",
    "            \"image_url\": image_url\n",
    "        }\n",
    "    })\n",
    "\n",
    "# print(landmarks[0])\n",
    "print(\"\\nData successfully created.\")"
   ]
  },
  {
   "cell_type": "code",
   "execution_count": 333,
   "id": "e0d9c851-c213-40f2-85c0-2b37c79932a0",
   "metadata": {},
   "outputs": [
    {
     "name": "stdout",
     "output_type": "stream",
     "text": [
      "Data saved to puerto_rico_landmarks.json\n"
     ]
    }
   ],
   "source": [
    "# Save the data into a JSON File\n",
    "with open('./datasets/puerto_rico_landmarks.json', 'w') as file:\n",
    "    json.dump(landmarks, file, indent=4)\n",
    "\n",
    "print('Data saved to puerto_rico_landmarks.json')"
   ]
  },
  {
   "cell_type": "code",
   "execution_count": null,
   "id": "ce05fcd4-fa22-4768-b806-14d713db2088",
   "metadata": {},
   "outputs": [],
   "source": []
  }
 ],
 "metadata": {
  "kernelspec": {
   "display_name": "Python (base)",
   "language": "python",
   "name": "base"
  },
  "language_info": {
   "codemirror_mode": {
    "name": "ipython",
    "version": 3
   },
   "file_extension": ".py",
   "mimetype": "text/x-python",
   "name": "python",
   "nbconvert_exporter": "python",
   "pygments_lexer": "ipython3",
   "version": "3.12.2"
  }
 },
 "nbformat": 4,
 "nbformat_minor": 5
}
