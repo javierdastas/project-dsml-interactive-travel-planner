{
 "cells": [
  {
   "cell_type": "markdown",
   "id": "57d12a37-3d0e-4739-94b6-3766992f8a9b",
   "metadata": {},
   "source": [
    "# Data Pre-Processing \n",
    "1. Extracting ZIP files.\n",
    "2. Reading and cleaning HTML.\n",
    "3. Structuring data into a readable and organized format.\n",
    "4. Exporting to JSON or CSV for use in further steps."
   ]
  },
  {
   "cell_type": "code",
   "execution_count": 34,
   "id": "68bd19de-1ea4-4e7c-a78c-b6c2087373cd",
   "metadata": {},
   "outputs": [],
   "source": [
    "import os\n",
    "import zipfile\n",
    "import json\n",
    "import pandas as pd\n",
    "from bs4 import BeautifulSoup\n",
    "\n",
    "import re"
   ]
  },
  {
   "cell_type": "code",
   "execution_count": 9,
   "id": "24ebd0ad-de4d-4514-8c5f-99aac1de4efe",
   "metadata": {},
   "outputs": [],
   "source": [
    "        \n",
    "# File Path\n",
    "dir_path = './data/'"
   ]
  },
  {
   "cell_type": "code",
   "execution_count": 30,
   "id": "2cd3daac-2fa7-4d24-a0b6-8b918b53a85a",
   "metadata": {},
   "outputs": [],
   "source": [
    "# Function to extract ZIP files\n",
    "def extract_zip(zip_path, extract_path):\n",
    "    if not os.path.exists(extract_path):\n",
    "        os.makedirs(extract_path)\n",
    "    with zipfile.ZipFile(zip_path, 'r') as zip_ref:\n",
    "        zip_ref.extractall(extract_path)\n",
    "\n",
    "# Function to clean HTML and extract useful information\n",
    "def clean_html_content(file_path):\n",
    "    with open(file_path, 'r', encoding='utf-8') as file:\n",
    "        soup = BeautifulSoup(file, 'html.parser')\n",
    "        \n",
    "        # Extract title\n",
    "        title = soup.title.string if soup.title else \"No Title\"\n",
    "        \n",
    "        # Extract significant paragraphs\n",
    "        paragraphs = [p.get_text() for p in soup.find_all('p')]\n",
    "        main_content = \"\\n\".join(paragraphs[:5])  # Limit to the first 5 relevant paragraphs\n",
    "        \n",
    "        # Remove references like [1], [2], [6] from the text\n",
    "        clean_content = re.sub(r'\\[\\d+\\]', '', main_content)\n",
    "        \n",
    "        return {\"title\": title, \"content\": clean_content}\n",
    "\n",
    "# Function to process all files in a folder\n",
    "def process_files_in_folder(folder_path):\n",
    "    processed_data = []\n",
    "    for file_name in os.listdir(folder_path):\n",
    "        file_path = os.path.join(folder_path, file_name)\n",
    "        if os.path.isfile(file_path) and file_name.endswith('.txt'):\n",
    "            data = clean_html_content(file_path)\n",
    "            data[\"file_name\"] = file_name  # Add the file name for reference\n",
    "            processed_data.append(data)\n",
    "    return processed_data\n",
    "\n",
    "# Function to save processed data in JSON or CSV format\n",
    "def save_data(processed_data, output_path, output_format=\"json\"):\n",
    "    if output_format == \"json\":\n",
    "        with open(output_path, 'w', encoding='utf-8') as json_file:\n",
    "            json.dump(processed_data, json_file, ensure_ascii=False, indent=4)\n",
    "    elif output_format == \"csv\":\n",
    "        df = pd.DataFrame(processed_data)\n",
    "        df.to_csv(output_path, index=False, encoding='utf-8')\n",
    "\n",
    "# Input and output paths\n",
    "landmarks_zip_path = f'{dir_path}landmarks.zip'\n",
    "municipalities_zip_path = f'{dir_path}municipalities.zip'\n",
    "landmarks_extracted_path = f'{dir_path}landmarks/'\n",
    "municipalities_extracted_path = f'{dir_path}municipalities/'\n",
    "landmarks_output_path = f'{dir_path}processed_landmarks.json'\n",
    "municipalities_output_path = f'{dir_path}processed_municipalities.json'"
   ]
  },
  {
   "cell_type": "code",
   "execution_count": null,
   "id": "67750d31-0223-493c-9ac9-fd30e6deddad",
   "metadata": {},
   "outputs": [],
   "source": []
  },
  {
   "cell_type": "code",
   "execution_count": null,
   "id": "17946678-410c-47c1-93f1-1326af09f290",
   "metadata": {},
   "outputs": [],
   "source": [
    "# Main process\n",
    "print(\"Processing start (unzipping) ...\")\n",
    "# Extract datasets\n",
    "extract_zip(landmarks_zip_path, landmarks_extracted_path)\n",
    "extract_zip(municipalities_zip_path, municipalities_extracted_path)"
   ]
  },
  {
   "cell_type": "code",
   "execution_count": 36,
   "id": "603649b8-c92e-41ca-a8d8-ebbd9e06d037",
   "metadata": {},
   "outputs": [
    {
     "name": "stdout",
     "output_type": "stream",
     "text": [
      "Transforming start ...\n",
      "Processing completed. Data saved at:\n",
      "- ./data/processed_landmarks.json\n",
      "- ./data/processed_municipalities.json\n"
     ]
    }
   ],
   "source": [
    "print(\"Transforming start ...\")\n",
    "\n",
    "# Process landmarks\n",
    "landmarks_folder = os.path.join(landmarks_extracted_path, 'landmarks')\n",
    "landmarks_data = process_files_in_folder(landmarks_folder)\n",
    "sorted_landmarks_data = sorted(landmarks_data, key=lambda x: x['title'])\n",
    "save_data(sorted_landmarks_data, landmarks_output_path, output_format=\"json\")\n",
    "\n",
    "# Process municipalities\n",
    "municipalities_folder = os.path.join(municipalities_extracted_path, 'municipalities')\n",
    "municipalities_data = process_files_in_folder(municipalities_folder)\n",
    "sorted_municipalities_data = sorted(municipalities_data, key=lambda x: x['title'])\n",
    "save_data(sorted_municipalities_data, municipalities_output_path, output_format=\"json\")\n",
    "\n",
    "print(f\"Processing completed. Data saved at:\\n- {landmarks_output_path}\\n- {municipalities_output_path}\")"
   ]
  },
  {
   "cell_type": "code",
   "execution_count": null,
   "id": "555eaa65-c140-48cd-ad1c-c424d55c42c8",
   "metadata": {},
   "outputs": [],
   "source": []
  }
 ],
 "metadata": {
  "kernelspec": {
   "display_name": "Python (base)",
   "language": "python",
   "name": "base"
  },
  "language_info": {
   "codemirror_mode": {
    "name": "ipython",
    "version": 3
   },
   "file_extension": ".py",
   "mimetype": "text/x-python",
   "name": "python",
   "nbconvert_exporter": "python",
   "pygments_lexer": "ipython3",
   "version": "3.12.2"
  }
 },
 "nbformat": 4,
 "nbformat_minor": 5
}
