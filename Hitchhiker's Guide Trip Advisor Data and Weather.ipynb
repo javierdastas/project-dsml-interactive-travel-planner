{
 "cells": [
  {
   "cell_type": "markdown",
   "id": "c134f0ff-cc24-46df-9d93-fe1d23547059",
   "metadata": {},
   "source": [
    "## Load API keys"
   ]
  },
  {
   "cell_type": "code",
   "execution_count": 2,
   "id": "f3ec3ea8-2b1b-4f99-b5be-a291d357815b",
   "metadata": {},
   "outputs": [
    {
     "name": "stdout",
     "output_type": "stream",
     "text": [
      "Was .env loaded successfully? True\n"
     ]
    }
   ],
   "source": [
    "# Import libraries\n",
    "import requests\n",
    "import os\n",
    "from dotenv import load_dotenv\n",
    "\n",
    "# Load the tripadvisor .env file explicitly\n",
    "trip_advisor_env_loaded = load_dotenv(\"tripadvisor.env\")\n",
    "\n",
    "# Check it loaded succesfully\n",
    "print(\"Was .env loaded successfully?\", trip_advisor_env_loaded)\n",
    "\n",
    "# Fetch API key\n",
    "TA_API_KEY = os.getenv(\"TRIP_ADVISOR_API_KEY\")\n",
    "\n",
    "#print(\"Trip Advisor API Key:\", TA_API_KEY[:5])  # Print first 5 characters of the key to ensure it loaded"
   ]
  },
  {
   "cell_type": "code",
   "execution_count": 3,
   "id": "b8491ae1-8f0e-4b63-af7f-92d999c2080a",
   "metadata": {},
   "outputs": [
    {
     "name": "stdout",
     "output_type": "stream",
     "text": [
      "Using BASE_URL: https://api.content.tripadvisor.com/api/v1\n"
     ]
    }
   ],
   "source": [
    "# Base URL for API\n",
    "BASE_URL = 'https://api.content.tripadvisor.com/api/v1'\n",
    "\n",
    "print(\"Using BASE_URL:\", BASE_URL)"
   ]
  },
  {
   "cell_type": "markdown",
   "id": "a2f959cc-b9df-4e12-9812-f49519e0c3d4",
   "metadata": {},
   "source": [
    "## Function to cache location name with corresponding location ID (This to avoid querying the API repeatedly)"
   ]
  },
  {
   "cell_type": "code",
   "execution_count": 6,
   "id": "4834bd1b-ed44-4505-aea3-1fa485e8a037",
   "metadata": {},
   "outputs": [],
   "source": [
    "# Initialize empty location ID cache\n",
    "locations_cache = {}"
   ]
  },
  {
   "cell_type": "code",
   "execution_count": 8,
   "id": "34d0d510-1e02-4c2b-a8c9-64e1c699039c",
   "metadata": {},
   "outputs": [],
   "source": [
    "# Define functio to cache query location IDs\n",
    "def update_location_cache(location_name, location_ID):\n",
    "    # If not cached add to cache dictionary\n",
    "    if location_name not in locations_cache:\n",
    "        locations_cache[location_name] = location_ID\n",
    "        # Debug print\n",
    "        print(f\"Added {location_name}: {location_ID} to cache.\")\n",
    "    # Else, do not add and skip\n",
    "    else:\n",
    "        # Debug print\n",
    "        print(f\"{location_name} already exists in cache.\")"
   ]
  },
  {
   "cell_type": "markdown",
   "id": "e686a67c-f976-40fb-a3a1-dfc9e6d826ed",
   "metadata": {},
   "source": [
    "# App Features"
   ]
  },
  {
   "cell_type": "markdown",
   "id": "e994ad0b-97e7-48e3-9e4d-e1101450ef76",
   "metadata": {},
   "source": [
    "## Location ID Function"
   ]
  },
  {
   "cell_type": "code",
   "execution_count": 10,
   "id": "9c5c6991-118d-48c8-8325-d35f6692fa68",
   "metadata": {},
   "outputs": [],
   "source": [
    "# Define function to get location ID (Location ID is a dependancy for the rest of TripAdvisor's GET methods)\n",
    "def get_location_id(location_name):\n",
    "    # Get's location ID from cache or trip advisor\n",
    "    if location_name in locations_cache:\n",
    "        print(f\"Cache hit: {location_name} → {locations_cache[location_name]}\")\n",
    "        return locations_cache[location_name]\n",
    "    \n",
    "    # API request to TripAdvisor\n",
    "    url = \"https://api.content.tripadvisor.com/api/v1/location/search\"\n",
    "    \n",
    "    headers = {\"accept\": \"application/json\"}\n",
    "    \n",
    "    params = {\n",
    "        \"key\": TA_API_KEY,\n",
    "        \"searchQuery\": location_name,\n",
    "    }\n",
    "    \n",
    "    response = requests.get(url, headers=headers, params=params)\n",
    "    \n",
    "    if response.status_code == 200:\n",
    "        data = response.json()\n",
    "        if \"data\" in data and data[\"data\"]:  # Check if results exist\n",
    "            location_id = data[\"data\"][0][\"location_id\"]  # Get first result\n",
    "            update_location_cache(location_name, location_id)  # Cache it\n",
    "            return location_id\n",
    "        else:\n",
    "            print(f\"No results found for {location_name}.\")\n",
    "            return None\n",
    "    else:\n",
    "        print(f\"Error {response.status_code}: {response.text}\")\n",
    "        return None"
   ]
  },
  {
   "cell_type": "markdown",
   "id": "526ae6eb-d770-433a-8955-44e24396d5c8",
   "metadata": {},
   "source": [
    "## Fetch Location Data Function\n",
    "- Fetches location_id, address, category, rating, number of reviews, reviews, photos, and descriptions"
   ]
  },
  {
   "cell_type": "code",
   "execution_count": 12,
   "id": "7e7dee8f-af89-4522-ad15-63e12fe5973f",
   "metadata": {},
   "outputs": [],
   "source": [
    "# Define function to get static Trip Advisor Data and store in cache\n",
    "\"\"\"\n",
    "This function's purpose is to fetch from the Trip Advisor API static data that does not change frequently\n",
    "such as the ones listed in the function below in a cache to prevent from repeatedly querying the API, \n",
    "esentially saving on API costs and computational power.\n",
    "\"\"\"\n",
    "\n",
    "def fetch_static_location_info(location_name):\n",
    "    \"\"\"\n",
    "    Fetches static information for a given location from TripAdvisor,\n",
    "    then caches and returns the data in a structured dictionary.\n",
    "    \"\"\"\n",
    "    # Get location id from a previously defined function.\n",
    "    location_id = get_location_id(location_name)\n",
    "    if not location_id:\n",
    "        print(f\"Could not retrieve location ID for {location_name}\")\n",
    "        return None\n",
    "\n",
    "    # Build the endpoint URLs using the location ID.\n",
    "    details_url = f\"https://api.content.tripadvisor.com/api/v1/location/{location_id}/details\"\n",
    "    photos_url = f\"https://api.content.tripadvisor.com/api/v1/location/{location_id}/photos\"\n",
    "    reviews_url = f\"https://api.content.tripadvisor.com/api/v1/location/{location_id}/reviews\"\n",
    "\n",
    "    # Define headers\n",
    "    headers = {'accept': 'application/json'}\n",
    "\n",
    "    # Define parameters\n",
    "    params = {'key': TA_API_KEY}\n",
    "\n",
    "    # Fetch data from the endpoints.\n",
    "    details = requests.get(details_url, headers=headers, params=params).json()\n",
    "    photos = requests.get(photos_url, headers=headers, params=params).json()\n",
    "    reviews = requests.get(reviews_url, headers=headers, params=params).json()\n",
    "\n",
    "   # Process photos: extract a list of dictionaries containing both original and thumbnail URLs.\n",
    "    photo_data = [\n",
    "        {\n",
    "            \"original\": photo.get(\"images\", {}).get(\"original\", {}).get(\"url\", \"\"),\n",
    "            \"thumbnail\": photo.get(\"images\", {}).get(\"thumbnail\", {}).get(\"url\",\n",
    "                             photo.get(\"images\", {}).get(\"original\", {}).get(\"url\", \"\"))\n",
    "        }\n",
    "        for photo in photos.get(\"data\", [])\n",
    "    ][:5] # Only display the top 5 photos\n",
    "\n",
    "\n",
    "    # Extract a summary of reviews. For now, we take the first review text.\n",
    "    review_summary = \"\"\n",
    "    reviews_data = reviews.get(\"data\", [])\n",
    "    if reviews_data:\n",
    "        review_summary = reviews_data[0].get(\"text\", \"\")\n",
    "\n",
    "    # Cache the static data with additional fields\n",
    "    locations_cache[location_name] = {\n",
    "        'location_id': location_id,\n",
    "        'name': details.get('name', 'N/A'),\n",
    "        'description': details.get('description', 'No description available.'),\n",
    "        'address': details.get('address', 'N/A'),\n",
    "        'phone_number': details.get('phone', 'N/A'),\n",
    "        'web_url': details.get('web_url', 'N/A'),\n",
    "        'category': details.get('category', 'N/A'),\n",
    "        'latitude': details.get('latitude', 'N/A'),\n",
    "        'longitude': details.get('longitude', 'N/A'),\n",
    "        'timezone': details.get('timezone', 'N/A'),\n",
    "        'rating': details.get('rating', 'N/A'),\n",
    "        'num_reviews': details.get('num_reviews', 0),\n",
    "        'photo_count': details.get('photo_count', 'N/A'),\n",
    "        'photos': photo_data,\n",
    "        'review_summary': review_summary,\n",
    "        'hours': details.get('hours', {}),  # May include periods and weekday_text\n",
    "        'ancestors': details.get('ancestors', []),\n",
    "    }\n",
    "\n",
    "    print(f\"Stored static information for {location_name} in cache.\")\n",
    "    return locations_cache[location_name]"
   ]
  },
  {
   "cell_type": "markdown",
   "id": "39f4ed02-054c-4269-9907-f0d2b558dec3",
   "metadata": {},
   "source": [
    "## Function that retrieves location info (To be used conditionally for the RAG Framework)"
   ]
  },
  {
   "cell_type": "code",
   "execution_count": 14,
   "id": "20169d12-0c49-4435-9da7-f00513456313",
   "metadata": {},
   "outputs": [],
   "source": [
    "# Define function to retrieve location info\n",
    "def get_location_info(location_name, info_type=None):\n",
    "    \"\"\"\n",
    "    Retrieve specific or full location info from the cache.\n",
    "    If not present, fetch the static information using fetch_static_location_info.\n",
    "    \"\"\"\n",
    "    if location_name not in locations_cache:\n",
    "        print(f\"{location_name} not found in cache. Fetching now...\")\n",
    "        # Use fetch static function to get the information if not in the cache\n",
    "        fetch_static_location_info(location_name)\n",
    "    \n",
    "    place_data = locations_cache.get(location_name, {})\n",
    "    \n",
    "    # If no specific info type is requested, return everything\n",
    "    if not info_type:\n",
    "        return place_data\n",
    "\n",
    "    # Otherwise, return the specific requested info\n",
    "    return place_data.get(info_type, \"Info not available\")"
   ]
  },
  {
   "cell_type": "markdown",
   "id": "39cdc67b-0fec-4c5d-8699-7f738465a95c",
   "metadata": {},
   "source": [
    "# RAG System"
   ]
  },
  {
   "cell_type": "code",
   "execution_count": 26,
   "id": "50f5aa8f-f94c-4d7a-b1f4-616a68526deb",
   "metadata": {},
   "outputs": [],
   "source": [
    "# Define function to load json files\n",
    "def load_json_files(json_folder):\n",
    "    json_files = []\n",
    "    for filename in os.listdir(json_folder):\n",
    "        if filename.endswith('.json'):\n",
    "            file_path = os.path.join(json_folder, filename)\n",
    "            with open(file_path, 'r', encoding='utf-8') as file:\n",
    "                data = json.load(file)\n",
    "                json_files.append(data)\n",
    "\n",
    "    return json_files"
   ]
  },
  {
   "cell_type": "code",
   "execution_count": 28,
   "id": "b9f2b4e8-5ab1-4fcd-a8c0-d5da1cb7aacd",
   "metadata": {},
   "outputs": [
    {
     "name": "stdout",
     "output_type": "stream",
     "text": [
      "Successfully loaded files!\n"
     ]
    }
   ],
   "source": [
    "# Batch process the pertinent json files\n",
    "json_folder_path = 'json files'\n",
    "json_files = load_json_files(json_folder_path)\n",
    "\n",
    "#Print success\n",
    "print('Successfully loaded files!')\n",
    "\n",
    "#print(json_files)"
   ]
  },
  {
   "cell_type": "code",
   "execution_count": 30,
   "id": "d5d135e3-aae3-4a83-a82b-2c58ed36ed86",
   "metadata": {},
   "outputs": [],
   "source": [
    "# Get names from the json files above to pass onto the fetch_static_information function \n",
    "location_queries = []\n",
    "\n",
    "for data in json_files:\n",
    "    for entry in data:\n",
    "        metadata = entry.get(\"metadata\", {})\n",
    "        landmark_name = metadata.get(\"name\")\n",
    "        city = metadata.get(\"city\")\n",
    "        if landmark_name and city:\n",
    "            # Construct specific search query(best format for getting information):\n",
    "            search_query = f\"{landmark_name}, {city}, Puerto Rico\"\n",
    "            location_queries.append(search_query)"
   ]
  },
  {
   "cell_type": "code",
   "execution_count": 4,
   "id": "e25963b6-c212-4570-8f3b-ca0119865ce6",
   "metadata": {},
   "outputs": [],
   "source": [
    "# Uncomment to use\n",
    "#print(location_queries)"
   ]
  },
  {
   "cell_type": "code",
   "execution_count": 6,
   "id": "9eaa52aa-57bc-489f-9f4b-24e7985b7b60",
   "metadata": {},
   "outputs": [],
   "source": [
    "# Uncomment to use\n",
    "\n",
    "# # Get static info for each name in the location list\n",
    "# import time\n",
    "\n",
    "# for query in location_queries:\n",
    "#     fetch_static_location_info(query)\n",
    "#     print(f\"Processed: {query}\")\n",
    "#     time.sleep(10) # Wait 10 seconds before the next query"
   ]
  },
  {
   "cell_type": "code",
   "execution_count": 39,
   "id": "871fb54a-5f0e-47ad-86ac-122b08aec575",
   "metadata": {},
   "outputs": [
    {
     "name": "stdout",
     "output_type": "stream",
     "text": [
      "[('El Yunque', {'location_id': '1448148', 'name': 'El Yunque National Forest', 'description': 'Plan a day trip to the only tropical rainforest in the U.S. National Forest System. With 29,000 acres of lush foliage and 25 miles of year-round trails, this is a nature enthusiast’s sanctuary. Attempt to spot elusive wildlife like the Puerto Rican parrot on a rejuvenating hike, soar through the canopies on a zipline, or go horseback riding at Carabalí Rainforest Park. If time permits, visit the Yokahú Observation Tower which has an elevation of 1,575 feet and provides expansive views of the mountains. Sporadic showers are common here—check their website for the latest information about trail statuses and park closures before setting out.', 'address': 'N/A', 'phone_number': '+1 787-888-1880', 'web_url': 'https://www.tripadvisor.com/Attraction_Review-g147324-d1448148-Reviews-El_Yunque_National_Forest-El_Yunque_National_Forest_Puerto_Rico.html?m=66827', 'category': {'name': 'attraction', 'localized_name': 'Attraction'}, 'latitude': '18.293253', 'longitude': '-65.78442', 'timezone': 'America/Puerto_Rico', 'rating': '4.5', 'num_reviews': '6911', 'photo_count': '6571', 'photos': [{'original': 'https://media-cdn.tripadvisor.com/media/photo-o/0f/29/3e/77/el-yunque.jpg', 'thumbnail': 'https://media-cdn.tripadvisor.com/media/photo-t/0f/29/3e/77/el-yunque.jpg'}, {'original': 'https://media-cdn.tripadvisor.com/media/photo-w/2e/bc/9f/f1/caption.jpg', 'thumbnail': 'https://media-cdn.tripadvisor.com/media/photo-t/2e/bc/9f/f1/caption.jpg'}, {'original': 'https://media-cdn.tripadvisor.com/media/photo-w/2e/bc/9f/f0/caption.jpg', 'thumbnail': 'https://media-cdn.tripadvisor.com/media/photo-t/2e/bc/9f/f0/caption.jpg'}, {'original': 'https://media-cdn.tripadvisor.com/media/photo-w/2e/bc/9f/ef/caption.jpg', 'thumbnail': 'https://media-cdn.tripadvisor.com/media/photo-t/2e/bc/9f/ef/caption.jpg'}, {'original': 'https://media-cdn.tripadvisor.com/media/photo-m/1280/2e/bc/9f/ee/caption.jpg', 'thumbnail': 'https://media-cdn.tripadvisor.com/media/photo-t/2e/bc/9f/ee/caption.jpg'}], 'review_summary': \"It was a quick trip via tour guide, but overall great.  Their visitor's center is quite excellent and is worth the initial stop as an introduction to so many of the unique parts of the rain forest.  We didn't get a lot of hiking time for our trip, but we did get to see some of the highlights off of the main road.  It's definitely worth visiting if on the island.\", 'hours': {'periods': [{'open': {'day': 1, 'time': '0800'}, 'close': {'day': 1, 'time': '1700'}}, {'open': {'day': 2, 'time': '0800'}, 'close': {'day': 2, 'time': '1700'}}, {'open': {'day': 3, 'time': '0800'}, 'close': {'day': 3, 'time': '1700'}}, {'open': {'day': 4, 'time': '0800'}, 'close': {'day': 4, 'time': '1700'}}, {'open': {'day': 5, 'time': '0800'}, 'close': {'day': 5, 'time': '1700'}}, {'open': {'day': 6, 'time': '0800'}, 'close': {'day': 6, 'time': '1700'}}, {'open': {'day': 7, 'time': '0800'}, 'close': {'day': 7, 'time': '1700'}}], 'weekday_text': ['Monday: 08:00 - 17:00', 'Tuesday: 08:00 - 17:00', 'Wednesday: 08:00 - 17:00', 'Thursday: 08:00 - 17:00', 'Friday: 08:00 - 17:00', 'Saturday: 08:00 - 17:00', 'Sunday: 08:00 - 17:00']}, 'ancestors': [{'level': 'NationalPark', 'name': 'El Yunque National Forest', 'location_id': '147324'}, {'level': 'Island', 'name': 'Puerto Rico', 'location_id': '147319'}, {'level': 'Country', 'name': 'Caribbean', 'location_id': '147237'}]}), ('Adjuntas Pueblo and its central plaza, Adjuntas, Puerto Rico', {'location_id': {'location_id': '1491879', 'name': 'Adjuntas', 'description': 'No description available.', 'address': 'N/A', 'phone_number': 'N/A', 'web_url': 'https://www.tripadvisor.com/Tourism-g1491879-Adjuntas_Puerto_Rico-Vacations.html?m=66827', 'category': {'name': 'geographic', 'localized_name': 'Geographic'}, 'latitude': '18.18115', 'longitude': '-66.75236', 'timezone': 'America/Puerto_Rico', 'rating': 'N/A', 'num_reviews': 0, 'photo_count': 'N/A', 'photos': [{'original': 'https://media-cdn.tripadvisor.com/media/photo-c/2560x500/0c/7c/a7/4d/charco-el-ataud.jpg', 'thumbnail': 'https://media-cdn.tripadvisor.com/media/photo-t/0c/7c/a7/4d/charco-el-ataud.jpg'}, {'original': '', 'thumbnail': 'https://media-cdn.tripadvisor.com/media/photo-t/02/c7/7f/f0/adjuntas.jpg'}, {'original': 'https://media-cdn.tripadvisor.com/media/photo-m/1280/2b/5a/90/47/plaza-publica-de-adjuntas.jpg', 'thumbnail': 'https://media-cdn.tripadvisor.com/media/photo-t/2b/5a/90/47/plaza-publica-de-adjuntas.jpg'}], 'review_summary': 'i will never again take coffee for granted. ..i learned so much.    \\n\\nthis was a perfect day away!  the drive was beautiful - but not for sissies.  our guide was enthusiastic - he clearly enjoys his work.   i walked away from this tour with a new appreciation for coffee.', 'hours': {}, 'ancestors': [{'level': 'Island', 'name': 'Puerto Rico', 'location_id': '147319'}, {'level': 'Country', 'name': 'Caribbean', 'location_id': '147237'}]}, 'name': 'N/A', 'description': 'No description available.', 'address': 'N/A', 'phone_number': 'N/A', 'web_url': 'N/A', 'category': 'N/A', 'latitude': 'N/A', 'longitude': 'N/A', 'timezone': 'N/A', 'rating': 'N/A', 'num_reviews': 0, 'photo_count': 'N/A', 'photos': [], 'review_summary': '', 'hours': {}, 'ancestors': []}), ('Casa Pueblo, Adjuntas, Puerto Rico', {'location_id': '1491879', 'name': 'Adjuntas', 'description': 'No description available.', 'address': 'N/A', 'phone_number': 'N/A', 'web_url': 'https://www.tripadvisor.com/Tourism-g1491879-Adjuntas_Puerto_Rico-Vacations.html?m=66827', 'category': {'name': 'geographic', 'localized_name': 'Geographic'}, 'latitude': '18.18115', 'longitude': '-66.75236', 'timezone': 'America/Puerto_Rico', 'rating': 'N/A', 'num_reviews': 0, 'photo_count': 'N/A', 'photos': [{'original': 'https://media-cdn.tripadvisor.com/media/photo-c/2560x500/0c/7c/a7/4d/charco-el-ataud.jpg', 'thumbnail': 'https://media-cdn.tripadvisor.com/media/photo-t/0c/7c/a7/4d/charco-el-ataud.jpg'}, {'original': '', 'thumbnail': 'https://media-cdn.tripadvisor.com/media/photo-t/02/c7/7f/f0/adjuntas.jpg'}, {'original': 'https://media-cdn.tripadvisor.com/media/photo-m/1280/2b/5a/90/47/plaza-publica-de-adjuntas.jpg', 'thumbnail': 'https://media-cdn.tripadvisor.com/media/photo-t/2b/5a/90/47/plaza-publica-de-adjuntas.jpg'}], 'review_summary': 'i will never again take coffee for granted. ..i learned so much.    \\n\\nthis was a perfect day away!  the drive was beautiful - but not for sissies.  our guide was enthusiastic - he clearly enjoys his work.   i walked away from this tour with a new appreciation for coffee.', 'hours': {}, 'ancestors': [{'level': 'Island', 'name': 'Puerto Rico', 'location_id': '147319'}, {'level': 'Country', 'name': 'Caribbean', 'location_id': '147237'}]}), ('Castillo de los Niños, Adjuntas, Puerto Rico', {'location_id': '1491879', 'name': 'Adjuntas', 'description': 'No description available.', 'address': 'N/A', 'phone_number': 'N/A', 'web_url': 'https://www.tripadvisor.com/Tourism-g1491879-Adjuntas_Puerto_Rico-Vacations.html?m=66827', 'category': {'name': 'geographic', 'localized_name': 'Geographic'}, 'latitude': '18.18115', 'longitude': '-66.75236', 'timezone': 'America/Puerto_Rico', 'rating': 'N/A', 'num_reviews': 0, 'photo_count': 'N/A', 'photos': [{'original': 'https://media-cdn.tripadvisor.com/media/photo-c/2560x500/0c/7c/a7/4d/charco-el-ataud.jpg', 'thumbnail': 'https://media-cdn.tripadvisor.com/media/photo-t/0c/7c/a7/4d/charco-el-ataud.jpg'}, {'original': '', 'thumbnail': 'https://media-cdn.tripadvisor.com/media/photo-t/02/c7/7f/f0/adjuntas.jpg'}, {'original': 'https://media-cdn.tripadvisor.com/media/photo-m/1280/2b/5a/90/47/plaza-publica-de-adjuntas.jpg', 'thumbnail': 'https://media-cdn.tripadvisor.com/media/photo-t/2b/5a/90/47/plaza-publica-de-adjuntas.jpg'}], 'review_summary': 'i will never again take coffee for granted. ..i learned so much.    \\n\\nthis was a perfect day away!  the drive was beautiful - but not for sissies.  our guide was enthusiastic - he clearly enjoys his work.   i walked away from this tour with a new appreciation for coffee.', 'hours': {}, 'ancestors': [{'level': 'Island', 'name': 'Puerto Rico', 'location_id': '147319'}, {'level': 'Country', 'name': 'Caribbean', 'location_id': '147237'}]}), ('El Gigante Dormido, Adjuntas, Puerto Rico', {'location_id': '1062342', 'name': 'El Gigante Dormido', 'description': 'No description available.', 'address': 'N/A', 'phone_number': '+1 787-640-7889', 'web_url': 'https://www.tripadvisor.com/Restaurant_Review-g1020017-d1062342-Reviews-El_Gigante_Dormido-Bayamon_Puerto_Rico.html?m=66827', 'category': {'name': 'restaurant', 'localized_name': 'Restaurant'}, 'latitude': '18.415375', 'longitude': '-66.16829', 'timezone': 'America/Puerto_Rico', 'rating': '4.5', 'num_reviews': '183', 'photo_count': '58', 'photos': [{'original': 'https://media-cdn.tripadvisor.com/media/photo-o/0c/35/fd/2c/photo1jpg.jpg', 'thumbnail': 'https://media-cdn.tripadvisor.com/media/photo-t/0c/35/fd/2c/photo1jpg.jpg'}, {'original': 'https://media-cdn.tripadvisor.com/media/photo-o/09/68/87/7f/rissotto-y-sancocho.jpg', 'thumbnail': 'https://media-cdn.tripadvisor.com/media/photo-t/09/68/87/7f/rissotto-y-sancocho.jpg'}, {'original': 'https://media-cdn.tripadvisor.com/media/photo-o/0a/43/e8/40/celebra-tu-actividad.jpg', 'thumbnail': 'https://media-cdn.tripadvisor.com/media/photo-t/0a/43/e8/40/celebra-tu-actividad.jpg'}, {'original': 'https://media-cdn.tripadvisor.com/media/photo-o/0a/43/e8/42/celebra-tu-actividad.jpg', 'thumbnail': 'https://media-cdn.tripadvisor.com/media/photo-t/0a/43/e8/42/celebra-tu-actividad.jpg'}, {'original': 'https://media-cdn.tripadvisor.com/media/photo-o/0e/2e/14/fa/el-gigante-dormido.jpg', 'thumbnail': 'https://media-cdn.tripadvisor.com/media/photo-t/0e/2e/14/fa/el-gigante-dormido.jpg'}], 'review_summary': \"My family, friends and I had a great time at this restaurant. I booked an event for my 84 Aunt birthday and invited 50 guest and the owner went over and Beyond his service they treated us as if we was part of his family. The service was excellent the food and the atmosphere and all his staff. I highly recommend this restaurant for any special event or just to stop bye for lunch. Thank you Edwin for being part of this beautiful memory that my Aunt and family will always treasure in our life's.\", 'hours': {'periods': [{'open': {'day': 3, 'time': '2300'}, 'close': {'day': 3, 'time': '1600'}}, {'open': {'day': 4, 'time': '2300'}, 'close': {'day': 4, 'time': '1600'}}, {'open': {'day': 5, 'time': '2300'}, 'close': {'day': 5, 'time': '2200'}}, {'open': {'day': 6, 'time': '2300'}, 'close': {'day': 6, 'time': '2200'}}, {'open': {'day': 7, 'time': '1200'}, 'close': {'day': 7, 'time': '2000'}}], 'weekday_text': ['Monday: Closed', 'Tuesday: Closed', 'Wednesday: 23:00 - 16:00', 'Thursday: 23:00 - 16:00', 'Friday: 23:00 - 22:00', 'Saturday: 23:00 - 22:00', 'Sunday: 12:00 - 20:00']}, 'ancestors': [{'level': 'City', 'name': 'Bayamon', 'location_id': '1020017'}, {'level': 'Island', 'name': 'Puerto Rico', 'location_id': '147319'}, {'level': 'Country', 'name': 'Caribbean', 'location_id': '147237'}]})]\n"
     ]
    }
   ],
   "source": [
    "# Check location cache\n",
    "first_five = list(locations_cache.items())[:5]\n",
    "print(first_five)"
   ]
  },
  {
   "cell_type": "code",
   "execution_count": 41,
   "id": "9136425e-b9c7-4897-a21c-fc1743b22783",
   "metadata": {},
   "outputs": [
    {
     "name": "stdout",
     "output_type": "stream",
     "text": [
      "Merged JSON file created: final_locations_info_cache.json\n"
     ]
    }
   ],
   "source": [
    "# Make new json file (this approach makes the a new json file with the information for landmarks and municipalities all merged)\n",
    "import json\n",
    "\n",
    "with open(\"final_locations_info_cache.json\", \"w\", encoding=\"utf-8\") as f:\n",
    "    json.dump(locations_cache, f, indent=4, ensure_ascii=False)\n",
    "\n",
    "print(\"Merged JSON file created: final_locations_info_cache.json\")"
   ]
  },
  {
   "cell_type": "code",
   "execution_count": 8,
   "id": "0845b99c-a69f-442a-a00a-ead53a3a84bd",
   "metadata": {},
   "outputs": [
    {
     "name": "stdout",
     "output_type": "stream",
     "text": [
      "Was .env loaded successfully? True\n"
     ]
    }
   ],
   "source": [
    "# Load Weather Api Key\n",
    "weather_api_env_loaded = load_dotenv(\"weatherapi.env\")\n",
    "\n",
    "# Check it loaded succesfully\n",
    "print(\"Was .env loaded successfully?\", weather_api_env_loaded)\n",
    "\n",
    "# Fetch API key\n",
    "WEATHER_API_KEY = os.getenv(\"WEATHER_API_KEY\")\n",
    "\n",
    "# print(\"Open Weather API Key:\", WEATHER_API_KEY[:5]) # Show the first 5 characters"
   ]
  },
  {
   "cell_type": "code",
   "execution_count": 101,
   "id": "bddaef98-448e-491c-af1c-7a3cef9ff3cc",
   "metadata": {},
   "outputs": [
    {
     "name": "stdout",
     "output_type": "stream",
     "text": [
      " http://api.weatherapi.com/v1\n"
     ]
    }
   ],
   "source": [
    "BASE_URL = ' http://api.weatherapi.com/v1'\n",
    "print(BASE_URL)"
   ]
  },
  {
   "cell_type": "code",
   "execution_count": 89,
   "id": "b4a15749-7637-4f22-8ff7-99c8270897b7",
   "metadata": {},
   "outputs": [
    {
     "name": "stdout",
     "output_type": "stream",
     "text": [
      "File loaded successfully!\n"
     ]
    }
   ],
   "source": [
    "# Define folder and file name\n",
    "folder_path = \"json files\"  # Folder name\n",
    "file_name = \"updated_puerto_rico_municipalities.json\"  # File name\n",
    "\n",
    "# Construct full path\n",
    "file_path = os.path.join(folder_path, file_name)\n",
    "\n",
    "# Read the JSON file\n",
    "with open(file_path, \"r\", encoding=\"utf-8\") as file:\n",
    "    json_file = json.load(file)\n",
    "\n",
    "print(\"File loaded successfully!\")"
   ]
  },
  {
   "cell_type": "code",
   "execution_count": 91,
   "id": "9cc9a1e1-4e76-447c-a026-61552a00fa0e",
   "metadata": {},
   "outputs": [],
   "source": [
    "# Empty Weather query list to store queries\n",
    "weather_queries = []\n",
    "\n",
    "# Iterate through JSON data\n",
    "for entry in json_file:\n",
    "    metadata = entry.get(\"metadata\", {})\n",
    "    city = metadata.get(\"city\")\n",
    "    \n",
    "    if city:\n",
    "        # Construct specific search query\n",
    "        weather_query = f\"{city}, Puerto Rico\"\n",
    "        weather_queries.append(weather_query)"
   ]
  },
  {
   "cell_type": "code",
   "execution_count": 93,
   "id": "e8a784d2-8ee9-45a4-bca1-22671d6f9fb7",
   "metadata": {},
   "outputs": [
    {
     "name": "stdout",
     "output_type": "stream",
     "text": [
      "Weather Queries List: ['Adjuntas, Puerto Rico', 'Aguada, Puerto Rico', 'Aguadilla, Puerto Rico', 'Aguas Buenas, Puerto Rico', 'Aibonito, Puerto Rico', 'Añasco, Puerto Rico', 'Arecibo, Puerto Rico', 'Arroyo, Puerto Rico', 'Barceloneta, Puerto Rico', 'Barranquitas, Puerto Rico', 'Bayamón, Puerto Rico', 'Cabo Rojo, Puerto Rico', 'Caguas, Puerto Rico', 'Camuy, Puerto Rico', 'Canóvanas, Puerto Rico', 'Carolina, Puerto Rico', 'Cataño, Puerto Rico', 'Cayey, Puerto Rico', 'Ceiba, Puerto Rico', 'Ciales, Puerto Rico', 'Cidra, Puerto Rico', 'Coamo, Puerto Rico', 'Comerío, Puerto Rico', 'Corozal, Puerto Rico', 'Culebra, Puerto Rico', 'Dorado, Puerto Rico', 'Fajardo, Puerto Rico', 'Florida, Puerto Rico', 'Guánica, Puerto Rico', 'Guayama, Puerto Rico', 'Guayanilla, Puerto Rico', 'Guaynabo, Puerto Rico', 'Gurabo, Puerto Rico', 'Hatillo, Puerto Rico', 'Hormigueros, Puerto Rico', 'Humacao, Puerto Rico', 'Isabela, Puerto Rico', 'Jayuya, Puerto Rico', 'Juana Díaz, Puerto Rico', 'Juncos, Puerto Rico', 'Lajas, Puerto Rico', 'Lares, Puerto Rico', 'Las Marías, Puerto Rico', 'Las Piedras, Puerto Rico', 'Loíza, Puerto Rico', 'Luquillo, Puerto Rico', 'Manatí, Puerto Rico', 'Maricao, Puerto Rico', 'Maunabo, Puerto Rico', 'Mayagüez, Puerto Rico', 'Moca, Puerto Rico', 'Morovis, Puerto Rico', 'Naguabo, Puerto Rico', 'Naranjito, Puerto Rico', 'Orocovis, Puerto Rico', 'Patillas, Puerto Rico', 'Peñuelas, Puerto Rico', 'Ponce, Puerto Rico', 'Quebradillas, Puerto Rico', 'Rincón, Puerto Rico', 'Río Grande, Puerto Rico', 'Sabana Grande, Puerto Rico', 'Salinas, Puerto Rico', 'San Germán, Puerto Rico', 'San Juan, Puerto Rico', 'San Lorenzo, Puerto Rico', 'San Sebastián, Puerto Rico', 'Santa Isabel, Puerto Rico', 'Toa Alta, Puerto Rico', 'Toa Baja, Puerto Rico', 'Trujillo Alto, Puerto Rico', 'Utuado, Puerto Rico', 'Vega Alta, Puerto Rico', 'Vega Baja, Puerto Rico', 'Vieques, Puerto Rico', 'Villalba, Puerto Rico', 'Yabucoa, Puerto Rico', 'Yauco, Puerto Rico']\n"
     ]
    }
   ],
   "source": [
    "print(\"Weather Queries List:\", weather_queries)"
   ]
  },
  {
   "cell_type": "code",
   "execution_count": 107,
   "id": "0a9388e9-73e2-4ceb-beb9-49493aa2a78e",
   "metadata": {},
   "outputs": [],
   "source": [
    "# Define function to get weather for locations based on municipality\n",
    "def get_location_weather(location, weather_type):  \n",
    "    \n",
    "    # API endpoints\n",
    "    endpoint_mapping = {\n",
    "        \"forecast\": \"forecast.json\",\n",
    "        \"current\": \"current.json\",\n",
    "        \"alerts\": \"alerts.json\"\n",
    "    }\n",
    "\n",
    "    # Ensure valid weather_type\n",
    "    if weather_type not in endpoint_mapping:\n",
    "        return {\"error\": \"Invalid weather type. Choose 'forecast', 'current', or 'alerts'.\"}\n",
    "\n",
    "    # Construct URL\n",
    "    api_url = f\"{BASE_URL}/{endpoint_mapping[weather_type]}\"\n",
    "\n",
    "    # Define parameters\n",
    "    parameters = {\n",
    "        \"key\": WEATHER_API_KEY,\n",
    "        \"q\": location,\n",
    "    }\n",
    "\n",
    "    # Add 'days' parameter only for forecast\n",
    "    if weather_type == \"forecast\":\n",
    "        parameters[\"days\"] = 5  # Adjust based on need (1-10)\n",
    "\n",
    "    # Make API request\n",
    "    response = requests.get(api_url, params=parameters)\n",
    "\n",
    "    # Check response status\n",
    "    if response.status_code == 200:\n",
    "        return response.json()\n",
    "    else:\n",
    "        return {\"error\": f\"Failed to fetch data: {response.status_code}\"}"
   ]
  },
  {
   "cell_type": "code",
   "execution_count": 109,
   "id": "4d2ca853-8452-4721-8426-4ff65d3e9e59",
   "metadata": {},
   "outputs": [
    {
     "name": "stdout",
     "output_type": "stream",
     "text": [
      "{'location': {'name': 'San Juan', 'region': 'Puerto Rico', 'country': 'United States of America', 'lat': 18.4683, 'lon': -66.1061, 'tz_id': 'America/Puerto_Rico', 'localtime_epoch': 1739481815, 'localtime': '2025-02-13 17:23'}, 'current': {'last_updated_epoch': 1739481300, 'last_updated': '2025-02-13 17:15', 'temp_c': 26.1, 'temp_f': 79.0, 'is_day': 1, 'condition': {'text': 'Partly cloudy', 'icon': '//cdn.weatherapi.com/weather/64x64/day/116.png', 'code': 1003}, 'wind_mph': 18.6, 'wind_kph': 29.9, 'wind_degree': 86, 'wind_dir': 'E', 'pressure_mb': 1019.0, 'pressure_in': 30.1, 'precip_mm': 0.0, 'precip_in': 0.0, 'humidity': 84, 'cloud': 75, 'feelslike_c': 28.5, 'feelslike_f': 83.3, 'windchill_c': 26.2, 'windchill_f': 79.1, 'heatindex_c': 28.6, 'heatindex_f': 83.5, 'dewpoint_c': 21.9, 'dewpoint_f': 71.5, 'vis_km': 16.0, 'vis_miles': 9.0, 'uv': 0.6, 'gust_mph': 25.0, 'gust_kph': 40.2}}\n"
     ]
    }
   ],
   "source": [
    "weather_data = get_location_weather(\"San Juan, Puerto Rico\", \"current\")\n",
    "print(weather_data)"
   ]
  },
  {
   "cell_type": "code",
   "execution_count": 111,
   "id": "00c738ed-f356-4b29-ba40-156d0eaa30dd",
   "metadata": {},
   "outputs": [
    {
     "name": "stdout",
     "output_type": "stream",
     "text": [
      "{'location': {'name': 'San Juan', 'region': 'Puerto Rico', 'country': 'United States of America', 'lat': 18.4683, 'lon': -66.1061, 'tz_id': 'America/Puerto_Rico', 'localtime_epoch': 1739481846, 'localtime': '2025-02-13 17:24'}, 'current': {'last_updated_epoch': 1739481300, 'last_updated': '2025-02-13 17:15', 'temp_c': 26.1, 'temp_f': 79.0, 'is_day': 1, 'condition': {'text': 'Partly cloudy', 'icon': '//cdn.weatherapi.com/weather/64x64/day/116.png', 'code': 1003}, 'wind_mph': 18.6, 'wind_kph': 29.9, 'wind_degree': 86, 'wind_dir': 'E', 'pressure_mb': 1019.0, 'pressure_in': 30.1, 'precip_mm': 0.0, 'precip_in': 0.0, 'humidity': 84, 'cloud': 75, 'feelslike_c': 28.5, 'feelslike_f': 83.3, 'windchill_c': 26.2, 'windchill_f': 79.1, 'heatindex_c': 28.6, 'heatindex_f': 83.5, 'dewpoint_c': 21.9, 'dewpoint_f': 71.5, 'vis_km': 16.0, 'vis_miles': 9.0, 'uv': 0.6, 'gust_mph': 25.0, 'gust_kph': 40.2}, 'forecast': {'forecastday': [{'date': '2025-02-13', 'date_epoch': 1739404800, 'day': {'maxtemp_c': 29.2, 'maxtemp_f': 84.6, 'mintemp_c': 24.2, 'mintemp_f': 75.6, 'avgtemp_c': 25.7, 'avgtemp_f': 78.3, 'maxwind_mph': 19.7, 'maxwind_kph': 31.7, 'totalprecip_mm': 0.0, 'totalprecip_in': 0.0, 'totalsnow_cm': 0.0, 'avgvis_km': 10.0, 'avgvis_miles': 6.0, 'avghumidity': 79, 'daily_will_it_rain': 0, 'daily_chance_of_rain': 0, 'daily_will_it_snow': 0, 'daily_chance_of_snow': 0, 'condition': {'text': 'Partly Cloudy ', 'icon': '//cdn.weatherapi.com/weather/64x64/day/116.png', 'code': 1003}, 'uv': 2.1}, 'astro': {'sunrise': '06:53 AM', 'sunset': '06:24 PM', 'moonrise': '07:31 PM', 'moonset': '07:36 AM', 'moon_phase': 'Waning Gibbous', 'moon_illumination': 100, 'is_moon_up': 1, 'is_sun_up': 0}, 'hour': [{'time_epoch': 1739419200, 'time': '2025-02-13 00:00', 'temp_c': 24.5, 'temp_f': 76.0, 'is_day': 0, 'condition': {'text': 'Partly Cloudy ', 'icon': '//cdn.weatherapi.com/weather/64x64/night/116.png', 'code': 1003}, 'wind_mph': 14.5, 'wind_kph': 23.4, 'wind_degree': 94, 'wind_dir': 'E', 'pressure_mb': 1020.0, 'pressure_in': 30.11, 'precip_mm': 0.0, 'precip_in': 0.0, 'snow_cm': 0.0, 'humidity': 76, 'cloud': 61, 'feelslike_c': 26.3, 'feelslike_f': 79.3, 'windchill_c': 24.5, 'windchill_f': 76.0, 'heatindex_c': 26.3, 'heatindex_f': 79.3, 'dewpoint_c': 19.8, 'dewpoint_f': 67.6, 'will_it_rain': 0, 'chance_of_rain': 0, 'will_it_snow': 0, 'chance_of_snow': 0, 'vis_km': 10.0, 'vis_miles': 6.0, 'gust_mph': 23.4, 'gust_kph': 37.7, 'uv': 0}, {'time_epoch': 1739422800, 'time': '2025-02-13 01:00', 'temp_c': 24.5, 'temp_f': 76.2, 'is_day': 0, 'condition': {'text': 'Partly Cloudy ', 'icon': '//cdn.weatherapi.com/weather/64x64/night/116.png', 'code': 1003}, 'wind_mph': 15.0, 'wind_kph': 24.1, 'wind_degree': 94, 'wind_dir': 'E', 'pressure_mb': 1019.0, 'pressure_in': 30.11, 'precip_mm': 0.0, 'precip_in': 0.0, 'snow_cm': 0.0, 'humidity': 75, 'cloud': 60, 'feelslike_c': 26.3, 'feelslike_f': 79.4, 'windchill_c': 24.5, 'windchill_f': 76.2, 'heatindex_c': 26.3, 'heatindex_f': 79.4, 'dewpoint_c': 19.6, 'dewpoint_f': 67.3, 'will_it_rain': 0, 'chance_of_rain': 0, 'will_it_snow': 0, 'chance_of_snow': 0, 'vis_km': 10.0, 'vis_miles': 6.0, 'gust_mph': 24.2, 'gust_kph': 39.0, 'uv': 0}, {'time_epoch': 1739426400, 'time': '2025-02-13 02:00', 'temp_c': 24.6, 'temp_f': 76.2, 'is_day': 0, 'condition': {'text': 'Clear ', 'icon': '//cdn.weatherapi.com/weather/64x64/night/113.png', 'code': 1000}, 'wind_mph': 15.4, 'wind_kph': 24.8, 'wind_degree': 91, 'wind_dir': 'E', 'pressure_mb': 1019.0, 'pressure_in': 30.08, 'precip_mm': 0.0, 'precip_in': 0.0, 'snow_cm': 0.0, 'humidity': 75, 'cloud': 23, 'feelslike_c': 26.5, 'feelslike_f': 79.7, 'windchill_c': 24.6, 'windchill_f': 76.2, 'heatindex_c': 26.5, 'heatindex_f': 79.7, 'dewpoint_c': 19.9, 'dewpoint_f': 67.8, 'will_it_rain': 0, 'chance_of_rain': 0, 'will_it_snow': 0, 'chance_of_snow': 0, 'vis_km': 10.0, 'vis_miles': 6.0, 'gust_mph': 24.8, 'gust_kph': 39.9, 'uv': 0}, {'time_epoch': 1739430000, 'time': '2025-02-13 03:00', 'temp_c': 24.6, 'temp_f': 76.2, 'is_day': 0, 'condition': {'text': 'Clear ', 'icon': '//cdn.weatherapi.com/weather/64x64/night/113.png', 'code': 1000}, 'wind_mph': 16.3, 'wind_kph': 26.3, 'wind_degree': 90, 'wind_dir': 'E', 'pressure_mb': 1018.0, 'pressure_in': 30.07, 'precip_mm': 0.0, 'precip_in': 0.0, 'snow_cm': 0.0, 'humidity': 81, 'cloud': 11, 'feelslike_c': 26.7, 'feelslike_f': 80.1, 'windchill_c': 24.6, 'windchill_f': 76.2, 'heatindex_c': 26.7, 'heatindex_f': 80.1, 'dewpoint_c': 21.2, 'dewpoint_f': 70.1, 'will_it_rain': 0, 'chance_of_rain': 0, 'will_it_snow': 0, 'chance_of_snow': 0, 'vis_km': 10.0, 'vis_miles': 6.0, 'gust_mph': 26.3, 'gust_kph': 42.3, 'uv': 0}, {'time_epoch': 1739433600, 'time': '2025-02-13 04:00', 'temp_c': 24.9, 'temp_f': 76.9, 'is_day': 0, 'condition': {'text': 'Partly Cloudy ', 'icon': '//cdn.weatherapi.com/weather/64x64/night/116.png', 'code': 1003}, 'wind_mph': 16.1, 'wind_kph': 25.9, 'wind_degree': 90, 'wind_dir': 'E', 'pressure_mb': 1018.0, 'pressure_in': 30.07, 'precip_mm': 0.0, 'precip_in': 0.0, 'snow_cm': 0.0, 'humidity': 87, 'cloud': 61, 'feelslike_c': 27.0, 'feelslike_f': 80.6, 'windchill_c': 24.9, 'windchill_f': 76.9, 'heatindex_c': 27.0, 'heatindex_f': 80.6, 'dewpoint_c': 22.3, 'dewpoint_f': 72.2, 'will_it_rain': 0, 'chance_of_rain': 0, 'will_it_snow': 0, 'chance_of_snow': 0, 'vis_km': 10.0, 'vis_miles': 6.0, 'gust_mph': 25.7, 'gust_kph': 41.4, 'uv': 0}, {'time_epoch': 1739437200, 'time': '2025-02-13 05:00', 'temp_c': 25.2, 'temp_f': 77.3, 'is_day': 0, 'condition': {'text': 'Cloudy ', 'icon': '//cdn.weatherapi.com/weather/64x64/night/119.png', 'code': 1006}, 'wind_mph': 15.9, 'wind_kph': 25.6, 'wind_degree': 82, 'wind_dir': 'E', 'pressure_mb': 1019.0, 'pressure_in': 30.1, 'precip_mm': 0.0, 'precip_in': 0.0, 'snow_cm': 0.0, 'humidity': 76, 'cloud': 68, 'feelslike_c': 27.2, 'feelslike_f': 80.9, 'windchill_c': 25.2, 'windchill_f': 77.3, 'heatindex_c': 27.2, 'heatindex_f': 80.9, 'dewpoint_c': 20.7, 'dewpoint_f': 69.2, 'will_it_rain': 0, 'chance_of_rain': 0, 'will_it_snow': 0, 'chance_of_snow': 0, 'vis_km': 10.0, 'vis_miles': 6.0, 'gust_mph': 25.9, 'gust_kph': 41.7, 'uv': 0}, {'time_epoch': 1739440800, 'time': '2025-02-13 06:00', 'temp_c': 25.3, 'temp_f': 77.5, 'is_day': 0, 'condition': {'text': 'Cloudy ', 'icon': '//cdn.weatherapi.com/weather/64x64/night/119.png', 'code': 1006}, 'wind_mph': 15.7, 'wind_kph': 25.2, 'wind_degree': 82, 'wind_dir': 'E', 'pressure_mb': 1020.0, 'pressure_in': 30.12, 'precip_mm': 0.0, 'precip_in': 0.0, 'snow_cm': 0.0, 'humidity': 75, 'cloud': 73, 'feelslike_c': 27.2, 'feelslike_f': 81.0, 'windchill_c': 25.3, 'windchill_f': 77.5, 'heatindex_c': 27.2, 'heatindex_f': 81.0, 'dewpoint_c': 20.7, 'dewpoint_f': 69.3, 'will_it_rain': 0, 'chance_of_rain': 0, 'will_it_snow': 0, 'chance_of_snow': 0, 'vis_km': 10.0, 'vis_miles': 6.0, 'gust_mph': 25.8, 'gust_kph': 41.5, 'uv': 0}, {'time_epoch': 1739444400, 'time': '2025-02-13 07:00', 'temp_c': 25.4, 'temp_f': 77.7, 'is_day': 1, 'condition': {'text': 'Cloudy ', 'icon': '//cdn.weatherapi.com/weather/64x64/day/119.png', 'code': 1006}, 'wind_mph': 15.9, 'wind_kph': 25.6, 'wind_degree': 83, 'wind_dir': 'E', 'pressure_mb': 1020.0, 'pressure_in': 30.12, 'precip_mm': 0.0, 'precip_in': 0.0, 'snow_cm': 0.0, 'humidity': 75, 'cloud': 67, 'feelslike_c': 27.4, 'feelslike_f': 81.3, 'windchill_c': 25.4, 'windchill_f': 77.7, 'heatindex_c': 27.4, 'heatindex_f': 81.3, 'dewpoint_c': 20.7, 'dewpoint_f': 69.2, 'will_it_rain': 0, 'chance_of_rain': 0, 'will_it_snow': 0, 'chance_of_snow': 0, 'vis_km': 10.0, 'vis_miles': 6.0, 'gust_mph': 26.1, 'gust_kph': 41.9, 'uv': 0.0}, {'time_epoch': 1739448000, 'time': '2025-02-13 08:00', 'temp_c': 25.5, 'temp_f': 77.9, 'is_day': 1, 'condition': {'text': 'Sunny', 'icon': '//cdn.weatherapi.com/weather/64x64/day/113.png', 'code': 1000}, 'wind_mph': 17.9, 'wind_kph': 28.8, 'wind_degree': 85, 'wind_dir': 'E', 'pressure_mb': 1021.0, 'pressure_in': 30.14, 'precip_mm': 0.0, 'precip_in': 0.0, 'snow_cm': 0.0, 'humidity': 77, 'cloud': 23, 'feelslike_c': 27.7, 'feelslike_f': 81.9, 'windchill_c': 25.5, 'windchill_f': 77.9, 'heatindex_c': 27.7, 'heatindex_f': 81.9, 'dewpoint_c': 21.2, 'dewpoint_f': 70.2, 'will_it_rain': 0, 'chance_of_rain': 0, 'will_it_snow': 0, 'chance_of_snow': 0, 'vis_km': 10.0, 'vis_miles': 6.0, 'gust_mph': 27.0, 'gust_kph': 43.4, 'uv': 0.9}, {'time_epoch': 1739451600, 'time': '2025-02-13 09:00', 'temp_c': 25.5, 'temp_f': 78.0, 'is_day': 1, 'condition': {'text': 'Partly Cloudy ', 'icon': '//cdn.weatherapi.com/weather/64x64/day/116.png', 'code': 1003}, 'wind_mph': 19.5, 'wind_kph': 31.3, 'wind_degree': 86, 'wind_dir': 'E', 'pressure_mb': 1021.0, 'pressure_in': 30.15, 'precip_mm': 0.0, 'precip_in': 0.0, 'snow_cm': 0.0, 'humidity': 81, 'cloud': 42, 'feelslike_c': 28.0, 'feelslike_f': 82.4, 'windchill_c': 25.5, 'windchill_f': 78.0, 'heatindex_c': 28.0, 'heatindex_f': 82.4, 'dewpoint_c': 22.1, 'dewpoint_f': 71.8, 'will_it_rain': 0, 'chance_of_rain': 0, 'will_it_snow': 0, 'chance_of_snow': 0, 'vis_km': 10.0, 'vis_miles': 6.0, 'gust_mph': 27.0, 'gust_kph': 43.5, 'uv': 2.7}, {'time_epoch': 1739455200, 'time': '2025-02-13 10:00', 'temp_c': 26.0, 'temp_f': 78.8, 'is_day': 1, 'condition': {'text': 'Cloudy ', 'icon': '//cdn.weatherapi.com/weather/64x64/day/119.png', 'code': 1006}, 'wind_mph': 19.7, 'wind_kph': 31.7, 'wind_degree': 88, 'wind_dir': 'E', 'pressure_mb': 1021.0, 'pressure_in': 30.14, 'precip_mm': 0.0, 'precip_in': 0.0, 'snow_cm': 0.0, 'humidity': 84, 'cloud': 77, 'feelslike_c': 28.7, 'feelslike_f': 83.6, 'windchill_c': 26.0, 'windchill_f': 78.8, 'heatindex_c': 28.7, 'heatindex_f': 83.6, 'dewpoint_c': 22.8, 'dewpoint_f': 73.0, 'will_it_rain': 0, 'chance_of_rain': 0, 'will_it_snow': 0, 'chance_of_snow': 0, 'vis_km': 10.0, 'vis_miles': 6.0, 'gust_mph': 26.2, 'gust_kph': 42.2, 'uv': 5.4}, {'time_epoch': 1739458800, 'time': '2025-02-13 11:00', 'temp_c': 26.8, 'temp_f': 80.3, 'is_day': 1, 'condition': {'text': 'Cloudy ', 'icon': '//cdn.weatherapi.com/weather/64x64/day/119.png', 'code': 1006}, 'wind_mph': 19.2, 'wind_kph': 31.0, 'wind_degree': 87, 'wind_dir': 'E', 'pressure_mb': 1021.0, 'pressure_in': 30.14, 'precip_mm': 0.0, 'precip_in': 0.0, 'snow_cm': 0.0, 'humidity': 80, 'cloud': 67, 'feelslike_c': 29.5, 'feelslike_f': 85.1, 'windchill_c': 26.8, 'windchill_f': 80.3, 'heatindex_c': 29.5, 'heatindex_f': 85.1, 'dewpoint_c': 22.8, 'dewpoint_f': 73.0, 'will_it_rain': 0, 'chance_of_rain': 0, 'will_it_snow': 0, 'chance_of_snow': 0, 'vis_km': 10.0, 'vis_miles': 6.0, 'gust_mph': 25.7, 'gust_kph': 41.3, 'uv': 6.4}, {'time_epoch': 1739462400, 'time': '2025-02-13 12:00', 'temp_c': 28.0, 'temp_f': 82.4, 'is_day': 1, 'condition': {'text': 'Sunny', 'icon': '//cdn.weatherapi.com/weather/64x64/day/113.png', 'code': 1000}, 'wind_mph': 19.2, 'wind_kph': 31.0, 'wind_degree': 86, 'wind_dir': 'E', 'pressure_mb': 1020.0, 'pressure_in': 30.13, 'precip_mm': 0.0, 'precip_in': 0.0, 'snow_cm': 0.0, 'humidity': 71, 'cloud': 20, 'feelslike_c': 31.5, 'feelslike_f': 88.7, 'windchill_c': 28.0, 'windchill_f': 82.4, 'heatindex_c': 31.5, 'heatindex_f': 88.7, 'dewpoint_c': 21.9, 'dewpoint_f': 71.5, 'will_it_rain': 0, 'chance_of_rain': 0, 'will_it_snow': 0, 'chance_of_snow': 0, 'vis_km': 10.0, 'vis_miles': 6.0, 'gust_mph': 26.0, 'gust_kph': 41.9, 'uv': 9.7}, {'time_epoch': 1739466000, 'time': '2025-02-13 13:00', 'temp_c': 27.7, 'temp_f': 81.8, 'is_day': 1, 'condition': {'text': 'Sunny', 'icon': '//cdn.weatherapi.com/weather/64x64/day/113.png', 'code': 1000}, 'wind_mph': 19.0, 'wind_kph': 30.6, 'wind_degree': 84, 'wind_dir': 'E', 'pressure_mb': 1020.0, 'pressure_in': 30.11, 'precip_mm': 0.0, 'precip_in': 0.0, 'snow_cm': 0.0, 'humidity': 72, 'cloud': 12, 'feelslike_c': 30.7, 'feelslike_f': 87.2, 'windchill_c': 27.7, 'windchill_f': 81.8, 'heatindex_c': 30.7, 'heatindex_f': 87.2, 'dewpoint_c': 23.6, 'dewpoint_f': 74.4, 'will_it_rain': 0, 'chance_of_rain': 0, 'will_it_snow': 0, 'chance_of_snow': 0, 'vis_km': 10.0, 'vis_miles': 6.0, 'gust_mph': 26.1, 'gust_kph': 41.9, 'uv': 9.5}, {'time_epoch': 1739469600, 'time': '2025-02-13 14:00', 'temp_c': 27.3, 'temp_f': 81.2, 'is_day': 1, 'condition': {'text': 'Sunny', 'icon': '//cdn.weatherapi.com/weather/64x64/day/113.png', 'code': 1000}, 'wind_mph': 18.8, 'wind_kph': 30.2, 'wind_degree': 83, 'wind_dir': 'E', 'pressure_mb': 1019.0, 'pressure_in': 30.09, 'precip_mm': 0.0, 'precip_in': 0.0, 'snow_cm': 0.0, 'humidity': 71, 'cloud': 22, 'feelslike_c': 30.0, 'feelslike_f': 86.0, 'windchill_c': 27.3, 'windchill_f': 81.2, 'heatindex_c': 30.0, 'heatindex_f': 86.0, 'dewpoint_c': 21.7, 'dewpoint_f': 71.0, 'will_it_rain': 0, 'chance_of_rain': 0, 'will_it_snow': 0, 'chance_of_snow': 0, 'vis_km': 10.0, 'vis_miles': 6.0, 'gust_mph': 25.7, 'gust_kph': 41.4, 'uv': 7.7}, {'time_epoch': 1739473200, 'time': '2025-02-13 15:00', 'temp_c': 27.1, 'temp_f': 80.7, 'is_day': 1, 'condition': {'text': 'Partly Cloudy ', 'icon': '//cdn.weatherapi.com/weather/64x64/day/116.png', 'code': 1003}, 'wind_mph': 19.0, 'wind_kph': 30.6, 'wind_degree': 85, 'wind_dir': 'E', 'pressure_mb': 1019.0, 'pressure_in': 30.08, 'precip_mm': 0.0, 'precip_in': 0.0, 'snow_cm': 0.0, 'humidity': 72, 'cloud': 28, 'feelslike_c': 29.6, 'feelslike_f': 85.3, 'windchill_c': 27.1, 'windchill_f': 80.7, 'heatindex_c': 29.6, 'heatindex_f': 85.3, 'dewpoint_c': 21.4, 'dewpoint_f': 70.6, 'will_it_rain': 0, 'chance_of_rain': 0, 'will_it_snow': 0, 'chance_of_snow': 0, 'vis_km': 10.0, 'vis_miles': 6.0, 'gust_mph': 24.1, 'gust_kph': 38.7, 'uv': 4.9}, {'time_epoch': 1739476800, 'time': '2025-02-13 16:00', 'temp_c': 26.6, 'temp_f': 79.9, 'is_day': 1, 'condition': {'text': 'Sunny', 'icon': '//cdn.weatherapi.com/weather/64x64/day/113.png', 'code': 1000}, 'wind_mph': 19.0, 'wind_kph': 30.6, 'wind_degree': 84, 'wind_dir': 'E', 'pressure_mb': 1019.0, 'pressure_in': 30.08, 'precip_mm': 0.0, 'precip_in': 0.0, 'snow_cm': 0.0, 'humidity': 73, 'cloud': 16, 'feelslike_c': 29.1, 'feelslike_f': 84.4, 'windchill_c': 26.6, 'windchill_f': 79.9, 'heatindex_c': 29.1, 'heatindex_f': 84.4, 'dewpoint_c': 21.6, 'dewpoint_f': 70.9, 'will_it_rain': 0, 'chance_of_rain': 0, 'will_it_snow': 0, 'chance_of_snow': 0, 'vis_km': 10.0, 'vis_miles': 6.0, 'gust_mph': 24.5, 'gust_kph': 39.4, 'uv': 2.3}, {'time_epoch': 1739480400, 'time': '2025-02-13 17:00', 'temp_c': 26.1, 'temp_f': 79.0, 'is_day': 1, 'condition': {'text': 'Partly cloudy', 'icon': '//cdn.weatherapi.com/weather/64x64/day/116.png', 'code': 1003}, 'wind_mph': 18.6, 'wind_kph': 29.9, 'wind_degree': 86, 'wind_dir': 'E', 'pressure_mb': 1019.0, 'pressure_in': 30.1, 'precip_mm': 0.0, 'precip_in': 0.0, 'snow_cm': 0.0, 'humidity': 84, 'cloud': 75, 'feelslike_c': 28.6, 'feelslike_f': 83.5, 'windchill_c': 26.2, 'windchill_f': 79.1, 'heatindex_c': 28.6, 'heatindex_f': 83.5, 'dewpoint_c': 21.9, 'dewpoint_f': 71.5, 'will_it_rain': 0, 'chance_of_rain': 0, 'will_it_snow': 0, 'chance_of_snow': 0, 'vis_km': 16.0, 'vis_miles': 9.0, 'gust_mph': 25.0, 'gust_kph': 40.2, 'uv': 0.6}, {'time_epoch': 1739484000, 'time': '2025-02-13 18:00', 'temp_c': 25.8, 'temp_f': 78.5, 'is_day': 1, 'condition': {'text': 'Partly Cloudy ', 'icon': '//cdn.weatherapi.com/weather/64x64/day/116.png', 'code': 1003}, 'wind_mph': 17.7, 'wind_kph': 28.4, 'wind_degree': 88, 'wind_dir': 'E', 'pressure_mb': 1019.0, 'pressure_in': 30.09, 'precip_mm': 0.0, 'precip_in': 0.0, 'snow_cm': 0.0, 'humidity': 81, 'cloud': 55, 'feelslike_c': 28.3, 'feelslike_f': 83.0, 'windchill_c': 25.8, 'windchill_f': 78.5, 'heatindex_c': 28.3, 'heatindex_f': 83.0, 'dewpoint_c': 22.1, 'dewpoint_f': 71.9, 'will_it_rain': 0, 'chance_of_rain': 0, 'will_it_snow': 0, 'chance_of_snow': 0, 'vis_km': 10.0, 'vis_miles': 6.0, 'gust_mph': 25.9, 'gust_kph': 41.7, 'uv': 0.0}, {'time_epoch': 1739487600, 'time': '2025-02-13 19:00', 'temp_c': 25.6, 'temp_f': 78.1, 'is_day': 0, 'condition': {'text': 'Cloudy ', 'icon': '//cdn.weatherapi.com/weather/64x64/night/119.png', 'code': 1006}, 'wind_mph': 16.6, 'wind_kph': 26.6, 'wind_degree': 88, 'wind_dir': 'E', 'pressure_mb': 1020.0, 'pressure_in': 30.11, 'precip_mm': 0.0, 'precip_in': 0.0, 'snow_cm': 0.0, 'humidity': 83, 'cloud': 82, 'feelslike_c': 28.1, 'feelslike_f': 82.6, 'windchill_c': 25.6, 'windchill_f': 78.1, 'heatindex_c': 28.1, 'heatindex_f': 82.6, 'dewpoint_c': 22.4, 'dewpoint_f': 72.3, 'will_it_rain': 0, 'chance_of_rain': 0, 'will_it_snow': 0, 'chance_of_snow': 0, 'vis_km': 10.0, 'vis_miles': 6.0, 'gust_mph': 25.7, 'gust_kph': 41.4, 'uv': 0}, {'time_epoch': 1739491200, 'time': '2025-02-13 20:00', 'temp_c': 25.3, 'temp_f': 77.6, 'is_day': 0, 'condition': {'text': 'Cloudy ', 'icon': '//cdn.weatherapi.com/weather/64x64/night/119.png', 'code': 1006}, 'wind_mph': 15.7, 'wind_kph': 25.2, 'wind_degree': 86, 'wind_dir': 'E', 'pressure_mb': 1020.0, 'pressure_in': 30.13, 'precip_mm': 0.0, 'precip_in': 0.0, 'snow_cm': 0.0, 'humidity': 84, 'cloud': 81, 'feelslike_c': 27.8, 'feelslike_f': 82.0, 'windchill_c': 25.3, 'windchill_f': 77.6, 'heatindex_c': 27.8, 'heatindex_f': 82.0, 'dewpoint_c': 22.4, 'dewpoint_f': 72.3, 'will_it_rain': 0, 'chance_of_rain': 0, 'will_it_snow': 0, 'chance_of_snow': 0, 'vis_km': 10.0, 'vis_miles': 6.0, 'gust_mph': 24.6, 'gust_kph': 39.5, 'uv': 0}, {'time_epoch': 1739494800, 'time': '2025-02-13 21:00', 'temp_c': 25.1, 'temp_f': 77.1, 'is_day': 0, 'condition': {'text': 'Partly Cloudy ', 'icon': '//cdn.weatherapi.com/weather/64x64/night/116.png', 'code': 1003}, 'wind_mph': 15.4, 'wind_kph': 24.8, 'wind_degree': 85, 'wind_dir': 'E', 'pressure_mb': 1021.0, 'pressure_in': 30.15, 'precip_mm': 0.0, 'precip_in': 0.0, 'snow_cm': 0.0, 'humidity': 87, 'cloud': 49, 'feelslike_c': 27.5, 'feelslike_f': 81.5, 'windchill_c': 25.1, 'windchill_f': 77.1, 'heatindex_c': 27.5, 'heatindex_f': 81.5, 'dewpoint_c': 22.6, 'dewpoint_f': 72.7, 'will_it_rain': 0, 'chance_of_rain': 0, 'will_it_snow': 0, 'chance_of_snow': 0, 'vis_km': 9.0, 'vis_miles': 5.0, 'gust_mph': 24.4, 'gust_kph': 39.3, 'uv': 0}, {'time_epoch': 1739498400, 'time': '2025-02-13 22:00', 'temp_c': 25.0, 'temp_f': 77.0, 'is_day': 0, 'condition': {'text': 'Clear ', 'icon': '//cdn.weatherapi.com/weather/64x64/night/113.png', 'code': 1000}, 'wind_mph': 15.7, 'wind_kph': 25.2, 'wind_degree': 84, 'wind_dir': 'E', 'pressure_mb': 1021.0, 'pressure_in': 30.16, 'precip_mm': 0.0, 'precip_in': 0.0, 'snow_cm': 0.0, 'humidity': 86, 'cloud': 22, 'feelslike_c': 27.6, 'feelslike_f': 81.6, 'windchill_c': 25.0, 'windchill_f': 77.0, 'heatindex_c': 27.6, 'heatindex_f': 81.6, 'dewpoint_c': 22.3, 'dewpoint_f': 72.1, 'will_it_rain': 0, 'chance_of_rain': 0, 'will_it_snow': 0, 'chance_of_snow': 0, 'vis_km': 10.0, 'vis_miles': 6.0, 'gust_mph': 25.1, 'gust_kph': 40.4, 'uv': 0}, {'time_epoch': 1739502000, 'time': '2025-02-13 23:00', 'temp_c': 25.1, 'temp_f': 77.1, 'is_day': 0, 'condition': {'text': 'Cloudy ', 'icon': '//cdn.weatherapi.com/weather/64x64/night/119.png', 'code': 1006}, 'wind_mph': 15.9, 'wind_kph': 25.6, 'wind_degree': 83, 'wind_dir': 'E', 'pressure_mb': 1021.0, 'pressure_in': 30.15, 'precip_mm': 0.0, 'precip_in': 0.0, 'snow_cm': 0.0, 'humidity': 89, 'cloud': 74, 'feelslike_c': 27.5, 'feelslike_f': 81.5, 'windchill_c': 25.1, 'windchill_f': 77.1, 'heatindex_c': 27.5, 'heatindex_f': 81.5, 'dewpoint_c': 23.1, 'dewpoint_f': 73.6, 'will_it_rain': 0, 'chance_of_rain': 0, 'will_it_snow': 0, 'chance_of_snow': 0, 'vis_km': 10.0, 'vis_miles': 6.0, 'gust_mph': 25.3, 'gust_kph': 40.8, 'uv': 0}]}, {'date': '2025-02-14', 'date_epoch': 1739491200, 'day': {'maxtemp_c': 27.1, 'maxtemp_f': 80.8, 'mintemp_c': 23.1, 'mintemp_f': 73.6, 'avgtemp_c': 25.2, 'avgtemp_f': 77.3, 'maxwind_mph': 18.3, 'maxwind_kph': 29.5, 'totalprecip_mm': 0.66, 'totalprecip_in': 0.03, 'totalsnow_cm': 0.0, 'avgvis_km': 10.0, 'avgvis_miles': 6.0, 'avghumidity': 81, 'daily_will_it_rain': 1, 'daily_chance_of_rain': 84, 'daily_will_it_snow': 0, 'daily_chance_of_snow': 0, 'condition': {'text': 'Patchy rain nearby', 'icon': '//cdn.weatherapi.com/weather/64x64/day/176.png', 'code': 1063}, 'uv': 2.1}, 'astro': {'sunrise': '06:52 AM', 'sunset': '06:25 PM', 'moonrise': '08:20 PM', 'moonset': '08:10 AM', 'moon_phase': 'Waning Gibbous', 'moon_illumination': 98, 'is_moon_up': 1, 'is_sun_up': 0}, 'hour': [{'time_epoch': 1739505600, 'time': '2025-02-14 00:00', 'temp_c': 25.1, 'temp_f': 77.1, 'is_day': 0, 'condition': {'text': 'Cloudy ', 'icon': '//cdn.weatherapi.com/weather/64x64/night/119.png', 'code': 1006}, 'wind_mph': 15.9, 'wind_kph': 25.6, 'wind_degree': 82, 'wind_dir': 'E', 'pressure_mb': 1021.0, 'pressure_in': 30.15, 'precip_mm': 0.0, 'precip_in': 0.0, 'snow_cm': 0.0, 'humidity': 84, 'cloud': 63, 'feelslike_c': 27.5, 'feelslike_f': 81.5, 'windchill_c': 25.1, 'windchill_f': 77.1, 'heatindex_c': 27.5, 'heatindex_f': 81.5, 'dewpoint_c': 22.2, 'dewpoint_f': 72.0, 'will_it_rain': 0, 'chance_of_rain': 0, 'will_it_snow': 0, 'chance_of_snow': 0, 'vis_km': 10.0, 'vis_miles': 6.0, 'gust_mph': 25.2, 'gust_kph': 40.5, 'uv': 0}, {'time_epoch': 1739509200, 'time': '2025-02-14 01:00', 'temp_c': 24.9, 'temp_f': 76.9, 'is_day': 0, 'condition': {'text': 'Partly Cloudy ', 'icon': '//cdn.weatherapi.com/weather/64x64/night/116.png', 'code': 1003}, 'wind_mph': 16.3, 'wind_kph': 26.3, 'wind_degree': 82, 'wind_dir': 'E', 'pressure_mb': 1020.0, 'pressure_in': 30.13, 'precip_mm': 0.0, 'precip_in': 0.0, 'snow_cm': 0.0, 'humidity': 85, 'cloud': 44, 'feelslike_c': 27.3, 'feelslike_f': 81.1, 'windchill_c': 24.9, 'windchill_f': 76.9, 'heatindex_c': 27.3, 'heatindex_f': 81.1, 'dewpoint_c': 22.3, 'dewpoint_f': 72.1, 'will_it_rain': 0, 'chance_of_rain': 0, 'will_it_snow': 0, 'chance_of_snow': 0, 'vis_km': 10.0, 'vis_miles': 6.0, 'gust_mph': 26.6, 'gust_kph': 42.9, 'uv': 0}, {'time_epoch': 1739512800, 'time': '2025-02-14 02:00', 'temp_c': 24.8, 'temp_f': 76.7, 'is_day': 0, 'condition': {'text': 'Partly Cloudy ', 'icon': '//cdn.weatherapi.com/weather/64x64/night/116.png', 'code': 1003}, 'wind_mph': 16.6, 'wind_kph': 26.6, 'wind_degree': 81, 'wind_dir': 'E', 'pressure_mb': 1020.0, 'pressure_in': 30.11, 'precip_mm': 0.0, 'precip_in': 0.0, 'snow_cm': 0.0, 'humidity': 84, 'cloud': 35, 'feelslike_c': 27.1, 'feelslike_f': 80.7, 'windchill_c': 24.8, 'windchill_f': 76.7, 'heatindex_c': 27.1, 'heatindex_f': 80.7, 'dewpoint_c': 21.8, 'dewpoint_f': 71.3, 'will_it_rain': 0, 'chance_of_rain': 0, 'will_it_snow': 0, 'chance_of_snow': 0, 'vis_km': 10.0, 'vis_miles': 6.0, 'gust_mph': 28.5, 'gust_kph': 45.8, 'uv': 0}, {'time_epoch': 1739516400, 'time': '2025-02-14 03:00', 'temp_c': 24.8, 'temp_f': 76.6, 'is_day': 0, 'condition': {'text': 'Partly Cloudy ', 'icon': '//cdn.weatherapi.com/weather/64x64/night/116.png', 'code': 1003}, 'wind_mph': 16.3, 'wind_kph': 26.3, 'wind_degree': 82, 'wind_dir': 'E', 'pressure_mb': 1019.0, 'pressure_in': 30.1, 'precip_mm': 0.0, 'precip_in': 0.0, 'snow_cm': 0.0, 'humidity': 83, 'cloud': 41, 'feelslike_c': 26.9, 'feelslike_f': 80.5, 'windchill_c': 24.8, 'windchill_f': 76.6, 'heatindex_c': 26.9, 'heatindex_f': 80.5, 'dewpoint_c': 21.6, 'dewpoint_f': 70.9, 'will_it_rain': 0, 'chance_of_rain': 0, 'will_it_snow': 0, 'chance_of_snow': 0, 'vis_km': 10.0, 'vis_miles': 6.0, 'gust_mph': 25.9, 'gust_kph': 41.6, 'uv': 0}, {'time_epoch': 1739520000, 'time': '2025-02-14 04:00', 'temp_c': 24.7, 'temp_f': 76.5, 'is_day': 0, 'condition': {'text': 'Clear ', 'icon': '//cdn.weatherapi.com/weather/64x64/night/113.png', 'code': 1000}, 'wind_mph': 16.8, 'wind_kph': 27.0, 'wind_degree': 81, 'wind_dir': 'E', 'pressure_mb': 1019.0, 'pressure_in': 30.1, 'precip_mm': 0.0, 'precip_in': 0.0, 'snow_cm': 0.0, 'humidity': 82, 'cloud': 21, 'feelslike_c': 26.9, 'feelslike_f': 80.4, 'windchill_c': 24.7, 'windchill_f': 76.5, 'heatindex_c': 26.9, 'heatindex_f': 80.4, 'dewpoint_c': 21.3, 'dewpoint_f': 70.4, 'will_it_rain': 0, 'chance_of_rain': 0, 'will_it_snow': 0, 'chance_of_snow': 0, 'vis_km': 10.0, 'vis_miles': 6.0, 'gust_mph': 26.6, 'gust_kph': 42.8, 'uv': 0}, {'time_epoch': 1739523600, 'time': '2025-02-14 05:00', 'temp_c': 24.7, 'temp_f': 76.5, 'is_day': 0, 'condition': {'text': 'Clear ', 'icon': '//cdn.weatherapi.com/weather/64x64/night/113.png', 'code': 1000}, 'wind_mph': 16.8, 'wind_kph': 27.0, 'wind_degree': 82, 'wind_dir': 'E', 'pressure_mb': 1020.0, 'pressure_in': 30.11, 'precip_mm': 0.0, 'precip_in': 0.0, 'snow_cm': 0.0, 'humidity': 83, 'cloud': 19, 'feelslike_c': 26.9, 'feelslike_f': 80.3, 'windchill_c': 24.7, 'windchill_f': 76.5, 'heatindex_c': 26.9, 'heatindex_f': 80.3, 'dewpoint_c': 21.6, 'dewpoint_f': 70.8, 'will_it_rain': 0, 'chance_of_rain': 0, 'will_it_snow': 0, 'chance_of_snow': 0, 'vis_km': 10.0, 'vis_miles': 6.0, 'gust_mph': 26.9, 'gust_kph': 43.2, 'uv': 0}, {'time_epoch': 1739527200, 'time': '2025-02-14 06:00', 'temp_c': 24.8, 'temp_f': 76.6, 'is_day': 0, 'condition': {'text': 'Clear ', 'icon': '//cdn.weatherapi.com/weather/64x64/night/113.png', 'code': 1000}, 'wind_mph': 16.6, 'wind_kph': 26.6, 'wind_degree': 81, 'wind_dir': 'E', 'pressure_mb': 1020.0, 'pressure_in': 30.11, 'precip_mm': 0.0, 'precip_in': 0.0, 'snow_cm': 0.0, 'humidity': 82, 'cloud': 20, 'feelslike_c': 26.9, 'feelslike_f': 80.5, 'windchill_c': 24.8, 'windchill_f': 76.6, 'heatindex_c': 26.9, 'heatindex_f': 80.5, 'dewpoint_c': 21.5, 'dewpoint_f': 70.7, 'will_it_rain': 0, 'chance_of_rain': 0, 'will_it_snow': 0, 'chance_of_snow': 0, 'vis_km': 10.0, 'vis_miles': 6.0, 'gust_mph': 26.4, 'gust_kph': 42.4, 'uv': 0}, {'time_epoch': 1739530800, 'time': '2025-02-14 07:00', 'temp_c': 25.0, 'temp_f': 77.0, 'is_day': 1, 'condition': {'text': 'Sunny', 'icon': '//cdn.weatherapi.com/weather/64x64/day/113.png', 'code': 1000}, 'wind_mph': 16.6, 'wind_kph': 26.6, 'wind_degree': 83, 'wind_dir': 'E', 'pressure_mb': 1020.0, 'pressure_in': 30.12, 'precip_mm': 0.0, 'precip_in': 0.0, 'snow_cm': 0.0, 'humidity': 83, 'cloud': 23, 'feelslike_c': 27.3, 'feelslike_f': 81.1, 'windchill_c': 25.0, 'windchill_f': 77.0, 'heatindex_c': 27.3, 'heatindex_f': 81.1, 'dewpoint_c': 21.8, 'dewpoint_f': 71.2, 'will_it_rain': 0, 'chance_of_rain': 0, 'will_it_snow': 0, 'chance_of_snow': 0, 'vis_km': 10.0, 'vis_miles': 6.0, 'gust_mph': 27.4, 'gust_kph': 44.2, 'uv': 0.0}, {'time_epoch': 1739534400, 'time': '2025-02-14 08:00', 'temp_c': 25.1, 'temp_f': 77.3, 'is_day': 1, 'condition': {'text': 'Partly Cloudy ', 'icon': '//cdn.weatherapi.com/weather/64x64/day/116.png', 'code': 1003}, 'wind_mph': 16.3, 'wind_kph': 26.3, 'wind_degree': 86, 'wind_dir': 'E', 'pressure_mb': 1021.0, 'pressure_in': 30.15, 'precip_mm': 0.0, 'precip_in': 0.0, 'snow_cm': 0.0, 'humidity': 85, 'cloud': 35, 'feelslike_c': 27.7, 'feelslike_f': 81.8, 'windchill_c': 25.1, 'windchill_f': 77.3, 'heatindex_c': 27.7, 'heatindex_f': 81.8, 'dewpoint_c': 22.4, 'dewpoint_f': 72.3, 'will_it_rain': 0, 'chance_of_rain': 0, 'will_it_snow': 0, 'chance_of_snow': 0, 'vis_km': 10.0, 'vis_miles': 6.0, 'gust_mph': 27.9, 'gust_kph': 44.9, 'uv': 0.7}, {'time_epoch': 1739538000, 'time': '2025-02-14 09:00', 'temp_c': 25.3, 'temp_f': 77.6, 'is_day': 1, 'condition': {'text': 'Overcast ', 'icon': '//cdn.weatherapi.com/weather/64x64/day/122.png', 'code': 1009}, 'wind_mph': 16.8, 'wind_kph': 27.0, 'wind_degree': 87, 'wind_dir': 'E', 'pressure_mb': 1021.0, 'pressure_in': 30.16, 'precip_mm': 0.0, 'precip_in': 0.0, 'snow_cm': 0.0, 'humidity': 87, 'cloud': 96, 'feelslike_c': 27.7, 'feelslike_f': 81.9, 'windchill_c': 25.3, 'windchill_f': 77.6, 'heatindex_c': 27.7, 'heatindex_f': 81.9, 'dewpoint_c': 23.1, 'dewpoint_f': 73.5, 'will_it_rain': 0, 'chance_of_rain': 0, 'will_it_snow': 0, 'chance_of_snow': 0, 'vis_km': 10.0, 'vis_miles': 6.0, 'gust_mph': 24.8, 'gust_kph': 39.9, 'uv': 2.4}, {'time_epoch': 1739541600, 'time': '2025-02-14 10:00', 'temp_c': 26.2, 'temp_f': 79.2, 'is_day': 1, 'condition': {'text': 'Cloudy ', 'icon': '//cdn.weatherapi.com/weather/64x64/day/119.png', 'code': 1006}, 'wind_mph': 17.0, 'wind_kph': 27.4, 'wind_degree': 89, 'wind_dir': 'E', 'pressure_mb': 1022.0, 'pressure_in': 30.17, 'precip_mm': 0.0, 'precip_in': 0.0, 'snow_cm': 0.0, 'humidity': 80, 'cloud': 65, 'feelslike_c': 29.0, 'feelslike_f': 84.2, 'windchill_c': 26.2, 'windchill_f': 79.2, 'heatindex_c': 29.0, 'heatindex_f': 84.2, 'dewpoint_c': 21.8, 'dewpoint_f': 71.2, 'will_it_rain': 0, 'chance_of_rain': 0, 'will_it_snow': 0, 'chance_of_snow': 0, 'vis_km': 10.0, 'vis_miles': 6.0, 'gust_mph': 22.9, 'gust_kph': 36.8, 'uv': 5.4}, {'time_epoch': 1739545200, 'time': '2025-02-14 11:00', 'temp_c': 26.5, 'temp_f': 79.6, 'is_day': 1, 'condition': {'text': 'Partly Cloudy ', 'icon': '//cdn.weatherapi.com/weather/64x64/day/116.png', 'code': 1003}, 'wind_mph': 17.2, 'wind_kph': 27.7, 'wind_degree': 86, 'wind_dir': 'E', 'pressure_mb': 1021.0, 'pressure_in': 30.16, 'precip_mm': 0.0, 'precip_in': 0.0, 'snow_cm': 0.0, 'humidity': 78, 'cloud': 28, 'feelslike_c': 29.2, 'feelslike_f': 84.6, 'windchill_c': 26.5, 'windchill_f': 79.6, 'heatindex_c': 29.2, 'heatindex_f': 84.6, 'dewpoint_c': 23.0, 'dewpoint_f': 73.3, 'will_it_rain': 0, 'chance_of_rain': 0, 'will_it_snow': 0, 'chance_of_snow': 0, 'vis_km': 10.0, 'vis_miles': 6.0, 'gust_mph': 21.7, 'gust_kph': 35.0, 'uv': 7.6}, {'time_epoch': 1739548800, 'time': '2025-02-14 12:00', 'temp_c': 26.5, 'temp_f': 79.7, 'is_day': 1, 'condition': {'text': 'Partly Cloudy ', 'icon': '//cdn.weatherapi.com/weather/64x64/day/116.png', 'code': 1003}, 'wind_mph': 17.9, 'wind_kph': 28.8, 'wind_degree': 80, 'wind_dir': 'E', 'pressure_mb': 1021.0, 'pressure_in': 30.16, 'precip_mm': 0.0, 'precip_in': 0.0, 'snow_cm': 0.0, 'humidity': 78, 'cloud': 35, 'feelslike_c': 29.1, 'feelslike_f': 84.4, 'windchill_c': 26.5, 'windchill_f': 79.7, 'heatindex_c': 29.1, 'heatindex_f': 84.4, 'dewpoint_c': 22.6, 'dewpoint_f': 72.6, 'will_it_rain': 0, 'chance_of_rain': 0, 'will_it_snow': 0, 'chance_of_snow': 0, 'vis_km': 10.0, 'vis_miles': 6.0, 'gust_mph': 22.2, 'gust_kph': 35.7, 'uv': 9.6}, {'time_epoch': 1739552400, 'time': '2025-02-14 13:00', 'temp_c': 26.2, 'temp_f': 79.2, 'is_day': 1, 'condition': {'text': 'Partly Cloudy ', 'icon': '//cdn.weatherapi.com/weather/64x64/day/116.png', 'code': 1003}, 'wind_mph': 18.1, 'wind_kph': 29.2, 'wind_degree': 76, 'wind_dir': 'ENE', 'pressure_mb': 1021.0, 'pressure_in': 30.14, 'precip_mm': 0.0, 'precip_in': 0.0, 'snow_cm': 0.0, 'humidity': 76, 'cloud': 42, 'feelslike_c': 28.7, 'feelslike_f': 83.6, 'windchill_c': 26.2, 'windchill_f': 79.2, 'heatindex_c': 28.7, 'heatindex_f': 83.6, 'dewpoint_c': 21.9, 'dewpoint_f': 71.4, 'will_it_rain': 0, 'chance_of_rain': 0, 'will_it_snow': 0, 'chance_of_snow': 0, 'vis_km': 10.0, 'vis_miles': 6.0, 'gust_mph': 22.8, 'gust_kph': 36.8, 'uv': 9.4}, {'time_epoch': 1739556000, 'time': '2025-02-14 14:00', 'temp_c': 26.0, 'temp_f': 78.8, 'is_day': 1, 'condition': {'text': 'Cloudy ', 'icon': '//cdn.weatherapi.com/weather/64x64/day/119.png', 'code': 1006}, 'wind_mph': 18.3, 'wind_kph': 29.5, 'wind_degree': 75, 'wind_dir': 'ENE', 'pressure_mb': 1020.0, 'pressure_in': 30.11, 'precip_mm': 0.0, 'precip_in': 0.0, 'snow_cm': 0.0, 'humidity': 76, 'cloud': 67, 'feelslike_c': 28.4, 'feelslike_f': 83.2, 'windchill_c': 26.0, 'windchill_f': 78.8, 'heatindex_c': 28.4, 'heatindex_f': 83.2, 'dewpoint_c': 21.5, 'dewpoint_f': 70.7, 'will_it_rain': 0, 'chance_of_rain': 0, 'will_it_snow': 0, 'chance_of_snow': 0, 'vis_km': 10.0, 'vis_miles': 6.0, 'gust_mph': 22.8, 'gust_kph': 36.6, 'uv': 7.6}, {'time_epoch': 1739559600, 'time': '2025-02-14 15:00', 'temp_c': 25.9, 'temp_f': 78.5, 'is_day': 1, 'condition': {'text': 'Cloudy ', 'icon': '//cdn.weatherapi.com/weather/64x64/day/119.png', 'code': 1006}, 'wind_mph': 17.2, 'wind_kph': 27.7, 'wind_degree': 74, 'wind_dir': 'ENE', 'pressure_mb': 1019.0, 'pressure_in': 30.1, 'precip_mm': 0.0, 'precip_in': 0.0, 'snow_cm': 0.0, 'humidity': 80, 'cloud': 68, 'feelslike_c': 28.3, 'feelslike_f': 83.0, 'windchill_c': 25.9, 'windchill_f': 78.5, 'heatindex_c': 28.3, 'heatindex_f': 83.0, 'dewpoint_c': 22.0, 'dewpoint_f': 71.7, 'will_it_rain': 0, 'chance_of_rain': 0, 'will_it_snow': 0, 'chance_of_snow': 0, 'vis_km': 10.0, 'vis_miles': 6.0, 'gust_mph': 21.1, 'gust_kph': 34.0, 'uv': 4.9}, {'time_epoch': 1739563200, 'time': '2025-02-14 16:00', 'temp_c': 25.7, 'temp_f': 78.3, 'is_day': 1, 'condition': {'text': 'Cloudy ', 'icon': '//cdn.weatherapi.com/weather/64x64/day/119.png', 'code': 1006}, 'wind_mph': 17.7, 'wind_kph': 28.4, 'wind_degree': 78, 'wind_dir': 'ENE', 'pressure_mb': 1019.0, 'pressure_in': 30.09, 'precip_mm': 0.0, 'precip_in': 0.0, 'snow_cm': 0.0, 'humidity': 82, 'cloud': 68, 'feelslike_c': 28.2, 'feelslike_f': 82.8, 'windchill_c': 25.7, 'windchill_f': 78.3, 'heatindex_c': 28.2, 'heatindex_f': 82.8, 'dewpoint_c': 22.3, 'dewpoint_f': 72.1, 'will_it_rain': 0, 'chance_of_rain': 0, 'will_it_snow': 0, 'chance_of_snow': 0, 'vis_km': 10.0, 'vis_miles': 6.0, 'gust_mph': 22.7, 'gust_kph': 36.5, 'uv': 2.3}, {'time_epoch': 1739566800, 'time': '2025-02-14 17:00', 'temp_c': 25.4, 'temp_f': 77.7, 'is_day': 1, 'condition': {'text': 'Cloudy ', 'icon': '//cdn.weatherapi.com/weather/64x64/day/119.png', 'code': 1006}, 'wind_mph': 17.4, 'wind_kph': 28.1, 'wind_degree': 81, 'wind_dir': 'E', 'pressure_mb': 1019.0, 'pressure_in': 30.08, 'precip_mm': 0.0, 'precip_in': 0.0, 'snow_cm': 0.0, 'humidity': 83, 'cloud': 69, 'feelslike_c': 27.8, 'feelslike_f': 82.0, 'windchill_c': 25.4, 'windchill_f': 77.7, 'heatindex_c': 27.8, 'heatindex_f': 82.0, 'dewpoint_c': 22.5, 'dewpoint_f': 72.6, 'will_it_rain': 0, 'chance_of_rain': 0, 'will_it_snow': 0, 'chance_of_snow': 0, 'vis_km': 10.0, 'vis_miles': 6.0, 'gust_mph': 23.4, 'gust_kph': 37.7, 'uv': 0.6}, {'time_epoch': 1739570400, 'time': '2025-02-14 18:00', 'temp_c': 25.1, 'temp_f': 77.1, 'is_day': 1, 'condition': {'text': 'Cloudy ', 'icon': '//cdn.weatherapi.com/weather/64x64/day/119.png', 'code': 1006}, 'wind_mph': 16.6, 'wind_kph': 26.6, 'wind_degree': 76, 'wind_dir': 'ENE', 'pressure_mb': 1019.0, 'pressure_in': 30.1, 'precip_mm': 0.0, 'precip_in': 0.0, 'snow_cm': 0.0, 'humidity': 82, 'cloud': 69, 'feelslike_c': 27.3, 'feelslike_f': 81.2, 'windchill_c': 25.1, 'windchill_f': 77.1, 'heatindex_c': 27.3, 'heatindex_f': 81.2, 'dewpoint_c': 21.7, 'dewpoint_f': 71.1, 'will_it_rain': 0, 'chance_of_rain': 0, 'will_it_snow': 0, 'chance_of_snow': 0, 'vis_km': 10.0, 'vis_miles': 6.0, 'gust_mph': 24.4, 'gust_kph': 39.3, 'uv': 0.0}, {'time_epoch': 1739574000, 'time': '2025-02-14 19:00', 'temp_c': 24.8, 'temp_f': 76.6, 'is_day': 0, 'condition': {'text': 'Cloudy ', 'icon': '//cdn.weatherapi.com/weather/64x64/night/119.png', 'code': 1006}, 'wind_mph': 15.2, 'wind_kph': 24.5, 'wind_degree': 75, 'wind_dir': 'ENE', 'pressure_mb': 1019.0, 'pressure_in': 30.11, 'precip_mm': 0.0, 'precip_in': 0.0, 'snow_cm': 0.0, 'humidity': 81, 'cloud': 70, 'feelslike_c': 26.9, 'feelslike_f': 80.4, 'windchill_c': 24.8, 'windchill_f': 76.6, 'heatindex_c': 26.9, 'heatindex_f': 80.4, 'dewpoint_c': 21.3, 'dewpoint_f': 70.3, 'will_it_rain': 0, 'chance_of_rain': 0, 'will_it_snow': 0, 'chance_of_snow': 0, 'vis_km': 10.0, 'vis_miles': 6.0, 'gust_mph': 24.1, 'gust_kph': 38.8, 'uv': 0}, {'time_epoch': 1739577600, 'time': '2025-02-14 20:00', 'temp_c': 24.6, 'temp_f': 76.4, 'is_day': 0, 'condition': {'text': 'Cloudy ', 'icon': '//cdn.weatherapi.com/weather/64x64/night/119.png', 'code': 1006}, 'wind_mph': 14.5, 'wind_kph': 23.4, 'wind_degree': 74, 'wind_dir': 'ENE', 'pressure_mb': 1020.0, 'pressure_in': 30.11, 'precip_mm': 0.0, 'precip_in': 0.0, 'snow_cm': 0.0, 'humidity': 80, 'cloud': 70, 'feelslike_c': 26.7, 'feelslike_f': 80.0, 'windchill_c': 24.6, 'windchill_f': 76.4, 'heatindex_c': 26.7, 'heatindex_f': 80.0, 'dewpoint_c': 20.9, 'dewpoint_f': 69.5, 'will_it_rain': 0, 'chance_of_rain': 0, 'will_it_snow': 0, 'chance_of_snow': 0, 'vis_km': 10.0, 'vis_miles': 6.0, 'gust_mph': 23.3, 'gust_kph': 37.5, 'uv': 0}, {'time_epoch': 1739581200, 'time': '2025-02-14 21:00', 'temp_c': 24.6, 'temp_f': 76.2, 'is_day': 0, 'condition': {'text': 'Cloudy ', 'icon': '//cdn.weatherapi.com/weather/64x64/night/119.png', 'code': 1006}, 'wind_mph': 17.4, 'wind_kph': 28.1, 'wind_degree': 68, 'wind_dir': 'ENE', 'pressure_mb': 1020.0, 'pressure_in': 30.12, 'precip_mm': 0.0, 'precip_in': 0.0, 'snow_cm': 0.0, 'humidity': 78, 'cloud': 75, 'feelslike_c': 26.5, 'feelslike_f': 79.7, 'windchill_c': 24.6, 'windchill_f': 76.2, 'heatindex_c': 26.5, 'heatindex_f': 79.7, 'dewpoint_c': 20.5, 'dewpoint_f': 68.9, 'will_it_rain': 0, 'chance_of_rain': 0, 'will_it_snow': 0, 'chance_of_snow': 0, 'vis_km': 10.0, 'vis_miles': 6.0, 'gust_mph': 26.3, 'gust_kph': 42.4, 'uv': 0}, {'time_epoch': 1739584800, 'time': '2025-02-14 22:00', 'temp_c': 23.8, 'temp_f': 74.9, 'is_day': 0, 'condition': {'text': 'Cloudy ', 'icon': '//cdn.weatherapi.com/weather/64x64/night/119.png', 'code': 1006}, 'wind_mph': 16.8, 'wind_kph': 27.0, 'wind_degree': 68, 'wind_dir': 'ENE', 'pressure_mb': 1020.0, 'pressure_in': 30.12, 'precip_mm': 0.0, 'precip_in': 0.0, 'snow_cm': 0.0, 'humidity': 77, 'cloud': 77, 'feelslike_c': 25.9, 'feelslike_f': 78.5, 'windchill_c': 23.8, 'windchill_f': 74.9, 'heatindex_c': 25.9, 'heatindex_f': 78.5, 'dewpoint_c': 20.3, 'dewpoint_f': 68.5, 'will_it_rain': 0, 'chance_of_rain': 0, 'will_it_snow': 0, 'chance_of_snow': 0, 'vis_km': 10.0, 'vis_miles': 6.0, 'gust_mph': 25.2, 'gust_kph': 40.6, 'uv': 0}, {'time_epoch': 1739588400, 'time': '2025-02-14 23:00', 'temp_c': 24.2, 'temp_f': 75.5, 'is_day': 0, 'condition': {'text': 'Light rain shower', 'icon': '//cdn.weatherapi.com/weather/64x64/night/353.png', 'code': 1240}, 'wind_mph': 16.8, 'wind_kph': 27.0, 'wind_degree': 69, 'wind_dir': 'ENE', 'pressure_mb': 1019.0, 'pressure_in': 30.1, 'precip_mm': 0.66, 'precip_in': 0.03, 'snow_cm': 0.0, 'humidity': 82, 'cloud': 90, 'feelslike_c': 26.1, 'feelslike_f': 79.0, 'windchill_c': 24.2, 'windchill_f': 75.5, 'heatindex_c': 26.1, 'heatindex_f': 79.0, 'dewpoint_c': 19.9, 'dewpoint_f': 67.9, 'will_it_rain': 1, 'chance_of_rain': 100, 'will_it_snow': 0, 'chance_of_snow': 0, 'vis_km': 10.0, 'vis_miles': 6.0, 'gust_mph': 25.8, 'gust_kph': 41.5, 'uv': 0}]}, {'date': '2025-02-15', 'date_epoch': 1739577600, 'day': {'maxtemp_c': 26.5, 'maxtemp_f': 79.7, 'mintemp_c': 23.9, 'mintemp_f': 75.0, 'avgtemp_c': 24.8, 'avgtemp_f': 76.6, 'maxwind_mph': 19.0, 'maxwind_kph': 30.6, 'totalprecip_mm': 23.97, 'totalprecip_in': 0.94, 'totalsnow_cm': 0.0, 'avgvis_km': 10.0, 'avgvis_miles': 6.0, 'avghumidity': 75, 'daily_will_it_rain': 1, 'daily_chance_of_rain': 85, 'daily_will_it_snow': 0, 'daily_chance_of_snow': 0, 'condition': {'text': 'Heavy rain', 'icon': '//cdn.weatherapi.com/weather/64x64/day/308.png', 'code': 1195}, 'uv': 2.2}, 'astro': {'sunrise': '06:52 AM', 'sunset': '06:25 PM', 'moonrise': '09:08 PM', 'moonset': '08:41 AM', 'moon_phase': 'Waning Gibbous', 'moon_illumination': 94, 'is_moon_up': 0, 'is_sun_up': 0}, 'hour': [{'time_epoch': 1739592000, 'time': '2025-02-15 00:00', 'temp_c': 24.3, 'temp_f': 75.8, 'is_day': 0, 'condition': {'text': 'Cloudy ', 'icon': '//cdn.weatherapi.com/weather/64x64/night/119.png', 'code': 1006}, 'wind_mph': 16.8, 'wind_kph': 27.0, 'wind_degree': 82, 'wind_dir': 'E', 'pressure_mb': 1019.0, 'pressure_in': 30.09, 'precip_mm': 0.0, 'precip_in': 0.0, 'snow_cm': 0.0, 'humidity': 78, 'cloud': 88, 'feelslike_c': 26.3, 'feelslike_f': 79.3, 'windchill_c': 24.3, 'windchill_f': 75.8, 'heatindex_c': 26.3, 'heatindex_f': 79.3, 'dewpoint_c': 20.5, 'dewpoint_f': 68.9, 'will_it_rain': 0, 'chance_of_rain': 0, 'will_it_snow': 0, 'chance_of_snow': 0, 'vis_km': 10.0, 'vis_miles': 6.0, 'gust_mph': 26.2, 'gust_kph': 42.1, 'uv': 0}, {'time_epoch': 1739595600, 'time': '2025-02-15 01:00', 'temp_c': 24.4, 'temp_f': 76.0, 'is_day': 0, 'condition': {'text': 'Cloudy ', 'icon': '//cdn.weatherapi.com/weather/64x64/night/119.png', 'code': 1006}, 'wind_mph': 15.9, 'wind_kph': 25.6, 'wind_degree': 86, 'wind_dir': 'E', 'pressure_mb': 1019.0, 'pressure_in': 30.08, 'precip_mm': 0.0, 'precip_in': 0.0, 'snow_cm': 0.0, 'humidity': 79, 'cloud': 92, 'feelslike_c': 26.4, 'feelslike_f': 79.5, 'windchill_c': 24.4, 'windchill_f': 76.0, 'heatindex_c': 26.4, 'heatindex_f': 79.5, 'dewpoint_c': 20.7, 'dewpoint_f': 69.2, 'will_it_rain': 0, 'chance_of_rain': 0, 'will_it_snow': 0, 'chance_of_snow': 0, 'vis_km': 10.0, 'vis_miles': 6.0, 'gust_mph': 25.1, 'gust_kph': 40.4, 'uv': 0}, {'time_epoch': 1739599200, 'time': '2025-02-15 02:00', 'temp_c': 24.3, 'temp_f': 75.8, 'is_day': 0, 'condition': {'text': 'Overcast ', 'icon': '//cdn.weatherapi.com/weather/64x64/night/122.png', 'code': 1009}, 'wind_mph': 15.9, 'wind_kph': 25.6, 'wind_degree': 83, 'wind_dir': 'E', 'pressure_mb': 1018.0, 'pressure_in': 30.06, 'precip_mm': 0.0, 'precip_in': 0.0, 'snow_cm': 0.0, 'humidity': 80, 'cloud': 97, 'feelslike_c': 26.3, 'feelslike_f': 79.4, 'windchill_c': 24.3, 'windchill_f': 75.8, 'heatindex_c': 26.3, 'heatindex_f': 79.4, 'dewpoint_c': 20.9, 'dewpoint_f': 69.6, 'will_it_rain': 0, 'chance_of_rain': 0, 'will_it_snow': 0, 'chance_of_snow': 0, 'vis_km': 10.0, 'vis_miles': 6.0, 'gust_mph': 25.5, 'gust_kph': 41.0, 'uv': 0}, {'time_epoch': 1739602800, 'time': '2025-02-15 03:00', 'temp_c': 24.2, 'temp_f': 75.5, 'is_day': 0, 'condition': {'text': 'Moderate or heavy rain shower', 'icon': '//cdn.weatherapi.com/weather/64x64/night/356.png', 'code': 1243}, 'wind_mph': 15.9, 'wind_kph': 25.6, 'wind_degree': 82, 'wind_dir': 'E', 'pressure_mb': 1018.0, 'pressure_in': 30.05, 'precip_mm': 1.95, 'precip_in': 0.08, 'snow_cm': 0.0, 'humidity': 83, 'cloud': 95, 'feelslike_c': 26.2, 'feelslike_f': 79.2, 'windchill_c': 24.2, 'windchill_f': 75.5, 'heatindex_c': 26.2, 'heatindex_f': 79.2, 'dewpoint_c': 21.2, 'dewpoint_f': 70.2, 'will_it_rain': 1, 'chance_of_rain': 100, 'will_it_snow': 0, 'chance_of_snow': 0, 'vis_km': 10.0, 'vis_miles': 6.0, 'gust_mph': 25.3, 'gust_kph': 40.7, 'uv': 0}, {'time_epoch': 1739606400, 'time': '2025-02-15 04:00', 'temp_c': 24.0, 'temp_f': 75.3, 'is_day': 0, 'condition': {'text': 'Moderate or heavy rain shower', 'icon': '//cdn.weatherapi.com/weather/64x64/night/356.png', 'code': 1243}, 'wind_mph': 15.9, 'wind_kph': 25.6, 'wind_degree': 87, 'wind_dir': 'E', 'pressure_mb': 1017.0, 'pressure_in': 30.04, 'precip_mm': 2.93, 'precip_in': 0.12, 'snow_cm': 0.0, 'humidity': 85, 'cloud': 95, 'feelslike_c': 26.2, 'feelslike_f': 79.1, 'windchill_c': 24.0, 'windchill_f': 75.3, 'heatindex_c': 26.2, 'heatindex_f': 79.1, 'dewpoint_c': 21.4, 'dewpoint_f': 70.5, 'will_it_rain': 1, 'chance_of_rain': 100, 'will_it_snow': 0, 'chance_of_snow': 0, 'vis_km': 10.0, 'vis_miles': 6.0, 'gust_mph': 26.4, 'gust_kph': 42.4, 'uv': 0}, {'time_epoch': 1739610000, 'time': '2025-02-15 05:00', 'temp_c': 24.0, 'temp_f': 75.2, 'is_day': 0, 'condition': {'text': 'Moderate or heavy rain shower', 'icon': '//cdn.weatherapi.com/weather/64x64/night/356.png', 'code': 1243}, 'wind_mph': 15.7, 'wind_kph': 25.2, 'wind_degree': 86, 'wind_dir': 'E', 'pressure_mb': 1017.0, 'pressure_in': 30.04, 'precip_mm': 3.91, 'precip_in': 0.15, 'snow_cm': 0.0, 'humidity': 87, 'cloud': 94, 'feelslike_c': 26.1, 'feelslike_f': 79.0, 'windchill_c': 24.0, 'windchill_f': 75.2, 'heatindex_c': 26.1, 'heatindex_f': 79.0, 'dewpoint_c': 21.5, 'dewpoint_f': 70.8, 'will_it_rain': 1, 'chance_of_rain': 100, 'will_it_snow': 0, 'chance_of_snow': 0, 'vis_km': 10.0, 'vis_miles': 6.0, 'gust_mph': 26.1, 'gust_kph': 42.1, 'uv': 0}, {'time_epoch': 1739613600, 'time': '2025-02-15 06:00', 'temp_c': 24.0, 'temp_f': 75.3, 'is_day': 0, 'condition': {'text': 'Moderate or heavy rain shower', 'icon': '//cdn.weatherapi.com/weather/64x64/night/356.png', 'code': 1243}, 'wind_mph': 15.2, 'wind_kph': 24.5, 'wind_degree': 84, 'wind_dir': 'E', 'pressure_mb': 1018.0, 'pressure_in': 30.06, 'precip_mm': 4.0, 'precip_in': 0.16, 'snow_cm': 0.0, 'humidity': 83, 'cloud': 85, 'feelslike_c': 26.1, 'feelslike_f': 78.9, 'windchill_c': 24.0, 'windchill_f': 75.3, 'heatindex_c': 26.1, 'heatindex_f': 78.9, 'dewpoint_c': 20.9, 'dewpoint_f': 69.7, 'will_it_rain': 1, 'chance_of_rain': 100, 'will_it_snow': 0, 'chance_of_snow': 0, 'vis_km': 10.0, 'vis_miles': 6.0, 'gust_mph': 25.6, 'gust_kph': 41.3, 'uv': 0}, {'time_epoch': 1739617200, 'time': '2025-02-15 07:00', 'temp_c': 24.1, 'temp_f': 75.3, 'is_day': 1, 'condition': {'text': 'Moderate or heavy rain shower', 'icon': '//cdn.weatherapi.com/weather/64x64/day/356.png', 'code': 1243}, 'wind_mph': 14.3, 'wind_kph': 23.0, 'wind_degree': 84, 'wind_dir': 'E', 'pressure_mb': 1018.0, 'pressure_in': 30.07, 'precip_mm': 4.04, 'precip_in': 0.16, 'snow_cm': 0.0, 'humidity': 81, 'cloud': 81, 'feelslike_c': 26.0, 'feelslike_f': 78.9, 'windchill_c': 24.1, 'windchill_f': 75.3, 'heatindex_c': 26.0, 'heatindex_f': 78.9, 'dewpoint_c': 20.6, 'dewpoint_f': 69.1, 'will_it_rain': 1, 'chance_of_rain': 100, 'will_it_snow': 0, 'chance_of_snow': 0, 'vis_km': 10.0, 'vis_miles': 6.0, 'gust_mph': 24.8, 'gust_kph': 39.9, 'uv': 0.0}, {'time_epoch': 1739620800, 'time': '2025-02-15 08:00', 'temp_c': 24.4, 'temp_f': 75.8, 'is_day': 1, 'condition': {'text': 'Moderate or heavy rain shower', 'icon': '//cdn.weatherapi.com/weather/64x64/day/356.png', 'code': 1243}, 'wind_mph': 14.1, 'wind_kph': 22.7, 'wind_degree': 85, 'wind_dir': 'E', 'pressure_mb': 1019.0, 'pressure_in': 30.09, 'precip_mm': 4.08, 'precip_in': 0.16, 'snow_cm': 0.0, 'humidity': 79, 'cloud': 76, 'feelslike_c': 26.3, 'feelslike_f': 79.3, 'windchill_c': 24.4, 'windchill_f': 75.8, 'heatindex_c': 26.3, 'heatindex_f': 79.3, 'dewpoint_c': 20.3, 'dewpoint_f': 68.6, 'will_it_rain': 1, 'chance_of_rain': 100, 'will_it_snow': 0, 'chance_of_snow': 0, 'vis_km': 10.0, 'vis_miles': 6.0, 'gust_mph': 22.4, 'gust_kph': 36.0, 'uv': 0.9}, {'time_epoch': 1739624400, 'time': '2025-02-15 09:00', 'temp_c': 24.6, 'temp_f': 76.4, 'is_day': 1, 'condition': {'text': 'Moderate or heavy rain shower', 'icon': '//cdn.weatherapi.com/weather/64x64/day/356.png', 'code': 1243}, 'wind_mph': 15.7, 'wind_kph': 25.2, 'wind_degree': 83, 'wind_dir': 'E', 'pressure_mb': 1019.0, 'pressure_in': 30.09, 'precip_mm': 2.04, 'precip_in': 0.08, 'snow_cm': 0.0, 'humidity': 76, 'cloud': 54, 'feelslike_c': 26.5, 'feelslike_f': 79.7, 'windchill_c': 24.6, 'windchill_f': 76.4, 'heatindex_c': 26.5, 'heatindex_f': 79.7, 'dewpoint_c': 20.1, 'dewpoint_f': 68.1, 'will_it_rain': 1, 'chance_of_rain': 100, 'will_it_snow': 0, 'chance_of_snow': 0, 'vis_km': 10.0, 'vis_miles': 6.0, 'gust_mph': 22.0, 'gust_kph': 35.4, 'uv': 2.5}, {'time_epoch': 1739628000, 'time': '2025-02-15 10:00', 'temp_c': 24.9, 'temp_f': 76.9, 'is_day': 1, 'condition': {'text': 'Moderate or heavy rain shower', 'icon': '//cdn.weatherapi.com/weather/64x64/day/356.png', 'code': 1243}, 'wind_mph': 17.0, 'wind_kph': 27.4, 'wind_degree': 84, 'wind_dir': 'E', 'pressure_mb': 1019.0, 'pressure_in': 30.1, 'precip_mm': 1.02, 'precip_in': 0.04, 'snow_cm': 0.0, 'humidity': 74, 'cloud': 80, 'feelslike_c': 26.7, 'feelslike_f': 80.1, 'windchill_c': 24.9, 'windchill_f': 76.9, 'heatindex_c': 26.7, 'heatindex_f': 80.1, 'dewpoint_c': 19.9, 'dewpoint_f': 67.9, 'will_it_rain': 1, 'chance_of_rain': 100, 'will_it_snow': 0, 'chance_of_snow': 0, 'vis_km': 10.0, 'vis_miles': 6.0, 'gust_mph': 21.5, 'gust_kph': 34.6, 'uv': 5.4}, {'time_epoch': 1739631600, 'time': '2025-02-15 11:00', 'temp_c': 25.4, 'temp_f': 77.7, 'is_day': 1, 'condition': {'text': 'Partly Cloudy ', 'icon': '//cdn.weatherapi.com/weather/64x64/day/116.png', 'code': 1003}, 'wind_mph': 18.6, 'wind_kph': 29.9, 'wind_degree': 84, 'wind_dir': 'E', 'pressure_mb': 1019.0, 'pressure_in': 30.1, 'precip_mm': 0.0, 'precip_in': 0.0, 'snow_cm': 0.0, 'humidity': 72, 'cloud': 33, 'feelslike_c': 27.2, 'feelslike_f': 80.9, 'windchill_c': 25.4, 'windchill_f': 77.7, 'heatindex_c': 27.2, 'heatindex_f': 80.9, 'dewpoint_c': 19.8, 'dewpoint_f': 67.6, 'will_it_rain': 0, 'chance_of_rain': 0, 'will_it_snow': 0, 'chance_of_snow': 0, 'vis_km': 10.0, 'vis_miles': 6.0, 'gust_mph': 22.7, 'gust_kph': 36.5, 'uv': 7.9}, {'time_epoch': 1739635200, 'time': '2025-02-15 12:00', 'temp_c': 25.8, 'temp_f': 78.4, 'is_day': 1, 'condition': {'text': 'Partly Cloudy ', 'icon': '//cdn.weatherapi.com/weather/64x64/day/116.png', 'code': 1003}, 'wind_mph': 19.0, 'wind_kph': 30.6, 'wind_degree': 84, 'wind_dir': 'E', 'pressure_mb': 1018.0, 'pressure_in': 30.07, 'precip_mm': 0.0, 'precip_in': 0.0, 'snow_cm': 0.0, 'humidity': 70, 'cloud': 21, 'feelslike_c': 27.6, 'feelslike_f': 81.6, 'windchill_c': 25.8, 'windchill_f': 78.4, 'heatindex_c': 27.6, 'heatindex_f': 81.6, 'dewpoint_c': 20.0, 'dewpoint_f': 67.9, 'will_it_rain': 0, 'chance_of_rain': 0, 'will_it_snow': 0, 'chance_of_snow': 0, 'vis_km': 10.0, 'vis_miles': 6.0, 'gust_mph': 22.7, 'gust_kph': 36.6, 'uv': 9.7}, {'time_epoch': 1739638800, 'time': '2025-02-15 13:00', 'temp_c': 26.1, 'temp_f': 79.1, 'is_day': 1, 'condition': {'text': 'Partly Cloudy ', 'icon': '//cdn.weatherapi.com/weather/64x64/day/116.png', 'code': 1003}, 'wind_mph': 17.9, 'wind_kph': 28.8, 'wind_degree': 83, 'wind_dir': 'E', 'pressure_mb': 1018.0, 'pressure_in': 30.06, 'precip_mm': 0.0, 'precip_in': 0.0, 'snow_cm': 0.0, 'humidity': 69, 'cloud': 16, 'feelslike_c': 27.9, 'feelslike_f': 82.3, 'windchill_c': 26.1, 'windchill_f': 79.1, 'heatindex_c': 27.9, 'heatindex_f': 82.3, 'dewpoint_c': 20.0, 'dewpoint_f': 68.1, 'will_it_rain': 0, 'chance_of_rain': 0, 'will_it_snow': 0, 'chance_of_snow': 0, 'vis_km': 10.0, 'vis_miles': 6.0, 'gust_mph': 21.3, 'gust_kph': 34.3, 'uv': 9.5}, {'time_epoch': 1739642400, 'time': '2025-02-15 14:00', 'temp_c': 26.0, 'temp_f': 78.9, 'is_day': 1, 'condition': {'text': 'Sunny', 'icon': '//cdn.weatherapi.com/weather/64x64/day/113.png', 'code': 1000}, 'wind_mph': 17.2, 'wind_kph': 27.7, 'wind_degree': 81, 'wind_dir': 'E', 'pressure_mb': 1017.0, 'pressure_in': 30.04, 'precip_mm': 0.0, 'precip_in': 0.0, 'snow_cm': 0.0, 'humidity': 68, 'cloud': 10, 'feelslike_c': 27.8, 'feelslike_f': 82.1, 'windchill_c': 26.0, 'windchill_f': 78.9, 'heatindex_c': 27.8, 'heatindex_f': 82.1, 'dewpoint_c': 20.1, 'dewpoint_f': 68.2, 'will_it_rain': 0, 'chance_of_rain': 0, 'will_it_snow': 0, 'chance_of_snow': 0, 'vis_km': 10.0, 'vis_miles': 6.0, 'gust_mph': 20.8, 'gust_kph': 33.4, 'uv': 7.8}, {'time_epoch': 1739646000, 'time': '2025-02-15 15:00', 'temp_c': 25.9, 'temp_f': 78.5, 'is_day': 1, 'condition': {'text': 'Partly Cloudy ', 'icon': '//cdn.weatherapi.com/weather/64x64/day/116.png', 'code': 1003}, 'wind_mph': 17.0, 'wind_kph': 27.4, 'wind_degree': 79, 'wind_dir': 'E', 'pressure_mb': 1017.0, 'pressure_in': 30.03, 'precip_mm': 0.0, 'precip_in': 0.0, 'snow_cm': 0.0, 'humidity': 69, 'cloud': 31, 'feelslike_c': 27.6, 'feelslike_f': 81.7, 'windchill_c': 25.9, 'windchill_f': 78.5, 'heatindex_c': 27.6, 'heatindex_f': 81.7, 'dewpoint_c': 19.9, 'dewpoint_f': 67.7, 'will_it_rain': 0, 'chance_of_rain': 0, 'will_it_snow': 0, 'chance_of_snow': 0, 'vis_km': 10.0, 'vis_miles': 6.0, 'gust_mph': 21.0, 'gust_kph': 33.8, 'uv': 5.0}, {'time_epoch': 1739649600, 'time': '2025-02-15 16:00', 'temp_c': 25.6, 'temp_f': 78.1, 'is_day': 1, 'condition': {'text': 'Partly Cloudy ', 'icon': '//cdn.weatherapi.com/weather/64x64/day/116.png', 'code': 1003}, 'wind_mph': 17.0, 'wind_kph': 27.4, 'wind_degree': 79, 'wind_dir': 'E', 'pressure_mb': 1017.0, 'pressure_in': 30.02, 'precip_mm': 0.0, 'precip_in': 0.0, 'snow_cm': 0.0, 'humidity': 70, 'cloud': 41, 'feelslike_c': 27.3, 'feelslike_f': 81.2, 'windchill_c': 25.6, 'windchill_f': 78.1, 'heatindex_c': 27.3, 'heatindex_f': 81.2, 'dewpoint_c': 19.7, 'dewpoint_f': 67.5, 'will_it_rain': 0, 'chance_of_rain': 0, 'will_it_snow': 0, 'chance_of_snow': 0, 'vis_km': 10.0, 'vis_miles': 6.0, 'gust_mph': 21.8, 'gust_kph': 35.1, 'uv': 2.4}, {'time_epoch': 1739653200, 'time': '2025-02-15 17:00', 'temp_c': 25.3, 'temp_f': 77.5, 'is_day': 1, 'condition': {'text': 'Partly Cloudy ', 'icon': '//cdn.weatherapi.com/weather/64x64/day/116.png', 'code': 1003}, 'wind_mph': 16.1, 'wind_kph': 25.9, 'wind_degree': 82, 'wind_dir': 'E', 'pressure_mb': 1016.0, 'pressure_in': 30.02, 'precip_mm': 0.0, 'precip_in': 0.0, 'snow_cm': 0.0, 'humidity': 70, 'cloud': 51, 'feelslike_c': 27.0, 'feelslike_f': 80.5, 'windchill_c': 25.3, 'windchill_f': 77.5, 'heatindex_c': 27.0, 'heatindex_f': 80.5, 'dewpoint_c': 19.6, 'dewpoint_f': 67.3, 'will_it_rain': 0, 'chance_of_rain': 0, 'will_it_snow': 0, 'chance_of_snow': 0, 'vis_km': 10.0, 'vis_miles': 6.0, 'gust_mph': 21.7, 'gust_kph': 34.9, 'uv': 0.6}, {'time_epoch': 1739656800, 'time': '2025-02-15 18:00', 'temp_c': 25.0, 'temp_f': 77.0, 'is_day': 1, 'condition': {'text': 'Partly Cloudy ', 'icon': '//cdn.weatherapi.com/weather/64x64/day/116.png', 'code': 1003}, 'wind_mph': 15.4, 'wind_kph': 24.8, 'wind_degree': 82, 'wind_dir': 'E', 'pressure_mb': 1017.0, 'pressure_in': 30.03, 'precip_mm': 0.0, 'precip_in': 0.0, 'snow_cm': 0.0, 'humidity': 70, 'cloud': 41, 'feelslike_c': 26.7, 'feelslike_f': 80.0, 'windchill_c': 25.0, 'windchill_f': 77.0, 'heatindex_c': 26.7, 'heatindex_f': 80.0, 'dewpoint_c': 19.2, 'dewpoint_f': 66.6, 'will_it_rain': 0, 'chance_of_rain': 0, 'will_it_snow': 0, 'chance_of_snow': 0, 'vis_km': 10.0, 'vis_miles': 6.0, 'gust_mph': 23.1, 'gust_kph': 37.2, 'uv': 0.0}, {'time_epoch': 1739660400, 'time': '2025-02-15 19:00', 'temp_c': 24.8, 'temp_f': 76.6, 'is_day': 0, 'condition': {'text': 'Partly Cloudy ', 'icon': '//cdn.weatherapi.com/weather/64x64/night/116.png', 'code': 1003}, 'wind_mph': 15.4, 'wind_kph': 24.8, 'wind_degree': 78, 'wind_dir': 'ENE', 'pressure_mb': 1017.0, 'pressure_in': 30.03, 'precip_mm': 0.0, 'precip_in': 0.0, 'snow_cm': 0.0, 'humidity': 70, 'cloud': 36, 'feelslike_c': 26.4, 'feelslike_f': 79.5, 'windchill_c': 24.8, 'windchill_f': 76.6, 'heatindex_c': 26.4, 'heatindex_f': 79.5, 'dewpoint_c': 19.0, 'dewpoint_f': 66.2, 'will_it_rain': 0, 'chance_of_rain': 0, 'will_it_snow': 0, 'chance_of_snow': 0, 'vis_km': 10.0, 'vis_miles': 6.0, 'gust_mph': 24.7, 'gust_kph': 39.7, 'uv': 0}, {'time_epoch': 1739664000, 'time': '2025-02-15 20:00', 'temp_c': 24.5, 'temp_f': 76.1, 'is_day': 0, 'condition': {'text': 'Partly Cloudy ', 'icon': '//cdn.weatherapi.com/weather/64x64/night/116.png', 'code': 1003}, 'wind_mph': 16.1, 'wind_kph': 25.9, 'wind_degree': 86, 'wind_dir': 'E', 'pressure_mb': 1017.0, 'pressure_in': 30.04, 'precip_mm': 0.0, 'precip_in': 0.0, 'snow_cm': 0.0, 'humidity': 71, 'cloud': 31, 'feelslike_c': 26.2, 'feelslike_f': 79.2, 'windchill_c': 24.5, 'windchill_f': 76.1, 'heatindex_c': 26.2, 'heatindex_f': 79.2, 'dewpoint_c': 18.8, 'dewpoint_f': 65.9, 'will_it_rain': 0, 'chance_of_rain': 0, 'will_it_snow': 0, 'chance_of_snow': 0, 'vis_km': 10.0, 'vis_miles': 6.0, 'gust_mph': 25.6, 'gust_kph': 41.2, 'uv': 0}, {'time_epoch': 1739667600, 'time': '2025-02-15 21:00', 'temp_c': 24.4, 'temp_f': 75.9, 'is_day': 0, 'condition': {'text': 'Partly Cloudy ', 'icon': '//cdn.weatherapi.com/weather/64x64/night/116.png', 'code': 1003}, 'wind_mph': 15.9, 'wind_kph': 25.6, 'wind_degree': 88, 'wind_dir': 'E', 'pressure_mb': 1018.0, 'pressure_in': 30.05, 'precip_mm': 0.0, 'precip_in': 0.0, 'snow_cm': 0.0, 'humidity': 73, 'cloud': 32, 'feelslike_c': 26.1, 'feelslike_f': 79.0, 'windchill_c': 24.4, 'windchill_f': 75.9, 'heatindex_c': 26.1, 'heatindex_f': 79.0, 'dewpoint_c': 19.2, 'dewpoint_f': 66.6, 'will_it_rain': 0, 'chance_of_rain': 0, 'will_it_snow': 0, 'chance_of_snow': 0, 'vis_km': 10.0, 'vis_miles': 6.0, 'gust_mph': 25.5, 'gust_kph': 41.1, 'uv': 0}, {'time_epoch': 1739671200, 'time': '2025-02-15 22:00', 'temp_c': 24.4, 'temp_f': 76.0, 'is_day': 0, 'condition': {'text': 'Partly Cloudy ', 'icon': '//cdn.weatherapi.com/weather/64x64/night/116.png', 'code': 1003}, 'wind_mph': 15.2, 'wind_kph': 24.5, 'wind_degree': 92, 'wind_dir': 'E', 'pressure_mb': 1018.0, 'pressure_in': 30.05, 'precip_mm': 0.0, 'precip_in': 0.0, 'snow_cm': 0.0, 'humidity': 75, 'cloud': 33, 'feelslike_c': 26.2, 'feelslike_f': 79.2, 'windchill_c': 24.4, 'windchill_f': 76.0, 'heatindex_c': 26.2, 'heatindex_f': 79.2, 'dewpoint_c': 19.4, 'dewpoint_f': 66.9, 'will_it_rain': 0, 'chance_of_rain': 0, 'will_it_snow': 0, 'chance_of_snow': 0, 'vis_km': 10.0, 'vis_miles': 6.0, 'gust_mph': 24.7, 'gust_kph': 39.7, 'uv': 0}, {'time_epoch': 1739674800, 'time': '2025-02-15 23:00', 'temp_c': 24.3, 'temp_f': 75.7, 'is_day': 0, 'condition': {'text': 'Cloudy ', 'icon': '//cdn.weatherapi.com/weather/64x64/night/119.png', 'code': 1006}, 'wind_mph': 14.3, 'wind_kph': 23.0, 'wind_degree': 95, 'wind_dir': 'E', 'pressure_mb': 1020.0, 'pressure_in': 30.12, 'precip_mm': 0.0, 'precip_in': 0.0, 'snow_cm': 0.0, 'humidity': 77, 'cloud': 80, 'feelslike_c': 26.1, 'feelslike_f': 79.0, 'windchill_c': 24.3, 'windchill_f': 75.7, 'heatindex_c': 26.1, 'heatindex_f': 79.0, 'dewpoint_c': 20.1, 'dewpoint_f': 68.2, 'will_it_rain': 0, 'chance_of_rain': 0, 'will_it_snow': 0, 'chance_of_snow': 0, 'vis_km': 10.0, 'vis_miles': 6.0, 'gust_mph': 23.6, 'gust_kph': 38.0, 'uv': 0}]}, {'date': '2025-02-16', 'date_epoch': 1739664000, 'day': {'maxtemp_c': 27.2, 'maxtemp_f': 81.0, 'mintemp_c': 22.6, 'mintemp_f': 72.6, 'avgtemp_c': 25.1, 'avgtemp_f': 77.1, 'maxwind_mph': 15.9, 'maxwind_kph': 25.6, 'totalprecip_mm': 0.0, 'totalprecip_in': 0.0, 'totalsnow_cm': 0.0, 'avgvis_km': 10.0, 'avgvis_miles': 6.0, 'avghumidity': 76, 'daily_will_it_rain': 0, 'daily_chance_of_rain': 0, 'daily_will_it_snow': 0, 'daily_chance_of_snow': 0, 'condition': {'text': 'Cloudy ', 'icon': '//cdn.weatherapi.com/weather/64x64/day/119.png', 'code': 1006}, 'uv': 2.2}, 'astro': {'sunrise': '06:51 AM', 'sunset': '06:26 PM', 'moonrise': '09:55 PM', 'moonset': '09:13 AM', 'moon_phase': 'Waning Gibbous', 'moon_illumination': 89, 'is_moon_up': 0, 'is_sun_up': 0}, 'hour': [{'time_epoch': 1739678400, 'time': '2025-02-16 00:00', 'temp_c': 24.2, 'temp_f': 75.6, 'is_day': 0, 'condition': {'text': 'Partly Cloudy ', 'icon': '//cdn.weatherapi.com/weather/64x64/night/116.png', 'code': 1003}, 'wind_mph': 14.1, 'wind_kph': 22.7, 'wind_degree': 95, 'wind_dir': 'E', 'pressure_mb': 1017.0, 'pressure_in': 30.04, 'precip_mm': 0.0, 'precip_in': 0.0, 'snow_cm': 0.0, 'humidity': 78, 'cloud': 42, 'feelslike_c': 26.1, 'feelslike_f': 79.0, 'windchill_c': 24.2, 'windchill_f': 75.6, 'heatindex_c': 26.1, 'heatindex_f': 79.0, 'dewpoint_c': 20.2, 'dewpoint_f': 68.3, 'will_it_rain': 0, 'chance_of_rain': 0, 'will_it_snow': 0, 'chance_of_snow': 0, 'vis_km': 10.0, 'vis_miles': 6.0, 'gust_mph': 23.3, 'gust_kph': 37.4, 'uv': 0}, {'time_epoch': 1739682000, 'time': '2025-02-16 01:00', 'temp_c': 24.2, 'temp_f': 75.6, 'is_day': 0, 'condition': {'text': 'Partly Cloudy ', 'icon': '//cdn.weatherapi.com/weather/64x64/night/116.png', 'code': 1003}, 'wind_mph': 13.9, 'wind_kph': 22.3, 'wind_degree': 95, 'wind_dir': 'E', 'pressure_mb': 1017.0, 'pressure_in': 30.03, 'precip_mm': 0.0, 'precip_in': 0.0, 'snow_cm': 0.0, 'humidity': 80, 'cloud': 47, 'feelslike_c': 26.1, 'feelslike_f': 79.1, 'windchill_c': 24.2, 'windchill_f': 75.6, 'heatindex_c': 26.1, 'heatindex_f': 79.1, 'dewpoint_c': 20.5, 'dewpoint_f': 68.8, 'will_it_rain': 0, 'chance_of_rain': 0, 'will_it_snow': 0, 'chance_of_snow': 0, 'vis_km': 10.0, 'vis_miles': 6.0, 'gust_mph': 23.1, 'gust_kph': 37.1, 'uv': 0}, {'time_epoch': 1739685600, 'time': '2025-02-16 02:00', 'temp_c': 24.4, 'temp_f': 75.9, 'is_day': 0, 'condition': {'text': 'Partly Cloudy ', 'icon': '//cdn.weatherapi.com/weather/64x64/night/116.png', 'code': 1003}, 'wind_mph': 13.0, 'wind_kph': 20.9, 'wind_degree': 95, 'wind_dir': 'E', 'pressure_mb': 1017.0, 'pressure_in': 30.02, 'precip_mm': 0.0, 'precip_in': 0.0, 'snow_cm': 0.0, 'humidity': 81, 'cloud': 51, 'feelslike_c': 26.4, 'feelslike_f': 79.5, 'windchill_c': 24.4, 'windchill_f': 75.9, 'heatindex_c': 26.4, 'heatindex_f': 79.5, 'dewpoint_c': 20.7, 'dewpoint_f': 69.3, 'will_it_rain': 0, 'chance_of_rain': 0, 'will_it_snow': 0, 'chance_of_snow': 0, 'vis_km': 10.0, 'vis_miles': 6.0, 'gust_mph': 21.6, 'gust_kph': 34.7, 'uv': 0}, {'time_epoch': 1739689200, 'time': '2025-02-16 03:00', 'temp_c': 24.6, 'temp_f': 76.2, 'is_day': 0, 'condition': {'text': 'Partly Cloudy ', 'icon': '//cdn.weatherapi.com/weather/64x64/night/116.png', 'code': 1003}, 'wind_mph': 12.5, 'wind_kph': 20.2, 'wind_degree': 95, 'wind_dir': 'E', 'pressure_mb': 1017.0, 'pressure_in': 30.02, 'precip_mm': 0.0, 'precip_in': 0.0, 'snow_cm': 0.0, 'humidity': 81, 'cloud': 68, 'feelslike_c': 26.6, 'feelslike_f': 79.8, 'windchill_c': 24.6, 'windchill_f': 76.2, 'heatindex_c': 26.6, 'heatindex_f': 79.8, 'dewpoint_c': 21.0, 'dewpoint_f': 69.8, 'will_it_rain': 0, 'chance_of_rain': 0, 'will_it_snow': 0, 'chance_of_snow': 0, 'vis_km': 10.0, 'vis_miles': 6.0, 'gust_mph': 20.8, 'gust_kph': 33.4, 'uv': 0}, {'time_epoch': 1739692800, 'time': '2025-02-16 04:00', 'temp_c': 24.7, 'temp_f': 76.5, 'is_day': 0, 'condition': {'text': 'Partly Cloudy ', 'icon': '//cdn.weatherapi.com/weather/64x64/night/116.png', 'code': 1003}, 'wind_mph': 11.6, 'wind_kph': 18.7, 'wind_degree': 99, 'wind_dir': 'E', 'pressure_mb': 1017.0, 'pressure_in': 30.02, 'precip_mm': 0.0, 'precip_in': 0.0, 'snow_cm': 0.0, 'humidity': 80, 'cloud': 76, 'feelslike_c': 26.8, 'feelslike_f': 80.2, 'windchill_c': 24.7, 'windchill_f': 76.5, 'heatindex_c': 26.8, 'heatindex_f': 80.2, 'dewpoint_c': 21.1, 'dewpoint_f': 70.0, 'will_it_rain': 0, 'chance_of_rain': 0, 'will_it_snow': 0, 'chance_of_snow': 0, 'vis_km': 10.0, 'vis_miles': 6.0, 'gust_mph': 19.3, 'gust_kph': 31.1, 'uv': 0}, {'time_epoch': 1739696400, 'time': '2025-02-16 05:00', 'temp_c': 24.9, 'temp_f': 76.8, 'is_day': 0, 'condition': {'text': 'Cloudy ', 'icon': '//cdn.weatherapi.com/weather/64x64/night/119.png', 'code': 1006}, 'wind_mph': 10.7, 'wind_kph': 17.3, 'wind_degree': 106, 'wind_dir': 'ESE', 'pressure_mb': 1017.0, 'pressure_in': 30.02, 'precip_mm': 0.0, 'precip_in': 0.0, 'snow_cm': 0.0, 'humidity': 80, 'cloud': 85, 'feelslike_c': 27.0, 'feelslike_f': 80.5, 'windchill_c': 24.9, 'windchill_f': 76.8, 'heatindex_c': 27.0, 'heatindex_f': 80.5, 'dewpoint_c': 21.3, 'dewpoint_f': 70.3, 'will_it_rain': 0, 'chance_of_rain': 0, 'will_it_snow': 0, 'chance_of_snow': 0, 'vis_km': 10.0, 'vis_miles': 6.0, 'gust_mph': 17.9, 'gust_kph': 28.8, 'uv': 0}, {'time_epoch': 1739700000, 'time': '2025-02-16 06:00', 'temp_c': 25.0, 'temp_f': 76.9, 'is_day': 0, 'condition': {'text': 'Cloudy ', 'icon': '//cdn.weatherapi.com/weather/64x64/night/119.png', 'code': 1006}, 'wind_mph': 10.5, 'wind_kph': 16.9, 'wind_degree': 119, 'wind_dir': 'ESE', 'pressure_mb': 1017.0, 'pressure_in': 30.04, 'precip_mm': 0.0, 'precip_in': 0.0, 'snow_cm': 0.0, 'humidity': 81, 'cloud': 84, 'feelslike_c': 27.1, 'feelslike_f': 80.8, 'windchill_c': 25.0, 'windchill_f': 76.9, 'heatindex_c': 27.1, 'heatindex_f': 80.8, 'dewpoint_c': 21.5, 'dewpoint_f': 70.7, 'will_it_rain': 0, 'chance_of_rain': 0, 'will_it_snow': 0, 'chance_of_snow': 0, 'vis_km': 10.0, 'vis_miles': 6.0, 'gust_mph': 17.7, 'gust_kph': 28.4, 'uv': 0}, {'time_epoch': 1739703600, 'time': '2025-02-16 07:00', 'temp_c': 25.0, 'temp_f': 77.1, 'is_day': 1, 'condition': {'text': 'Cloudy ', 'icon': '//cdn.weatherapi.com/weather/64x64/day/119.png', 'code': 1006}, 'wind_mph': 10.7, 'wind_kph': 17.3, 'wind_degree': 120, 'wind_dir': 'ESE', 'pressure_mb': 1018.0, 'pressure_in': 30.05, 'precip_mm': 0.0, 'precip_in': 0.0, 'snow_cm': 0.0, 'humidity': 81, 'cloud': 84, 'feelslike_c': 27.2, 'feelslike_f': 81.0, 'windchill_c': 25.0, 'windchill_f': 77.1, 'heatindex_c': 27.2, 'heatindex_f': 81.0, 'dewpoint_c': 21.7, 'dewpoint_f': 71.0, 'will_it_rain': 0, 'chance_of_rain': 0, 'will_it_snow': 0, 'chance_of_snow': 0, 'vis_km': 10.0, 'vis_miles': 6.0, 'gust_mph': 18.4, 'gust_kph': 29.6, 'uv': 0.0}, {'time_epoch': 1739707200, 'time': '2025-02-16 08:00', 'temp_c': 25.4, 'temp_f': 77.7, 'is_day': 1, 'condition': {'text': 'Cloudy ', 'icon': '//cdn.weatherapi.com/weather/64x64/day/119.png', 'code': 1006}, 'wind_mph': 11.0, 'wind_kph': 17.6, 'wind_degree': 115, 'wind_dir': 'ESE', 'pressure_mb': 1018.0, 'pressure_in': 30.06, 'precip_mm': 0.0, 'precip_in': 0.0, 'snow_cm': 0.0, 'humidity': 82, 'cloud': 83, 'feelslike_c': 27.8, 'feelslike_f': 82.0, 'windchill_c': 25.4, 'windchill_f': 77.7, 'heatindex_c': 27.8, 'heatindex_f': 82.0, 'dewpoint_c': 21.8, 'dewpoint_f': 71.2, 'will_it_rain': 0, 'chance_of_rain': 0, 'will_it_snow': 0, 'chance_of_snow': 0, 'vis_km': 10.0, 'vis_miles': 6.0, 'gust_mph': 16.7, 'gust_kph': 26.9, 'uv': 0.8}, {'time_epoch': 1739710800, 'time': '2025-02-16 09:00', 'temp_c': 25.8, 'temp_f': 78.4, 'is_day': 1, 'condition': {'text': 'Cloudy ', 'icon': '//cdn.weatherapi.com/weather/64x64/day/119.png', 'code': 1006}, 'wind_mph': 12.3, 'wind_kph': 19.8, 'wind_degree': 112, 'wind_dir': 'ESE', 'pressure_mb': 1018.0, 'pressure_in': 30.07, 'precip_mm': 0.0, 'precip_in': 0.0, 'snow_cm': 0.0, 'humidity': 80, 'cloud': 66, 'feelslike_c': 28.3, 'feelslike_f': 82.9, 'windchill_c': 25.8, 'windchill_f': 78.4, 'heatindex_c': 28.3, 'heatindex_f': 82.9, 'dewpoint_c': 22.2, 'dewpoint_f': 71.9, 'will_it_rain': 0, 'chance_of_rain': 0, 'will_it_snow': 0, 'chance_of_snow': 0, 'vis_km': 10.0, 'vis_miles': 6.0, 'gust_mph': 16.3, 'gust_kph': 26.2, 'uv': 2.3}, {'time_epoch': 1739714400, 'time': '2025-02-16 10:00', 'temp_c': 26.1, 'temp_f': 79.1, 'is_day': 1, 'condition': {'text': 'Cloudy ', 'icon': '//cdn.weatherapi.com/weather/64x64/day/119.png', 'code': 1006}, 'wind_mph': 14.3, 'wind_kph': 23.0, 'wind_degree': 107, 'wind_dir': 'ESE', 'pressure_mb': 1018.0, 'pressure_in': 30.07, 'precip_mm': 0.0, 'precip_in': 0.0, 'snow_cm': 0.0, 'humidity': 80, 'cloud': 57, 'feelslike_c': 28.8, 'feelslike_f': 83.8, 'windchill_c': 26.1, 'windchill_f': 79.1, 'heatindex_c': 28.8, 'heatindex_f': 83.8, 'dewpoint_c': 22.3, 'dewpoint_f': 72.2, 'will_it_rain': 0, 'chance_of_rain': 0, 'will_it_snow': 0, 'chance_of_snow': 0, 'vis_km': 10.0, 'vis_miles': 6.0, 'gust_mph': 18.0, 'gust_kph': 29.0, 'uv': 5.5}, {'time_epoch': 1739718000, 'time': '2025-02-16 11:00', 'temp_c': 26.3, 'temp_f': 79.4, 'is_day': 1, 'condition': {'text': 'Partly Cloudy ', 'icon': '//cdn.weatherapi.com/weather/64x64/day/116.png', 'code': 1003}, 'wind_mph': 14.3, 'wind_kph': 23.0, 'wind_degree': 100, 'wind_dir': 'E', 'pressure_mb': 1018.0, 'pressure_in': 30.07, 'precip_mm': 0.0, 'precip_in': 0.0, 'snow_cm': 0.0, 'humidity': 79, 'cloud': 48, 'feelslike_c': 28.9, 'feelslike_f': 84.0, 'windchill_c': 26.3, 'windchill_f': 79.4, 'heatindex_c': 28.9, 'heatindex_f': 84.0, 'dewpoint_c': 22.5, 'dewpoint_f': 72.5, 'will_it_rain': 0, 'chance_of_rain': 0, 'will_it_snow': 0, 'chance_of_snow': 0, 'vis_km': 10.0, 'vis_miles': 6.0, 'gust_mph': 17.5, 'gust_kph': 28.2, 'uv': 8.1}, {'time_epoch': 1739721600, 'time': '2025-02-16 12:00', 'temp_c': 26.5, 'temp_f': 79.6, 'is_day': 1, 'condition': {'text': 'Partly Cloudy ', 'icon': '//cdn.weatherapi.com/weather/64x64/day/116.png', 'code': 1003}, 'wind_mph': 14.8, 'wind_kph': 23.8, 'wind_degree': 95, 'wind_dir': 'E', 'pressure_mb': 1018.0, 'pressure_in': 30.05, 'precip_mm': 0.0, 'precip_in': 0.0, 'snow_cm': 0.0, 'humidity': 76, 'cloud': 43, 'feelslike_c': 28.9, 'feelslike_f': 84.1, 'windchill_c': 26.5, 'windchill_f': 79.6, 'heatindex_c': 28.9, 'heatindex_f': 84.1, 'dewpoint_c': 21.9, 'dewpoint_f': 71.4, 'will_it_rain': 0, 'chance_of_rain': 0, 'will_it_snow': 0, 'chance_of_snow': 0, 'vis_km': 10.0, 'vis_miles': 6.0, 'gust_mph': 17.8, 'gust_kph': 28.6, 'uv': 9.7}, {'time_epoch': 1739725200, 'time': '2025-02-16 13:00', 'temp_c': 26.5, 'temp_f': 79.8, 'is_day': 1, 'condition': {'text': 'Partly Cloudy ', 'icon': '//cdn.weatherapi.com/weather/64x64/day/116.png', 'code': 1003}, 'wind_mph': 15.4, 'wind_kph': 24.8, 'wind_degree': 92, 'wind_dir': 'E', 'pressure_mb': 1017.0, 'pressure_in': 30.03, 'precip_mm': 0.0, 'precip_in': 0.0, 'snow_cm': 0.0, 'humidity': 74, 'cloud': 40, 'feelslike_c': 28.9, 'feelslike_f': 84.0, 'windchill_c': 26.5, 'windchill_f': 79.8, 'heatindex_c': 28.9, 'heatindex_f': 84.0, 'dewpoint_c': 21.6, 'dewpoint_f': 70.9, 'will_it_rain': 0, 'chance_of_rain': 0, 'will_it_snow': 0, 'chance_of_snow': 0, 'vis_km': 10.0, 'vis_miles': 6.0, 'gust_mph': 18.5, 'gust_kph': 29.8, 'uv': 9.6}, {'time_epoch': 1739728800, 'time': '2025-02-16 14:00', 'temp_c': 26.9, 'temp_f': 80.4, 'is_day': 1, 'condition': {'text': 'Partly Cloudy ', 'icon': '//cdn.weatherapi.com/weather/64x64/day/116.png', 'code': 1003}, 'wind_mph': 15.7, 'wind_kph': 25.2, 'wind_degree': 92, 'wind_dir': 'E', 'pressure_mb': 1017.0, 'pressure_in': 30.02, 'precip_mm': 0.0, 'precip_in': 0.0, 'snow_cm': 0.0, 'humidity': 73, 'cloud': 37, 'feelslike_c': 28.7, 'feelslike_f': 83.7, 'windchill_c': 26.9, 'windchill_f': 80.4, 'heatindex_c': 28.7, 'heatindex_f': 83.7, 'dewpoint_c': 21.3, 'dewpoint_f': 70.3, 'will_it_rain': 0, 'chance_of_rain': 0, 'will_it_snow': 0, 'chance_of_snow': 0, 'vis_km': 10.0, 'vis_miles': 6.0, 'gust_mph': 18.9, 'gust_kph': 30.4, 'uv': 7.7}, {'time_epoch': 1739732400, 'time': '2025-02-16 15:00', 'temp_c': 26.9, 'temp_f': 80.4, 'is_day': 1, 'condition': {'text': 'Sunny', 'icon': '//cdn.weatherapi.com/weather/64x64/day/113.png', 'code': 1000}, 'wind_mph': 15.9, 'wind_kph': 25.6, 'wind_degree': 93, 'wind_dir': 'E', 'pressure_mb': 1015.0, 'pressure_in': 29.98, 'precip_mm': 0.0, 'precip_in': 0.0, 'snow_cm': 0.0, 'humidity': 59, 'cloud': 0, 'feelslike_c': 28.4, 'feelslike_f': 83.1, 'windchill_c': 26.9, 'windchill_f': 80.4, 'heatindex_c': 28.4, 'heatindex_f': 83.1, 'dewpoint_c': 18.6, 'dewpoint_f': 65.4, 'will_it_rain': 0, 'chance_of_rain': 0, 'will_it_snow': 0, 'chance_of_snow': 0, 'vis_km': 10.0, 'vis_miles': 6.0, 'gust_mph': 19.6, 'gust_kph': 31.5, 'uv': 5.0}, {'time_epoch': 1739736000, 'time': '2025-02-16 16:00', 'temp_c': 26.5, 'temp_f': 79.8, 'is_day': 1, 'condition': {'text': 'Sunny', 'icon': '//cdn.weatherapi.com/weather/64x64/day/113.png', 'code': 1000}, 'wind_mph': 15.7, 'wind_kph': 25.2, 'wind_degree': 98, 'wind_dir': 'E', 'pressure_mb': 1015.0, 'pressure_in': 29.98, 'precip_mm': 0.0, 'precip_in': 0.0, 'snow_cm': 0.0, 'humidity': 58, 'cloud': 0, 'feelslike_c': 28.0, 'feelslike_f': 82.4, 'windchill_c': 26.5, 'windchill_f': 79.8, 'heatindex_c': 28.0, 'heatindex_f': 82.4, 'dewpoint_c': 18.1, 'dewpoint_f': 64.5, 'will_it_rain': 0, 'chance_of_rain': 0, 'will_it_snow': 0, 'chance_of_snow': 0, 'vis_km': 10.0, 'vis_miles': 6.0, 'gust_mph': 20.5, 'gust_kph': 33.0, 'uv': 2.3}, {'time_epoch': 1739739600, 'time': '2025-02-16 17:00', 'temp_c': 25.8, 'temp_f': 78.4, 'is_day': 1, 'condition': {'text': 'Sunny', 'icon': '//cdn.weatherapi.com/weather/64x64/day/113.png', 'code': 1000}, 'wind_mph': 14.3, 'wind_kph': 23.0, 'wind_degree': 104, 'wind_dir': 'ESE', 'pressure_mb': 1015.0, 'pressure_in': 29.99, 'precip_mm': 0.0, 'precip_in': 0.0, 'snow_cm': 0.0, 'humidity': 62, 'cloud': 0, 'feelslike_c': 27.3, 'feelslike_f': 81.1, 'windchill_c': 25.8, 'windchill_f': 78.4, 'heatindex_c': 27.3, 'heatindex_f': 81.1, 'dewpoint_c': 18.5, 'dewpoint_f': 65.2, 'will_it_rain': 0, 'chance_of_rain': 0, 'will_it_snow': 0, 'chance_of_snow': 0, 'vis_km': 10.0, 'vis_miles': 6.0, 'gust_mph': 19.6, 'gust_kph': 31.5, 'uv': 0.6}, {'time_epoch': 1739743200, 'time': '2025-02-16 18:00', 'temp_c': 24.8, 'temp_f': 76.6, 'is_day': 1, 'condition': {'text': 'Sunny', 'icon': '//cdn.weatherapi.com/weather/64x64/day/113.png', 'code': 1000}, 'wind_mph': 12.5, 'wind_kph': 20.2, 'wind_degree': 112, 'wind_dir': 'ESE', 'pressure_mb': 1016.0, 'pressure_in': 30.0, 'precip_mm': 0.0, 'precip_in': 0.0, 'snow_cm': 0.0, 'humidity': 68, 'cloud': 0, 'feelslike_c': 26.4, 'feelslike_f': 79.6, 'windchill_c': 24.8, 'windchill_f': 76.6, 'heatindex_c': 26.4, 'heatindex_f': 79.6, 'dewpoint_c': 18.8, 'dewpoint_f': 65.8, 'will_it_rain': 0, 'chance_of_rain': 0, 'will_it_snow': 0, 'chance_of_snow': 0, 'vis_km': 10.0, 'vis_miles': 6.0, 'gust_mph': 19.0, 'gust_kph': 30.6, 'uv': 0.0}, {'time_epoch': 1739746800, 'time': '2025-02-16 19:00', 'temp_c': 24.0, 'temp_f': 75.3, 'is_day': 0, 'condition': {'text': 'Clear ', 'icon': '//cdn.weatherapi.com/weather/64x64/night/113.png', 'code': 1000}, 'wind_mph': 11.2, 'wind_kph': 18.0, 'wind_degree': 116, 'wind_dir': 'ESE', 'pressure_mb': 1016.0, 'pressure_in': 30.01, 'precip_mm': 0.0, 'precip_in': 0.0, 'snow_cm': 0.0, 'humidity': 74, 'cloud': 4, 'feelslike_c': 25.8, 'feelslike_f': 78.5, 'windchill_c': 24.0, 'windchill_f': 75.3, 'heatindex_c': 25.8, 'heatindex_f': 78.5, 'dewpoint_c': 18.9, 'dewpoint_f': 66.0, 'will_it_rain': 0, 'chance_of_rain': 0, 'will_it_snow': 0, 'chance_of_snow': 0, 'vis_km': 10.0, 'vis_miles': 6.0, 'gust_mph': 18.9, 'gust_kph': 30.4, 'uv': 0}, {'time_epoch': 1739750400, 'time': '2025-02-16 20:00', 'temp_c': 23.5, 'temp_f': 74.2, 'is_day': 0, 'condition': {'text': 'Clear ', 'icon': '//cdn.weatherapi.com/weather/64x64/night/113.png', 'code': 1000}, 'wind_mph': 10.3, 'wind_kph': 16.6, 'wind_degree': 122, 'wind_dir': 'ESE', 'pressure_mb': 1017.0, 'pressure_in': 30.03, 'precip_mm': 0.0, 'precip_in': 0.0, 'snow_cm': 0.0, 'humidity': 77, 'cloud': 4, 'feelslike_c': 25.4, 'feelslike_f': 77.7, 'windchill_c': 23.5, 'windchill_f': 74.2, 'heatindex_c': 25.4, 'heatindex_f': 77.7, 'dewpoint_c': 19.0, 'dewpoint_f': 66.2, 'will_it_rain': 0, 'chance_of_rain': 0, 'will_it_snow': 0, 'chance_of_snow': 0, 'vis_km': 10.0, 'vis_miles': 6.0, 'gust_mph': 17.7, 'gust_kph': 28.5, 'uv': 0}, {'time_epoch': 1739754000, 'time': '2025-02-16 21:00', 'temp_c': 23.0, 'temp_f': 73.4, 'is_day': 0, 'condition': {'text': 'Clear ', 'icon': '//cdn.weatherapi.com/weather/64x64/night/113.png', 'code': 1000}, 'wind_mph': 9.2, 'wind_kph': 14.8, 'wind_degree': 130, 'wind_dir': 'SE', 'pressure_mb': 1018.0, 'pressure_in': 30.05, 'precip_mm': 0.0, 'precip_in': 0.0, 'snow_cm': 0.0, 'humidity': 79, 'cloud': 6, 'feelslike_c': 25.1, 'feelslike_f': 77.2, 'windchill_c': 23.0, 'windchill_f': 73.4, 'heatindex_c': 25.1, 'heatindex_f': 77.2, 'dewpoint_c': 19.1, 'dewpoint_f': 66.3, 'will_it_rain': 0, 'chance_of_rain': 0, 'will_it_snow': 0, 'chance_of_snow': 0, 'vis_km': 10.0, 'vis_miles': 6.0, 'gust_mph': 16.0, 'gust_kph': 25.7, 'uv': 0}, {'time_epoch': 1739757600, 'time': '2025-02-16 22:00', 'temp_c': 23.6, 'temp_f': 74.4, 'is_day': 0, 'condition': {'text': 'Clear ', 'icon': '//cdn.weatherapi.com/weather/64x64/night/113.png', 'code': 1000}, 'wind_mph': 7.4, 'wind_kph': 11.9, 'wind_degree': 139, 'wind_dir': 'SE', 'pressure_mb': 1018.0, 'pressure_in': 30.06, 'precip_mm': 0.0, 'precip_in': 0.0, 'snow_cm': 0.0, 'humidity': 80, 'cloud': 10, 'feelslike_c': 25.5, 'feelslike_f': 77.9, 'windchill_c': 23.6, 'windchill_f': 74.4, 'heatindex_c': 25.5, 'heatindex_f': 77.9, 'dewpoint_c': 19.0, 'dewpoint_f': 66.3, 'will_it_rain': 0, 'chance_of_rain': 0, 'will_it_snow': 0, 'chance_of_snow': 0, 'vis_km': 10.0, 'vis_miles': 6.0, 'gust_mph': 13.0, 'gust_kph': 20.9, 'uv': 0}, {'time_epoch': 1739761200, 'time': '2025-02-16 23:00', 'temp_c': 22.9, 'temp_f': 73.2, 'is_day': 0, 'condition': {'text': 'Partly Cloudy ', 'icon': '//cdn.weatherapi.com/weather/64x64/night/116.png', 'code': 1003}, 'wind_mph': 5.8, 'wind_kph': 9.4, 'wind_degree': 153, 'wind_dir': 'SSE', 'pressure_mb': 1018.0, 'pressure_in': 30.05, 'precip_mm': 0.0, 'precip_in': 0.0, 'snow_cm': 0.0, 'humidity': 76, 'cloud': 33, 'feelslike_c': 25.1, 'feelslike_f': 77.1, 'windchill_c': 22.9, 'windchill_f': 73.2, 'heatindex_c': 25.1, 'heatindex_f': 77.1, 'dewpoint_c': 19.6, 'dewpoint_f': 67.2, 'will_it_rain': 0, 'chance_of_rain': 0, 'will_it_snow': 0, 'chance_of_snow': 0, 'vis_km': 10.0, 'vis_miles': 6.0, 'gust_mph': 10.3, 'gust_kph': 16.6, 'uv': 0}]}, {'date': '2025-02-17', 'date_epoch': 1739750400, 'day': {'maxtemp_c': 27.3, 'maxtemp_f': 81.1, 'mintemp_c': 22.0, 'mintemp_f': 71.7, 'avgtemp_c': 24.2, 'avgtemp_f': 75.6, 'maxwind_mph': 16.3, 'maxwind_kph': 26.3, 'totalprecip_mm': 0.85, 'totalprecip_in': 0.03, 'totalsnow_cm': 0.0, 'avgvis_km': 10.0, 'avgvis_miles': 6.0, 'avghumidity': 75, 'daily_will_it_rain': 1, 'daily_chance_of_rain': 88, 'daily_will_it_snow': 0, 'daily_chance_of_snow': 0, 'condition': {'text': 'Patchy rain nearby', 'icon': '//cdn.weatherapi.com/weather/64x64/day/176.png', 'code': 1063}, 'uv': 0.1}, 'astro': {'sunrise': '06:51 AM', 'sunset': '06:26 PM', 'moonrise': '10:43 PM', 'moonset': '09:45 AM', 'moon_phase': 'Waning Gibbous', 'moon_illumination': 82, 'is_moon_up': 0, 'is_sun_up': 0}, 'hour': [{'time_epoch': 1739764800, 'time': '2025-02-17 00:00', 'temp_c': 22.6, 'temp_f': 72.6, 'is_day': 0, 'condition': {'text': 'Patchy rain nearby', 'icon': '//cdn.weatherapi.com/weather/64x64/night/176.png', 'code': 1063}, 'wind_mph': 5.1, 'wind_kph': 8.3, 'wind_degree': 139, 'wind_dir': 'SE', 'pressure_mb': 1018.0, 'pressure_in': 30.05, 'precip_mm': 0.02, 'precip_in': 0.0, 'snow_cm': 0.0, 'humidity': 83, 'cloud': 84, 'feelslike_c': 24.8, 'feelslike_f': 76.7, 'windchill_c': 22.6, 'windchill_f': 72.6, 'heatindex_c': 24.8, 'heatindex_f': 76.7, 'dewpoint_c': 19.2, 'dewpoint_f': 66.5, 'will_it_rain': 0, 'chance_of_rain': 63, 'will_it_snow': 0, 'chance_of_snow': 0, 'vis_km': 10.0, 'vis_miles': 6.0, 'gust_mph': 8.9, 'gust_kph': 14.4, 'uv': 0}, {'time_epoch': 1739768400, 'time': '2025-02-17 01:00', 'temp_c': 22.3, 'temp_f': 72.2, 'is_day': 0, 'condition': {'text': 'Patchy rain nearby', 'icon': '//cdn.weatherapi.com/weather/64x64/night/176.png', 'code': 1063}, 'wind_mph': 5.8, 'wind_kph': 9.4, 'wind_degree': 131, 'wind_dir': 'SE', 'pressure_mb': 1017.0, 'pressure_in': 30.04, 'precip_mm': 0.11, 'precip_in': 0.0, 'snow_cm': 0.0, 'humidity': 83, 'cloud': 71, 'feelslike_c': 24.7, 'feelslike_f': 76.5, 'windchill_c': 22.3, 'windchill_f': 72.2, 'heatindex_c': 24.7, 'heatindex_f': 76.5, 'dewpoint_c': 19.3, 'dewpoint_f': 66.8, 'will_it_rain': 1, 'chance_of_rain': 100, 'will_it_snow': 0, 'chance_of_snow': 0, 'vis_km': 10.0, 'vis_miles': 6.0, 'gust_mph': 9.8, 'gust_kph': 15.8, 'uv': 0}, {'time_epoch': 1739772000, 'time': '2025-02-17 02:00', 'temp_c': 22.2, 'temp_f': 71.9, 'is_day': 0, 'condition': {'text': 'Patchy rain nearby', 'icon': '//cdn.weatherapi.com/weather/64x64/night/176.png', 'code': 1063}, 'wind_mph': 6.0, 'wind_kph': 9.7, 'wind_degree': 133, 'wind_dir': 'SE', 'pressure_mb': 1017.0, 'pressure_in': 30.02, 'precip_mm': 0.1, 'precip_in': 0.0, 'snow_cm': 0.0, 'humidity': 85, 'cloud': 76, 'feelslike_c': 24.6, 'feelslike_f': 76.3, 'windchill_c': 22.2, 'windchill_f': 71.9, 'heatindex_c': 24.6, 'heatindex_f': 76.3, 'dewpoint_c': 19.5, 'dewpoint_f': 67.1, 'will_it_rain': 1, 'chance_of_rain': 100, 'will_it_snow': 0, 'chance_of_snow': 0, 'vis_km': 10.0, 'vis_miles': 6.0, 'gust_mph': 10.1, 'gust_kph': 16.3, 'uv': 0}, {'time_epoch': 1739775600, 'time': '2025-02-17 03:00', 'temp_c': 22.1, 'temp_f': 71.8, 'is_day': 0, 'condition': {'text': 'Light rain shower', 'icon': '//cdn.weatherapi.com/weather/64x64/night/353.png', 'code': 1240}, 'wind_mph': 6.3, 'wind_kph': 10.1, 'wind_degree': 139, 'wind_dir': 'SE', 'pressure_mb': 1016.0, 'pressure_in': 30.02, 'precip_mm': 0.19, 'precip_in': 0.01, 'snow_cm': 0.0, 'humidity': 86, 'cloud': 65, 'feelslike_c': 24.6, 'feelslike_f': 76.2, 'windchill_c': 22.1, 'windchill_f': 71.8, 'heatindex_c': 24.6, 'heatindex_f': 76.2, 'dewpoint_c': 19.7, 'dewpoint_f': 67.4, 'will_it_rain': 1, 'chance_of_rain': 100, 'will_it_snow': 0, 'chance_of_snow': 0, 'vis_km': 10.0, 'vis_miles': 6.0, 'gust_mph': 10.4, 'gust_kph': 16.8, 'uv': 0}, {'time_epoch': 1739779200, 'time': '2025-02-17 04:00', 'temp_c': 22.2, 'temp_f': 72.0, 'is_day': 0, 'condition': {'text': 'Patchy rain nearby', 'icon': '//cdn.weatherapi.com/weather/64x64/night/176.png', 'code': 1063}, 'wind_mph': 6.5, 'wind_kph': 10.4, 'wind_degree': 138, 'wind_dir': 'SE', 'pressure_mb': 1016.0, 'pressure_in': 30.01, 'precip_mm': 0.14, 'precip_in': 0.01, 'snow_cm': 0.0, 'humidity': 87, 'cloud': 68, 'feelslike_c': 24.6, 'feelslike_f': 76.3, 'windchill_c': 22.2, 'windchill_f': 72.0, 'heatindex_c': 24.6, 'heatindex_f': 76.3, 'dewpoint_c': 19.8, 'dewpoint_f': 67.6, 'will_it_rain': 1, 'chance_of_rain': 100, 'will_it_snow': 0, 'chance_of_snow': 0, 'vis_km': 10.0, 'vis_miles': 6.0, 'gust_mph': 10.8, 'gust_kph': 17.4, 'uv': 0}, {'time_epoch': 1739782800, 'time': '2025-02-17 05:00', 'temp_c': 22.4, 'temp_f': 72.3, 'is_day': 0, 'condition': {'text': 'Patchy rain nearby', 'icon': '//cdn.weatherapi.com/weather/64x64/night/176.png', 'code': 1063}, 'wind_mph': 7.2, 'wind_kph': 11.5, 'wind_degree': 130, 'wind_dir': 'SE', 'pressure_mb': 1016.0, 'pressure_in': 30.02, 'precip_mm': 0.15, 'precip_in': 0.01, 'snow_cm': 0.0, 'humidity': 86, 'cloud': 65, 'feelslike_c': 24.7, 'feelslike_f': 76.5, 'windchill_c': 22.4, 'windchill_f': 72.3, 'heatindex_c': 24.7, 'heatindex_f': 76.5, 'dewpoint_c': 19.9, 'dewpoint_f': 67.8, 'will_it_rain': 1, 'chance_of_rain': 100, 'will_it_snow': 0, 'chance_of_snow': 0, 'vis_km': 10.0, 'vis_miles': 6.0, 'gust_mph': 11.7, 'gust_kph': 18.9, 'uv': 0}, {'time_epoch': 1739786400, 'time': '2025-02-17 06:00', 'temp_c': 22.5, 'temp_f': 72.5, 'is_day': 0, 'condition': {'text': 'Patchy rain nearby', 'icon': '//cdn.weatherapi.com/weather/64x64/night/176.png', 'code': 1063}, 'wind_mph': 8.1, 'wind_kph': 13.0, 'wind_degree': 120, 'wind_dir': 'ESE', 'pressure_mb': 1017.0, 'pressure_in': 30.03, 'precip_mm': 0.11, 'precip_in': 0.0, 'snow_cm': 0.0, 'humidity': 85, 'cloud': 59, 'feelslike_c': 24.8, 'feelslike_f': 76.6, 'windchill_c': 22.5, 'windchill_f': 72.5, 'heatindex_c': 24.8, 'heatindex_f': 76.6, 'dewpoint_c': 19.9, 'dewpoint_f': 67.8, 'will_it_rain': 1, 'chance_of_rain': 100, 'will_it_snow': 0, 'chance_of_snow': 0, 'vis_km': 10.0, 'vis_miles': 6.0, 'gust_mph': 13.2, 'gust_kph': 21.3, 'uv': 0}, {'time_epoch': 1739790000, 'time': '2025-02-17 07:00', 'temp_c': 23.0, 'temp_f': 73.5, 'is_day': 1, 'condition': {'text': 'Patchy rain nearby', 'icon': '//cdn.weatherapi.com/weather/64x64/day/176.png', 'code': 1063}, 'wind_mph': 8.9, 'wind_kph': 14.4, 'wind_degree': 120, 'wind_dir': 'ESE', 'pressure_mb': 1018.0, 'pressure_in': 30.05, 'precip_mm': 0.02, 'precip_in': 0.0, 'snow_cm': 0.0, 'humidity': 85, 'cloud': 83, 'feelslike_c': 25.2, 'feelslike_f': 77.3, 'windchill_c': 23.0, 'windchill_f': 73.5, 'heatindex_c': 25.2, 'heatindex_f': 77.3, 'dewpoint_c': 19.9, 'dewpoint_f': 67.8, 'will_it_rain': 1, 'chance_of_rain': 86, 'will_it_snow': 0, 'chance_of_snow': 0, 'vis_km': 10.0, 'vis_miles': 6.0, 'gust_mph': 14.8, 'gust_kph': 23.8, 'uv': 0.0}, {'time_epoch': 1739793600, 'time': '2025-02-17 08:00', 'temp_c': 24.0, 'temp_f': 75.2, 'is_day': 1, 'condition': {'text': 'Patchy rain nearby', 'icon': '//cdn.weatherapi.com/weather/64x64/day/176.png', 'code': 1063}, 'wind_mph': 9.6, 'wind_kph': 15.5, 'wind_degree': 117, 'wind_dir': 'ESE', 'pressure_mb': 1018.0, 'pressure_in': 30.07, 'precip_mm': 0.01, 'precip_in': 0.0, 'snow_cm': 0.0, 'humidity': 81, 'cloud': 86, 'feelslike_c': 26.0, 'feelslike_f': 78.7, 'windchill_c': 24.0, 'windchill_f': 75.2, 'heatindex_c': 26.0, 'heatindex_f': 78.7, 'dewpoint_c': 20.1, 'dewpoint_f': 68.2, 'will_it_rain': 1, 'chance_of_rain': 79, 'will_it_snow': 0, 'chance_of_snow': 0, 'vis_km': 10.0, 'vis_miles': 6.0, 'gust_mph': 13.9, 'gust_kph': 22.4, 'uv': 0.9}, {'time_epoch': 1739797200, 'time': '2025-02-17 09:00', 'temp_c': 25.0, 'temp_f': 77.1, 'is_day': 1, 'condition': {'text': 'Patchy rain nearby', 'icon': '//cdn.weatherapi.com/weather/64x64/day/176.png', 'code': 1063}, 'wind_mph': 11.4, 'wind_kph': 18.4, 'wind_degree': 109, 'wind_dir': 'ESE', 'pressure_mb': 1019.0, 'pressure_in': 30.08, 'precip_mm': 0.01, 'precip_in': 0.0, 'snow_cm': 0.0, 'humidity': 74, 'cloud': 73, 'feelslike_c': 26.8, 'feelslike_f': 80.3, 'windchill_c': 25.0, 'windchill_f': 77.1, 'heatindex_c': 26.8, 'heatindex_f': 80.3, 'dewpoint_c': 20.0, 'dewpoint_f': 68.0, 'will_it_rain': 1, 'chance_of_rain': 81, 'will_it_snow': 0, 'chance_of_snow': 0, 'vis_km': 10.0, 'vis_miles': 6.0, 'gust_mph': 14.7, 'gust_kph': 23.7, 'uv': 6.0}, {'time_epoch': 1739800800, 'time': '2025-02-17 10:00', 'temp_c': 25.9, 'temp_f': 78.7, 'is_day': 1, 'condition': {'text': 'Patchy rain nearby', 'icon': '//cdn.weatherapi.com/weather/64x64/day/176.png', 'code': 1063}, 'wind_mph': 13.2, 'wind_kph': 21.2, 'wind_degree': 104, 'wind_dir': 'ESE', 'pressure_mb': 1019.0, 'pressure_in': 30.09, 'precip_mm': 0.01, 'precip_in': 0.0, 'snow_cm': 0.0, 'humidity': 68, 'cloud': 58, 'feelslike_c': 27.6, 'feelslike_f': 81.7, 'windchill_c': 25.9, 'windchill_f': 78.7, 'heatindex_c': 27.6, 'heatindex_f': 81.7, 'dewpoint_c': 19.6, 'dewpoint_f': 67.3, 'will_it_rain': 0, 'chance_of_rain': 65, 'will_it_snow': 0, 'chance_of_snow': 0, 'vis_km': 10.0, 'vis_miles': 6.0, 'gust_mph': 16.4, 'gust_kph': 26.4, 'uv': 6.0}, {'time_epoch': 1739804400, 'time': '2025-02-17 11:00', 'temp_c': 26.6, 'temp_f': 79.8, 'is_day': 1, 'condition': {'text': 'Partly Cloudy ', 'icon': '//cdn.weatherapi.com/weather/64x64/day/116.png', 'code': 1003}, 'wind_mph': 14.3, 'wind_kph': 23.0, 'wind_degree': 98, 'wind_dir': 'E', 'pressure_mb': 1019.0, 'pressure_in': 30.08, 'precip_mm': 0.0, 'precip_in': 0.0, 'snow_cm': 0.0, 'humidity': 64, 'cloud': 33, 'feelslike_c': 28.2, 'feelslike_f': 82.7, 'windchill_c': 26.6, 'windchill_f': 79.8, 'heatindex_c': 28.2, 'heatindex_f': 82.7, 'dewpoint_c': 19.3, 'dewpoint_f': 66.8, 'will_it_rain': 0, 'chance_of_rain': 0, 'will_it_snow': 0, 'chance_of_snow': 0, 'vis_km': 10.0, 'vis_miles': 6.0, 'gust_mph': 17.3, 'gust_kph': 27.9, 'uv': 7.0}, {'time_epoch': 1739808000, 'time': '2025-02-17 12:00', 'temp_c': 26.9, 'temp_f': 80.5, 'is_day': 1, 'condition': {'text': 'Sunny', 'icon': '//cdn.weatherapi.com/weather/64x64/day/113.png', 'code': 1000}, 'wind_mph': 15.0, 'wind_kph': 24.1, 'wind_degree': 91, 'wind_dir': 'E', 'pressure_mb': 1018.0, 'pressure_in': 30.06, 'precip_mm': 0.0, 'precip_in': 0.0, 'snow_cm': 0.0, 'humidity': 61, 'cloud': 9, 'feelslike_c': 28.5, 'feelslike_f': 83.2, 'windchill_c': 26.9, 'windchill_f': 80.5, 'heatindex_c': 28.5, 'heatindex_f': 83.2, 'dewpoint_c': 19.2, 'dewpoint_f': 66.5, 'will_it_rain': 0, 'chance_of_rain': 0, 'will_it_snow': 0, 'chance_of_snow': 0, 'vis_km': 10.0, 'vis_miles': 6.0, 'gust_mph': 17.8, 'gust_kph': 28.6, 'uv': 7.0}, {'time_epoch': 1739811600, 'time': '2025-02-17 13:00', 'temp_c': 27.0, 'temp_f': 80.6, 'is_day': 1, 'condition': {'text': 'Sunny', 'icon': '//cdn.weatherapi.com/weather/64x64/day/113.png', 'code': 1000}, 'wind_mph': 15.9, 'wind_kph': 25.6, 'wind_degree': 87, 'wind_dir': 'E', 'pressure_mb': 1017.0, 'pressure_in': 30.04, 'precip_mm': 0.0, 'precip_in': 0.0, 'snow_cm': 0.0, 'humidity': 60, 'cloud': 0, 'feelslike_c': 28.5, 'feelslike_f': 83.4, 'windchill_c': 27.0, 'windchill_f': 80.6, 'heatindex_c': 28.5, 'heatindex_f': 83.4, 'dewpoint_c': 18.9, 'dewpoint_f': 66.1, 'will_it_rain': 0, 'chance_of_rain': 0, 'will_it_snow': 0, 'chance_of_snow': 0, 'vis_km': 10.0, 'vis_miles': 6.0, 'gust_mph': 18.7, 'gust_kph': 30.1, 'uv': 7.0}, {'time_epoch': 1739815200, 'time': '2025-02-17 14:00', 'temp_c': 27.0, 'temp_f': 80.5, 'is_day': 1, 'condition': {'text': 'Sunny', 'icon': '//cdn.weatherapi.com/weather/64x64/day/113.png', 'code': 1000}, 'wind_mph': 16.3, 'wind_kph': 26.3, 'wind_degree': 87, 'wind_dir': 'E', 'pressure_mb': 1016.0, 'pressure_in': 30.01, 'precip_mm': 0.0, 'precip_in': 0.0, 'snow_cm': 0.0, 'humidity': 61, 'cloud': 0, 'feelslike_c': 28.4, 'feelslike_f': 83.2, 'windchill_c': 27.0, 'windchill_f': 80.5, 'heatindex_c': 28.4, 'heatindex_f': 83.2, 'dewpoint_c': 19.0, 'dewpoint_f': 66.1, 'will_it_rain': 0, 'chance_of_rain': 0, 'will_it_snow': 0, 'chance_of_snow': 0, 'vis_km': 10.0, 'vis_miles': 6.0, 'gust_mph': 19.4, 'gust_kph': 31.2, 'uv': 7.0}, {'time_epoch': 1739818800, 'time': '2025-02-17 15:00', 'temp_c': 26.8, 'temp_f': 80.2, 'is_day': 1, 'condition': {'text': 'Sunny', 'icon': '//cdn.weatherapi.com/weather/64x64/day/113.png', 'code': 1000}, 'wind_mph': 15.9, 'wind_kph': 25.6, 'wind_degree': 88, 'wind_dir': 'E', 'pressure_mb': 1015.0, 'pressure_in': 29.99, 'precip_mm': 0.0, 'precip_in': 0.0, 'snow_cm': 0.0, 'humidity': 62, 'cloud': 0, 'feelslike_c': 28.2, 'feelslike_f': 82.8, 'windchill_c': 26.8, 'windchill_f': 80.2, 'heatindex_c': 28.2, 'heatindex_f': 82.8, 'dewpoint_c': 18.9, 'dewpoint_f': 66.1, 'will_it_rain': 0, 'chance_of_rain': 0, 'will_it_snow': 0, 'chance_of_snow': 0, 'vis_km': 10.0, 'vis_miles': 6.0, 'gust_mph': 19.4, 'gust_kph': 31.2, 'uv': 7.0}, {'time_epoch': 1739822400, 'time': '2025-02-17 16:00', 'temp_c': 26.4, 'temp_f': 79.5, 'is_day': 1, 'condition': {'text': 'Sunny', 'icon': '//cdn.weatherapi.com/weather/64x64/day/113.png', 'code': 1000}, 'wind_mph': 15.2, 'wind_kph': 24.5, 'wind_degree': 90, 'wind_dir': 'E', 'pressure_mb': 1015.0, 'pressure_in': 29.98, 'precip_mm': 0.0, 'precip_in': 0.0, 'snow_cm': 0.0, 'humidity': 63, 'cloud': 0, 'feelslike_c': 27.8, 'feelslike_f': 82.1, 'windchill_c': 26.4, 'windchill_f': 79.5, 'heatindex_c': 27.8, 'heatindex_f': 82.1, 'dewpoint_c': 18.9, 'dewpoint_f': 66.0, 'will_it_rain': 0, 'chance_of_rain': 0, 'will_it_snow': 0, 'chance_of_snow': 0, 'vis_km': 10.0, 'vis_miles': 6.0, 'gust_mph': 19.3, 'gust_kph': 31.1, 'uv': 7.0}, {'time_epoch': 1739826000, 'time': '2025-02-17 17:00', 'temp_c': 25.6, 'temp_f': 78.1, 'is_day': 1, 'condition': {'text': 'Sunny', 'icon': '//cdn.weatherapi.com/weather/64x64/day/113.png', 'code': 1000}, 'wind_mph': 14.1, 'wind_kph': 22.7, 'wind_degree': 91, 'wind_dir': 'E', 'pressure_mb': 1016.0, 'pressure_in': 30.0, 'precip_mm': 0.0, 'precip_in': 0.0, 'snow_cm': 0.0, 'humidity': 66, 'cloud': 0, 'feelslike_c': 27.2, 'feelslike_f': 80.9, 'windchill_c': 25.6, 'windchill_f': 78.1, 'heatindex_c': 27.2, 'heatindex_f': 80.9, 'dewpoint_c': 19.0, 'dewpoint_f': 66.3, 'will_it_rain': 0, 'chance_of_rain': 0, 'will_it_snow': 0, 'chance_of_snow': 0, 'vis_km': 10.0, 'vis_miles': 6.0, 'gust_mph': 18.7, 'gust_kph': 30.1, 'uv': 7.0}, {'time_epoch': 1739829600, 'time': '2025-02-17 18:00', 'temp_c': 24.7, 'temp_f': 76.5, 'is_day': 1, 'condition': {'text': 'Sunny', 'icon': '//cdn.weatherapi.com/weather/64x64/day/113.png', 'code': 1000}, 'wind_mph': 12.5, 'wind_kph': 20.2, 'wind_degree': 96, 'wind_dir': 'E', 'pressure_mb': 1016.0, 'pressure_in': 30.01, 'precip_mm': 0.0, 'precip_in': 0.0, 'snow_cm': 0.0, 'humidity': 71, 'cloud': 4, 'feelslike_c': 26.4, 'feelslike_f': 79.6, 'windchill_c': 24.7, 'windchill_f': 76.5, 'heatindex_c': 26.4, 'heatindex_f': 79.6, 'dewpoint_c': 19.2, 'dewpoint_f': 66.6, 'will_it_rain': 0, 'chance_of_rain': 0, 'will_it_snow': 0, 'chance_of_snow': 0, 'vis_km': 10.0, 'vis_miles': 6.0, 'gust_mph': 18.4, 'gust_kph': 29.6, 'uv': 6.0}, {'time_epoch': 1739833200, 'time': '2025-02-17 19:00', 'temp_c': 24.1, 'temp_f': 75.3, 'is_day': 0, 'condition': {'text': 'Clear ', 'icon': '//cdn.weatherapi.com/weather/64x64/night/113.png', 'code': 1000}, 'wind_mph': 11.4, 'wind_kph': 18.4, 'wind_degree': 104, 'wind_dir': 'ESE', 'pressure_mb': 1017.0, 'pressure_in': 30.02, 'precip_mm': 0.0, 'precip_in': 0.0, 'snow_cm': 0.0, 'humidity': 75, 'cloud': 5, 'feelslike_c': 25.9, 'feelslike_f': 78.6, 'windchill_c': 24.1, 'windchill_f': 75.3, 'heatindex_c': 25.9, 'heatindex_f': 78.6, 'dewpoint_c': 19.2, 'dewpoint_f': 66.5, 'will_it_rain': 0, 'chance_of_rain': 0, 'will_it_snow': 0, 'chance_of_snow': 0, 'vis_km': 10.0, 'vis_miles': 6.0, 'gust_mph': 18.5, 'gust_kph': 29.8, 'uv': 0}, {'time_epoch': 1739836800, 'time': '2025-02-17 20:00', 'temp_c': 23.6, 'temp_f': 74.5, 'is_day': 0, 'condition': {'text': 'Clear ', 'icon': '//cdn.weatherapi.com/weather/64x64/night/113.png', 'code': 1000}, 'wind_mph': 10.3, 'wind_kph': 16.6, 'wind_degree': 109, 'wind_dir': 'ESE', 'pressure_mb': 1017.0, 'pressure_in': 30.05, 'precip_mm': 0.0, 'precip_in': 0.0, 'snow_cm': 0.0, 'humidity': 77, 'cloud': 9, 'feelslike_c': 25.5, 'feelslike_f': 78.0, 'windchill_c': 23.6, 'windchill_f': 74.5, 'heatindex_c': 25.5, 'heatindex_f': 78.0, 'dewpoint_c': 19.3, 'dewpoint_f': 66.7, 'will_it_rain': 0, 'chance_of_rain': 0, 'will_it_snow': 0, 'chance_of_snow': 0, 'vis_km': 10.0, 'vis_miles': 6.0, 'gust_mph': 17.1, 'gust_kph': 27.5, 'uv': 0}, {'time_epoch': 1739840400, 'time': '2025-02-17 21:00', 'temp_c': 23.3, 'temp_f': 73.9, 'is_day': 0, 'condition': {'text': 'Clear ', 'icon': '//cdn.weatherapi.com/weather/64x64/night/113.png', 'code': 1000}, 'wind_mph': 9.4, 'wind_kph': 15.1, 'wind_degree': 111, 'wind_dir': 'ESE', 'pressure_mb': 1018.0, 'pressure_in': 30.06, 'precip_mm': 0.0, 'precip_in': 0.0, 'snow_cm': 0.0, 'humidity': 78, 'cloud': 19, 'feelslike_c': 25.3, 'feelslike_f': 77.5, 'windchill_c': 23.3, 'windchill_f': 73.9, 'heatindex_c': 25.3, 'heatindex_f': 77.5, 'dewpoint_c': 19.2, 'dewpoint_f': 66.6, 'will_it_rain': 0, 'chance_of_rain': 0, 'will_it_snow': 0, 'chance_of_snow': 0, 'vis_km': 10.0, 'vis_miles': 6.0, 'gust_mph': 15.8, 'gust_kph': 25.5, 'uv': 0}, {'time_epoch': 1739844000, 'time': '2025-02-17 22:00', 'temp_c': 23.0, 'temp_f': 73.5, 'is_day': 0, 'condition': {'text': 'Clear ', 'icon': '//cdn.weatherapi.com/weather/64x64/night/113.png', 'code': 1000}, 'wind_mph': 8.9, 'wind_kph': 14.4, 'wind_degree': 116, 'wind_dir': 'ESE', 'pressure_mb': 1018.0, 'pressure_in': 30.06, 'precip_mm': 0.0, 'precip_in': 0.0, 'snow_cm': 0.0, 'humidity': 79, 'cloud': 22, 'feelslike_c': 25.1, 'feelslike_f': 77.2, 'windchill_c': 23.0, 'windchill_f': 73.5, 'heatindex_c': 25.1, 'heatindex_f': 77.2, 'dewpoint_c': 19.1, 'dewpoint_f': 66.4, 'will_it_rain': 0, 'chance_of_rain': 0, 'will_it_snow': 0, 'chance_of_snow': 0, 'vis_km': 10.0, 'vis_miles': 6.0, 'gust_mph': 15.2, 'gust_kph': 24.4, 'uv': 0}, {'time_epoch': 1739847600, 'time': '2025-02-17 23:00', 'temp_c': 22.8, 'temp_f': 73.1, 'is_day': 0, 'condition': {'text': 'Clear ', 'icon': '//cdn.weatherapi.com/weather/64x64/night/113.png', 'code': 1000}, 'wind_mph': 8.5, 'wind_kph': 13.7, 'wind_degree': 119, 'wind_dir': 'ESE', 'pressure_mb': 1018.0, 'pressure_in': 30.06, 'precip_mm': 0.0, 'precip_in': 0.0, 'snow_cm': 0.0, 'humidity': 79, 'cloud': 17, 'feelslike_c': 25.0, 'feelslike_f': 76.9, 'windchill_c': 22.8, 'windchill_f': 73.1, 'heatindex_c': 25.0, 'heatindex_f': 76.9, 'dewpoint_c': 18.9, 'dewpoint_f': 66.0, 'will_it_rain': 0, 'chance_of_rain': 0, 'will_it_snow': 0, 'chance_of_snow': 0, 'vis_km': 10.0, 'vis_miles': 6.0, 'gust_mph': 14.6, 'gust_kph': 23.4, 'uv': 0}]}]}}\n"
     ]
    }
   ],
   "source": [
    "weather_data = get_location_weather(\"San Juan, Puerto Rico\", \"forecast\")\n",
    "print(weather_data)"
   ]
  },
  {
   "cell_type": "code",
   "execution_count": 113,
   "id": "198ad2ce-9fdf-4968-a08d-89bedafd27f5",
   "metadata": {},
   "outputs": [
    {
     "name": "stdout",
     "output_type": "stream",
     "text": [
      "{'location': {'name': 'San Juan', 'region': 'Puerto Rico', 'country': 'United States of America', 'lat': 18.4683, 'lon': -66.1061, 'tz_id': 'America/Puerto_Rico', 'localtime_epoch': 1739481850, 'localtime': '2025-02-13 17:24'}, 'alerts': {'alert': []}}\n"
     ]
    }
   ],
   "source": [
    "weather_data = get_location_weather(\"San Juan, Puerto Rico\", \"alerts\")\n",
    "print(weather_data)"
   ]
  }
 ],
 "metadata": {
  "kernelspec": {
   "display_name": "Python [conda env:base] *",
   "language": "python",
   "name": "conda-base-py"
  },
  "language_info": {
   "codemirror_mode": {
    "name": "ipython",
    "version": 3
   },
   "file_extension": ".py",
   "mimetype": "text/x-python",
   "name": "python",
   "nbconvert_exporter": "python",
   "pygments_lexer": "ipython3",
   "version": "3.12.2"
  }
 },
 "nbformat": 4,
 "nbformat_minor": 5
}
